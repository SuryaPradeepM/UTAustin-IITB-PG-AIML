{
 "cells": [
  {
   "cell_type": "markdown",
   "metadata": {},
   "source": [
    "<h1><span style='font-family: \"Trebuchet MS\", Helvetica, sans-serif;'>Statistical NLP Part-1 - Text Classification\n",
    "</span></h1>"
   ]
  },
  {
   "cell_type": "markdown",
   "metadata": {},
   "source": [
    "<h4><ul>\n",
    "    <li>\n",
    "        <span style=\"font-family: 'Trebuchet MS', Helvetica, sans-serif;\"><strong>DOMAIN:</strong> Digital content management</span>\n",
    "    </li>\n",
    "</ul></h4>"
   ]
  },
  {
   "cell_type": "markdown",
   "metadata": {},
   "source": [
    "<h4><ul>\n",
    "    <li>\n",
    "        <article><strong><span style=\"font-family: 'Trebuchet MS', Helvetica, sans-serif;\">CONTEXT:</span></strong></article>\n",
    "    </li>\n",
    "</ul>\n",
    "<article>\n",
    "    <font face=\"Trebuchet MS, Helvetica, sans-serif\">Classification is probably the most popular task that you would deal with in real life. Text in the form of blogs, posts, articles,\n",
    "etc. is written every second. It is a challenge to predict the information about the writer without knowing about him/her. We are going to\n",
    "create a classifier that predicts multiple features of the author of a given text. We have designed it as a Multi label classification problem</font>\n",
    "</article> </h4>"
   ]
  },
  {
   "cell_type": "markdown",
   "metadata": {},
   "source": [
    "<h4><ul>\n",
    "    <li>\n",
    "        <article><span style=\"font-family: 'Trebuchet MS', Helvetica, sans-serif;\"><strong>DATA DESCRIPTION:</strong></span></article>\n",
    "    </li>\n",
    "</ul>\n",
    "<article><span style=\"font-family: 'Trebuchet MS', Helvetica, sans-serif;\">Over 600,000 posts from more than 19 thousand bloggers The Blog Authorship Corpus consists of the collected posts of 19,320 bloggers gathered from blogger.com in August 2004. The corpus incorporates a total of 681,288 posts and over 140 million\n",
    "words - or approximately 35 posts and 7250 words per person. Each blog is presented as a separate file, the name of which indicates a\n",
    "blogger id# and the blogger’s self-provided gender, age, industry, and astrological sign. (All are labelled for gender and age but for many,\n",
    "industry and/or sign is marked as unknown.)\n",
    "    <a href=\"https://www.kaggle.com/rtatman/blog-authorship-corpus\">[Source]</a></span></article>\n",
    "    </h4>"
   ]
  },
  {
   "cell_type": "markdown",
   "metadata": {},
   "source": [
    "<font face=\"Trebuchet MS, Helvetica, sans-serif\">All bloggers included in the corpus fall into one of three age groups:\n",
    "* 8240 \"10s\" blogs (ages 13-17)\n",
    "* 8086 \"20s\" blogs(ages 23-27) and\n",
    "* 2994 \"30s\" blogs (ages 33-47)\n",
    "\n",
    "For each age group, there is an equal number of male and female bloggers.\n",
    "Each blog in the corpus includes at least 200 occurrences of common English words. All formatting has been stripped with two exceptions.\n",
    "Individual posts within a single blogger are separated by the date of the following post and links within a post are denoted by the label url\n",
    "link.</font>"
   ]
  },
  {
   "cell_type": "markdown",
   "metadata": {},
   "source": [
    "<h4>\n",
    "<ul>\n",
    "    <li><strong><span style=\"font-family: 'Trebuchet MS', Helvetica, sans-serif;\">PROJECT OBJECTIVE:</span></strong></li>\n",
    "</ul>\n",
    "<p><span style=\"font-family: 'Trebuchet MS', Helvetica, sans-serif;\">The need is to build a NLP classifier which can use input text parameters to determine the label/s of the blog.</span></p>\n",
    "    </h4>"
   ]
  },
  {
   "cell_type": "code",
   "execution_count": 1,
   "metadata": {},
   "outputs": [],
   "source": [
    "# !conda install dtale -c conda-forge\n",
    "# if you want to also use \"Export to PNG\" for charts\n",
    "# !conda install -c plotly python-kaleido"
   ]
  },
  {
   "cell_type": "code",
   "execution_count": 2,
   "metadata": {},
   "outputs": [],
   "source": [
    "# imports\n",
    "\n",
    "import os\n",
    "import dtale\n",
    "import random\n",
    "import warnings\n",
    "from time import time\n",
    "from math import floor\n",
    "from pathlib import Path\n",
    "import pandas as pd, numpy as np\n",
    "from pprint import pprint\n",
    "import matplotlib.pyplot as plt\n",
    "import seaborn as sns\n",
    "from tqdm import tqdm\n",
    "from collections import defaultdict\n",
    "import tensorflow as tf\n",
    "tqdm.pandas()\n",
    "warnings.filterwarnings('ignore')\n",
    "%matplotlib inline"
   ]
  },
  {
   "cell_type": "code",
   "execution_count": 3,
   "metadata": {},
   "outputs": [],
   "source": [
    "# reproducibility\n",
    "seed = 7\n",
    "random.seed(seed)"
   ]
  },
  {
   "cell_type": "markdown",
   "metadata": {},
   "source": [
    "<h3><ul>\n",
    "    <li><strong><span style=\"font-family: 'Trebuchet MS', Helvetica, sans-serif;\">Import the data.</span></strong></li>\n",
    "</ul></h3>"
   ]
  },
  {
   "cell_type": "code",
   "execution_count": 4,
   "metadata": {},
   "outputs": [
    {
     "name": "stderr",
     "output_type": "stream",
     "text": [
      "2021-07-25 18:25:51,567 - INFO     - Note: NumExpr detected 16 cores but \"NUMEXPR_MAX_THREADS\" not set, so enforcing safe limit of 8.\n",
      "2021-07-25 18:25:51,568 - INFO     - NumExpr defaulting to 8 threads.\n"
     ]
    },
    {
     "data": {
      "text/html": [
       "\n",
       "        <iframe\n",
       "            width=\"100%\"\n",
       "            height=\"475\"\n",
       "            src=\"http://Scar:40000/dtale/iframe/1\"\n",
       "            frameborder=\"0\"\n",
       "            allowfullscreen\n",
       "        ></iframe>\n",
       "        "
      ],
      "text/plain": [
       "<IPython.lib.display.IFrame at 0x1c3b0913850>"
      ]
     },
     "metadata": {},
     "output_type": "display_data"
    },
    {
     "data": {
      "text/plain": []
     },
     "execution_count": 4,
     "metadata": {},
     "output_type": "execute_result"
    }
   ],
   "source": [
    "blog_df = pd.read_csv('./data/blogtext.csv')\n",
    "d = dtale.show(blog_df)\n",
    "d"
   ]
  },
  {
   "cell_type": "code",
   "execution_count": 5,
   "metadata": {},
   "outputs": [
    {
     "data": {
      "text/plain": [
       "(681284, 7)"
      ]
     },
     "execution_count": 5,
     "metadata": {},
     "output_type": "execute_result"
    }
   ],
   "source": [
    "# 681284 blog texts\n",
    "blog_df.shape "
   ]
  },
  {
   "cell_type": "code",
   "execution_count": 6,
   "metadata": {},
   "outputs": [
    {
     "data": {
      "text/plain": [
       "id        0\n",
       "gender    0\n",
       "age       0\n",
       "topic     0\n",
       "sign      0\n",
       "date      0\n",
       "text      0\n",
       "dtype: int64"
      ]
     },
     "execution_count": 6,
     "metadata": {},
     "output_type": "execute_result"
    }
   ],
   "source": [
    "blog_df.isna().sum()  # no null values, dataset is good in terms of data completeness"
   ]
  },
  {
   "cell_type": "code",
   "execution_count": 7,
   "metadata": {},
   "outputs": [
    {
     "name": "stdout",
     "output_type": "stream",
     "text": [
      "<class 'pandas.core.frame.DataFrame'>\n",
      "RangeIndex: 681284 entries, 0 to 681283\n",
      "Data columns (total 7 columns):\n",
      " #   Column  Non-Null Count   Dtype \n",
      "---  ------  --------------   ----- \n",
      " 0   id      681284 non-null  int64 \n",
      " 1   gender  681284 non-null  object\n",
      " 2   age     681284 non-null  int64 \n",
      " 3   topic   681284 non-null  object\n",
      " 4   sign    681284 non-null  object\n",
      " 5   date    681284 non-null  object\n",
      " 6   text    681284 non-null  object\n",
      "dtypes: int64(2), object(5)\n",
      "memory usage: 36.4+ MB\n"
     ]
    }
   ],
   "source": [
    "blog_df.info()  # topic, sing columns to be converted to categorical and date can be split into day, month, year if required for analysis"
   ]
  },
  {
   "cell_type": "code",
   "execution_count": 8,
   "metadata": {},
   "outputs": [],
   "source": [
    "blog_df['id'] = pd.Categorical(blog_df.id)\n",
    "blog_df['topic'] = pd.Categorical(blog_df.topic)\n",
    "blog_df['sign'] = pd.Categorical(blog_df.sign)\n",
    "blog_df['text'] = blog_df['text'].fillna('').apply(str)"
   ]
  },
  {
   "cell_type": "code",
   "execution_count": 9,
   "metadata": {},
   "outputs": [
    {
     "name": "stdout",
     "output_type": "stream",
     "text": [
      "<class 'pandas.core.frame.DataFrame'>\n",
      "RangeIndex: 681284 entries, 0 to 681283\n",
      "Data columns (total 7 columns):\n",
      " #   Column  Non-Null Count   Dtype   \n",
      "---  ------  --------------   -----   \n",
      " 0   id      681284 non-null  category\n",
      " 1   gender  681284 non-null  object  \n",
      " 2   age     681284 non-null  int64   \n",
      " 3   topic   681284 non-null  category\n",
      " 4   sign    681284 non-null  category\n",
      " 5   date    681284 non-null  object  \n",
      " 6   text    681284 non-null  object  \n",
      "dtypes: category(3), int64(1), object(3)\n",
      "memory usage: 24.0+ MB\n"
     ]
    }
   ],
   "source": [
    "blog_df.info()"
   ]
  },
  {
   "cell_type": "code",
   "execution_count": 10,
   "metadata": {},
   "outputs": [
    {
     "data": {
      "text/plain": [
       "indUnk                     251015\n",
       "Student                    153903\n",
       "Technology                  42055\n",
       "Arts                        32449\n",
       "Education                   29633\n",
       "Communications-Media        20140\n",
       "Internet                    16006\n",
       "Non-Profit                  14700\n",
       "Engineering                 11653\n",
       "Law                          9040\n",
       "Publishing                   7753\n",
       "Science                      7269\n",
       "Government                   6907\n",
       "Consulting                   5862\n",
       "Religion                     5235\n",
       "Fashion                      4851\n",
       "Marketing                    4769\n",
       "Advertising                  4676\n",
       "BusinessServices             4500\n",
       "Banking                      4049\n",
       "Chemicals                    3928\n",
       "Telecommunications           3891\n",
       "Accounting                   3832\n",
       "Military                     3128\n",
       "Museums-Libraries            3096\n",
       "Sports-Recreation            3038\n",
       "HumanResources               3010\n",
       "RealEstate                   2870\n",
       "Transportation               2326\n",
       "Manufacturing                2272\n",
       "Biotech                      2234\n",
       "Tourism                      1942\n",
       "LawEnforcement-Security      1878\n",
       "Architecture                 1638\n",
       "InvestmentBanking            1292\n",
       "Automotive                   1244\n",
       "Agriculture                  1235\n",
       "Construction                 1093\n",
       "Environment                   592\n",
       "Maritime                      280\n",
       "Name: topic, dtype: int64"
      ]
     },
     "execution_count": 10,
     "metadata": {},
     "output_type": "execute_result"
    }
   ],
   "source": [
    "# Imbalanced classes!\n",
    "blog_df.topic.value_counts()"
   ]
  },
  {
   "cell_type": "code",
   "execution_count": 11,
   "metadata": {},
   "outputs": [
    {
     "data": {
      "text/plain": [
       "Cancer         65048\n",
       "Aries          64979\n",
       "Taurus         62561\n",
       "Libra          62363\n",
       "Virgo          60399\n",
       "Scorpio        57161\n",
       "Pisces         54053\n",
       "Leo            53811\n",
       "Gemini         51985\n",
       "Sagittarius    50036\n",
       "Aquarius       49687\n",
       "Capricorn      49201\n",
       "Name: sign, dtype: int64"
      ]
     },
     "execution_count": 11,
     "metadata": {},
     "output_type": "execute_result"
    }
   ],
   "source": [
    "blog_df.sign.value_counts()"
   ]
  },
  {
   "cell_type": "code",
   "execution_count": 12,
   "metadata": {},
   "outputs": [],
   "source": [
    "# !pip install langdetect"
   ]
  },
  {
   "cell_type": "code",
   "execution_count": 13,
   "metadata": {},
   "outputs": [
    {
     "name": "stderr",
     "output_type": "stream",
     "text": [
      "100%|█████████████████████████████████████████████████████████████████████████████| 5000/5000 [00:28<00:00, 174.63it/s]"
     ]
    },
    {
     "name": "stdout",
     "output_type": "stream",
     "text": [
      "Unique languages in the reviews: ['af' 'cy' 'da' 'de' 'en' 'es' 'et' 'fi' 'fr' 'hu' 'id' 'it' 'ko' 'lt'\n",
      " 'nl' 'no' 'pl' 'pt' 'ro' 'ru' 'sk' 'sl' 'so' 'sv' 'tl' 'tr' 'vi' 'zh-cn']\n"
     ]
    },
    {
     "name": "stderr",
     "output_type": "stream",
     "text": [
      "\n"
     ]
    }
   ],
   "source": [
    "# Looking for languages\n",
    "from langdetect import detect_langs, LangDetectException\n",
    "from collections import defaultdict\n",
    "\n",
    "languages = []\n",
    "lang_samples = defaultdict(list)\n",
    "# pick random texts out of the dataset as langauge detection on every text is not feasible\n",
    "samples = np.random.choice(len(blog_df.text), size=5000, replace=False)\n",
    "# Loop over the rows of the dataset and append  \n",
    "for row in tqdm(samples):\n",
    "    try:\n",
    "        text = blog_df.text[row]\n",
    "        lang = detect_langs(text)\n",
    "        clean_lang = str(lang).split(':')[0][1:]\n",
    "        lang_samples[clean_lang].append(text)\n",
    "        languages.append(clean_lang)\n",
    "    except LangDetectException:\n",
    "        pass\n",
    "\n",
    "print(\"Unique languages in the reviews: \"\n",
    "     f\"{np.unique(languages)}\")"
   ]
  },
  {
   "cell_type": "code",
   "execution_count": 14,
   "metadata": {},
   "outputs": [
    {
     "name": "stdout",
     "output_type": "stream",
     "text": [
      "en\n",
      "[\"            NOTE: You may want to edit your posts so they don't include the HeppSTAW name, folks... would you really want (P)ank (Fr)ate finding out how much you weight? And since blogs ARE included in most search engines....             \"]\n",
      "\n",
      "de\n",
      "['    urlLink    Gerbera&nbsp; urlLink    ']\n",
      "\n",
      "lt\n",
      "['        urlLink     &nbsp; urlLink            ']\n",
      "\n",
      "nl\n",
      "['        urlLink    costume jewelry  urlLink        ']\n",
      "\n",
      "tl\n",
      "['           Hintayin ko na tanong ni Debb para maging organized ang game.         ']\n",
      "\n",
      "no\n",
      "[\"        urlLink jonbetter.com's breakout     \"]\n",
      "\n",
      "af\n",
      "['        urlLink    Room 309, The Premier Room&nbsp; urlLink            ']\n",
      "\n",
      "sv\n",
      "['            urlLink    Tavallodi Digar - Shoja&#39;eddin Shafa&nbsp; urlLink            ']\n",
      "\n",
      "da\n",
      "['       *deleted*    ']\n",
      "\n",
      "et\n",
      "['       aaaaaaaaaaaaaw, kate finks mitch is one in a million. shame she still likes u-know-who.         ']\n",
      "\n",
      "hu\n",
      "['        urlLink    Get A Job    ']\n",
      "\n",
      "pl\n",
      "['             My two babies.         ']\n",
      "\n",
      "id\n",
      "[\"                 leaving dundee tomorrow. yeaah!!! waitin' to see kak minn cos she'll be leaving dundee in august for good.. isk isk... my sis angkat. One of the reasons why i chose dundee over aberdeen and leeds.   anyways.. the following has been copied from www.utusan.com.my. thought i'd paste it on my blog for my own personal reading in future.. hahahahah. MY DAD SHOULD REALLY READ THIS!!! especially  the last bit!  Doktor pakar diberi layanan kelas kedua kenaikan pangkat Saudara Pengarang, KENYATAAN Menteri Kesihatan di Parlimen pada 7 Julai 2004 yang disiarkan oleh akhbar Utusan Malaysia adalah dirujuk. Beliau mendakwa sehingga 31 Mei 2004, masih terdapat 875 jawatan pegawai perubatan pakar pelbagai bidang yang belum diisi daripada sejumlah 2,397 jawatan pegawai perubatan pakar di Kementerian Kesihatan Malaysia.   Di sini, saya dengan sebulat suara menyokong kenyataan beliau dan ia amat berpatutan dengan iklan yang dikeluarkan oleh Kementerian Kesihatan yang disiarkan di laman web kementerian (untuk sesiapa yang berminat membacanya, www.moh.gov.my).   Namun begitu, janganlah rakyat Malaysia terkejut, jika semakin ramai pegawai perubatan pakar yang akan meletakkan jawatan mereka disebabkan iklan ini.  Untuk pengetahuan semua, gelaran doktor perubatan adalah bersamaan dengan pegawai perubatan di dalam skim perkhidmatan kerajaan.  Untuk pengetahuan pembaca, sebelum Skim SSM (Sistem Saraan Malaysia) diperkenalkan, kenaikan pangkat untuk jawatan pegawai perubatan pakar di dalam Skim SSB (Sistem Saraan Baru) adalah dari gred U3 ke gred U2. Gaji untuk pegawai perubatan pakar klinikal gred U3 untuk skim SSB adalah di dalam lingkungan RM5,012.81 (iaitu selepas mendapat hadiah dua kenaikan gaji dan bayaran insentif pakar apabila seseorang pegawai perubatan lulus ijazah sarjana kepakaran dan diwartakan sebagai pakar).   Apabila dinaikkan pangkat ke gred U2 di dalam SSB, seorang pegawai perubatan pakar gred U2 akan menerima imbuhan gaji di dalam lingkungan RM6,988.51. Kenaikan pangkat ke gred U2 ini akan dinikmati oleh pegawai perubatan pakar tersebut setelah dua hingga tiga tahun diwartakan sebagai pakar klinikal di gred U3.   Ini merupakan pertambahan gaji sebanyak RM1,975.70, satu jumlah yang agak berpatutan.   Bagaimanapun kami hanya nikmati setelah terpaksa bertungkus lumus untuk menamatkan pengajian di peringkat sarjana kepakaran yang mengambil masa selama empat hingga lima tahun (tidak termasuk ijazah sarjana muda doktor perubatan, M.D, M.B.B.S, yang telah diambil dalam masa enam hingga tujuh tahun).  Tetapi lain pula halnya di dalam SSM yang diperkenalkan pada penghujung tahun 2002, jawatan kami sebagai pegawai perubatan pakar klinikal gred U41 hanya dinaikkan ke pegawai perubatan pakar gred U44 (sepatutnya jawatan setara yang perlu ditawarkan untuk kenaikan pangkat di dalam SSM untuk pegawai perubatan pakar adalah pada gred U48 iaitu bersamaan gred U2 untuk skim SSB).   Gaji yang kami nikmati untuk jawatan pegawai perubatan pakar klinikal gred U41 adalah di dalam lingkungan RM5,177.81 dan apabila kami dinaikkan pangkat ke gred U44 (selepas diwartakan dan semestinya perlu lulus peperiksaan Penilaian Tahap Kecekapan, SSM), gaji baru yang akan kami nikmati hanyalah RM5,631.23. iaitu kenaikan sebanyak RM453.42.   Bayangkanlah pertambahan gaji sebanyak itu yang kami akan dapat di dalam Skim SSM setelah bertungkus lumus belajar untuk mendapatkan ijazah kepakaran.   Untuk pengetahuan pembaca, gaji pegawai perubatan pakar gred U48 skim SSM adalah bermula daripada RM7,303.51. Suatu perbezaan yang amat ketara di dalam skim SSM yang diperkenalkan berbanding skim SSB.  Pada pendapat saya, jika seseorang hanyalah pegawai perubatan gred U41 yang tidak mempunyai ijazah kepakaran dan dinaikkan ke gred U44, itu merupakan satu rezeki. Tetapi yang saya tidak faham, kenapalah kenaikan pangkat ke gred U44 ini diperkenalkan kepada pegawai perubatan yang mempunyai kepakaran klinikal.  Kenapa, pihak kementerian tidak mahu memperkenalkan kembali skim kenaikan pangkat ke gred kanan kepada pegawai perubatan, seperti yang diamalkan sewaktu Jawatankuasa Kabinet 1976, yang memberikan kenaikan pangkat kepada semua pegawai perubatan yang telah berkhidmat selama lima tahun.   Gred U43/U44 boleh digunakan sebagai gred kanan. Manakala Gred U47/U48 dan ke atas dijadikan gred kenaikan pangkat untuk pegawai perubatan pakar dan juga kepada pegawai perubatan yang cemerlang dan sebagainya.  Sebagai kesimpulan dari tulisan saya ini,  1. Pihak kementerian sememangnya menggalakkan pegawai perubatan pakar rakyat Malaysia untuk berhijrah, kerana mereka boleh mendapatkan khidmat pegawai perubatan pakar dari luar. Yang menariknya di sini untuk khidmat pakar dari luar, kementerian menawarkan Gred permulaan U48 sehingga ke gred U54 untuk pegawai-pegawai perubatan pakar dari luar ini, yang sesetengahnya tidak diketahui asal-usul ijazah kepakaran mereka ambil. Bukanlah pegawai perubatan pakar ini tidak mahu berkhidmat di hospital-hospital kerajaan, tetapi sebenarnya kami merasakan yang kami ini dianak-tirikan dan diberi layanan kelas kedua oleh Kementerian Kesihatan.  2. Hospital-hospital kerajaan akan sentiasa dianggap sebagai hospital kelas kedua oleh rakyat Malaysia. Ini kerana kebanyakan penghijrahan pakar ini merupakan pakar-pakar muda yang bercita-cita tinggi untuk menjadi seorang pakar khusus/sub-kepakaran.   Dengan itu, hospital kerajaan akan tinggal dengan pakar-pakar perunding yang akan bersara dan tiada kelebihan di bidang sub-kepakaran berbanding pegawai perubatan pakar yang masih muda.   Jikapun mereka ini pergi melanjutkan pengajian di bidang sub-kepakaran, berapa lama sangat yang mereka dapat berkhidmat.   Selepas itu mereka pun bersara dan menyertai pihak swasta dengan sub-kepakaran mereka. Inilah fenomena yang kita alami sekarang ini di mana hospital-hospital swasta disanjung tinggi oleh rakyat, walaupun terpaksa membayar kos rawatan yang begitu tinggi.   Dari manakah datangnya pakar yang berkhidmat di hospital swasta ini, jika bukan daripada penghijrahan dari sektor awam.  3. Untuk adik-adik yang terlalu amat meminati bidang perubatan. Bidang perubatan bukanlah bidang yang `glamour'. Ia memerlukan jiwa yang kental dan masa yang amat-amat panjang untuk mengharungi bidang ini.   Janganlah mengharapkan imbuhan yang luar biasa dari bidang ini (kecualilah jika anda berazam untuk meninggalkan sektor awam selepas tamat belajar). Teruskan niat jika anda mencintai bidang perubatan yang sememangnya memerlukan ketabahan mental dan fizikal. - DOKTOR PAKAR KERAJAAN, Batu Ferringhi, Pulau Pinang.                    \"]\n",
      "\n",
      "so\n",
      "['       o man ooo man          ']\n",
      "\n",
      "sk\n",
      "['           zoom         ']\n",
      "\n",
      "cy\n",
      "['           hey o.d.         ']\n",
      "\n",
      "fr\n",
      "[\"       That's just noise, Dave.         \"]\n",
      "\n",
      "es\n",
      "[\"             la vida es una cosa curiosa... y ms cuando uno acaba de comer, justo ahorita todo se siente 'lento' y no dan ganas de nada... solo de pensar... probablemente por eso varios filosofos eran 'rellenitos'... se la pasaban comiendo y gozando de ese curioso estado de letargo que te crea la sensacin de estar saciado por una buena comida...  lo nico que falto fue el vino... un buen vino tinto junto con esa lasagna que nos acabamos de hechar hubiera sido la onda...  y es que bien dicen 'despus de comer, ni una carta leer'... he he he...  as que yo solo y mis pensamientos nos la pasamos muy bien... no entiendo como todo mundo se puede poner a trabajar luego luego... ESO NO ESTA BIEN!!... debe uno de dejar descansar la comida...  por cierto, hablando de comida y otros pecados, mi cinturn que no creo que heche mentiras, ya me dice que definitivamente mi talla esta cambiando... por ms que la bscula quiera verse condescendiente creo que definitivamente estoy subiendo de peso... muy triste!!... mas que nada por mi espalda y todas esas cosas...  el lunes comenzar una especie de dieta, que ms bien va a constar de eliminar de mi hbitos todos esos gansitos y cocas que he consumido ultimaente... me va a costar trabajo dejarlos... pero va a ser necesario...         \"]\n",
      "\n",
      "fi\n",
      "['           How did you put yours on?  Telllllllllllllllllllll meeeeeeeeeeee.  MOOOOOOOOOOOOOOORTAAAAAAAAAAAAAAAAR!         ']\n",
      "\n",
      "pt\n",
      "['               PARENTAL      ADVISORY     ODREAMS0COME0TRUEO CONTAINS EXPLICIT LYRICS     Username:     From  urlLink Go-Quiz.com           ']\n",
      "\n",
      "it\n",
      "['                  Hello               ']\n",
      "\n",
      "tr\n",
      "['        urlLink    Smiley happy Delu    ']\n",
      "\n",
      "ru\n",
      "['             ҵ·ͣ    ɰҵģҺϲоȽҡеɵееƤ  ˵·ҿȽͬҲ˿ͬζɡ         ']\n",
      "\n",
      "ro\n",
      "['             Straight people  urlLink are so cute ...         ']\n",
      "\n",
      "ko\n",
      "['                 最終 只要對得起自己 就夠了吧 ...  對於那些 睜眼說瞎話的混蛋 ........  即使死不承認說過哪些話 作過哪些事  其實他們心裡明明 深深記得的  呼嚨 只是他們保護自己的手段  裝死 只是他們最後防衛的武器  在裝死的瞬間 才能變態的得到一點點解脫  可憐的是他們 活在自以為的世界裡 永遠逃不出來  在對不起良心的地獄裡 死過千遍萬遍                 ']\n",
      "\n",
      "vi\n",
      "['             Tic Toc          ']\n",
      "\n",
      "zh-cn\n",
      "['       [ 亲近则易生悔慢之心 ]  有时候，我们会对别人授予的小惠[ 感激不尽 ]， 欲对亲人，父母的一辈子恩情[ 视而不见 ]！ 因为，亲人对我们来说，太亲近了，说以我们看不见他们的好、看不见他们的牺牲！我们把亲人幸苦的照顾、爱护，视为[ 理所当然 ]！有时为了小争执，还有[憎恨]他们，而不知[ 心存感激 ]！ 西方有句话说，[ 上帝又两个住处，一个是在天堂，另一个是在感恩者的心里 ！] 是的，常[ 心存感谢 ]的人是快乐的；一颗[ 知恩的心 ]，也就是[ 快乐的心 ]，上帝将住在其中！ 且让我们学习——[ 多想想别人的好，忘记别人的不好 ]、[ 对所得恩典的谢意，能与争取恩典时一样地热心 ]，则我们心中将更充满爱，也将如在天堂一样快乐。           ']\n",
      "\n",
      "sl\n",
      "['       I need some sake soon.....ZzzzZzzz         ']\n",
      "\n"
     ]
    }
   ],
   "source": [
    "for i in lang_samples:\n",
    "    print(i)\n",
    "    print(random.sample(lang_samples[i], 1))\n",
    "    print('')"
   ]
  },
  {
   "cell_type": "markdown",
   "metadata": {},
   "source": [
    "<h5><ul>\n",
    "<span style=\"font-family: 'Trebuchet MS', Helvetica, sans-serif;\">\n",
    "    <li>There are multiple languages and character sets in the dataset!\n",
    " </span></ul></h5>"
   ]
  },
  {
   "cell_type": "markdown",
   "metadata": {},
   "source": [
    "<h3><ul>\n",
    "    <li><strong><span style=\"font-family: 'Trebuchet MS', Helvetica, sans-serif;\">Visualize</span></strong></li>\n",
    "</ul></h3>"
   ]
  },
  {
   "cell_type": "code",
   "execution_count": 15,
   "metadata": {},
   "outputs": [
    {
     "data": {
      "text/plain": [
       "Index(['id', 'gender', 'age', 'topic', 'sign', 'date', 'text'], dtype='object')"
      ]
     },
     "execution_count": 15,
     "metadata": {},
     "output_type": "execute_result"
    }
   ],
   "source": [
    "blog_df.columns"
   ]
  },
  {
   "cell_type": "code",
   "execution_count": 16,
   "metadata": {},
   "outputs": [
    {
     "data": {
      "image/png": "[encoded data removed]",
      "text/plain": [
       "<Figure size 324x324 with 1 Axes>"
      ]
     },
     "metadata": {},
     "output_type": "display_data"
    }
   ],
   "source": [
    "# plotting the gender distribution\n",
    "\n",
    "males = len(blog_df[blog_df['gender'] == 'male'])\n",
    "females = len(blog_df[blog_df['gender'] == 'female'])\n",
    "plt.pie(x=[males, females], explode=(0, 0), labels=['Male', 'Female'], autopct='%1.2f%%',\n",
    "        shadow=True, startangle=100, colors=['#aec6cf', '#ffac81'])\n",
    "fig = plt.gcf()\n",
    "fig.set_size_inches(4.5, 4.5)\n",
    "plt.title('Gender Distribution')\n",
    "plt.show()"
   ]
  },
  {
   "cell_type": "code",
   "execution_count": 17,
   "metadata": {},
   "outputs": [
    {
     "data": {
      "image/png": "[encoded data removed]",
      "text/plain": [
       "<Figure size 1200x840 with 1 Axes>"
      ]
     },
     "metadata": {
      "needs_background": "light"
     },
     "output_type": "display_data"
    }
   ],
   "source": [
    "# plotting topic counts distribution\n",
    "plt.figure(figsize=(10, 7), dpi=120)\n",
    "sns.countplot(y='topic', data=blog_df, order=blog_df.topic.value_counts().index)\n",
    "plt.title('Topics Count Plot')\n",
    "plt.show()"
   ]
  },
  {
   "cell_type": "code",
   "execution_count": 18,
   "metadata": {},
   "outputs": [
    {
     "data": {
      "image/png": "[encoded data removed]",
      "text/plain": [
       "<Figure size 840x480 with 1 Axes>"
      ]
     },
     "metadata": {
      "needs_background": "light"
     },
     "output_type": "display_data"
    }
   ],
   "source": [
    "# plotting sign counts distribution\n",
    "plt.figure(figsize=(7, 4), dpi=120)\n",
    "sns.countplot(y='sign', data=blog_df, order=blog_df.sign.value_counts().index)\n",
    "plt.title('Signs Count Plot')\n",
    "plt.show()"
   ]
  },
  {
   "cell_type": "code",
   "execution_count": 19,
   "metadata": {},
   "outputs": [],
   "source": [
    "from collections import Counter\n",
    "\n",
    "# top 50 most frequent words in text\n",
    "top_N = 50\n",
    "\n",
    "words = (blog_df.text.str.cat(sep=' ').split())\n",
    "rslt = pd.DataFrame(Counter(words).most_common(top_N),\n",
    "                    columns=['Word', 'Frequency']).set_index('Word')"
   ]
  },
  {
   "cell_type": "code",
   "execution_count": 20,
   "metadata": {},
   "outputs": [
    {
     "data": {
      "text/html": [
       "<div>\n",
       "<style scoped>\n",
       "    .dataframe tbody tr th:only-of-type {\n",
       "        vertical-align: middle;\n",
       "    }\n",
       "\n",
       "    .dataframe tbody tr th {\n",
       "        vertical-align: top;\n",
       "    }\n",
       "\n",
       "    .dataframe thead th {\n",
       "        text-align: right;\n",
       "    }\n",
       "</style>\n",
       "<table border=\"1\" class=\"dataframe\">\n",
       "  <thead>\n",
       "    <tr style=\"text-align: right;\">\n",
       "      <th>Word</th>\n",
       "      <th>the</th>\n",
       "      <th>to</th>\n",
       "      <th>I</th>\n",
       "      <th>and</th>\n",
       "      <th>a</th>\n",
       "      <th>of</th>\n",
       "      <th>in</th>\n",
       "      <th>that</th>\n",
       "      <th>is</th>\n",
       "      <th>my</th>\n",
       "      <th>...</th>\n",
       "      <th>urlLink</th>\n",
       "      <th>they</th>\n",
       "      <th>get</th>\n",
       "      <th>will</th>\n",
       "      <th>one</th>\n",
       "      <th>what</th>\n",
       "      <th>do</th>\n",
       "      <th>can</th>\n",
       "      <th>if</th>\n",
       "      <th>when</th>\n",
       "    </tr>\n",
       "  </thead>\n",
       "  <tbody>\n",
       "    <tr>\n",
       "      <th>Frequency</th>\n",
       "      <td>4785809</td>\n",
       "      <td>3842654</td>\n",
       "      <td>3546837</td>\n",
       "      <td>3303447</td>\n",
       "      <td>2750057</td>\n",
       "      <td>2362870</td>\n",
       "      <td>1600803</td>\n",
       "      <td>1540799</td>\n",
       "      <td>1318972</td>\n",
       "      <td>1300183</td>\n",
       "      <td>...</td>\n",
       "      <td>383203</td>\n",
       "      <td>375996</td>\n",
       "      <td>373894</td>\n",
       "      <td>356786</td>\n",
       "      <td>353458</td>\n",
       "      <td>344863</td>\n",
       "      <td>333600</td>\n",
       "      <td>322942</td>\n",
       "      <td>320169</td>\n",
       "      <td>319320</td>\n",
       "    </tr>\n",
       "  </tbody>\n",
       "</table>\n",
       "<p>1 rows × 50 columns</p>\n",
       "</div>"
      ],
      "text/plain": [
       "Word           the       to        I      and        a       of       in  \\\n",
       "Frequency  4785809  3842654  3546837  3303447  2750057  2362870  1600803   \n",
       "\n",
       "Word          that       is       my  ...  urlLink    they     get    will  \\\n",
       "Frequency  1540799  1318972  1300183  ...   383203  375996  373894  356786   \n",
       "\n",
       "Word          one    what      do     can      if    when  \n",
       "Frequency  353458  344863  333600  322942  320169  319320  \n",
       "\n",
       "[1 rows x 50 columns]"
      ]
     },
     "execution_count": 20,
     "metadata": {},
     "output_type": "execute_result"
    }
   ],
   "source": [
    "rslt[:50].transpose()"
   ]
  },
  {
   "cell_type": "code",
   "execution_count": 21,
   "metadata": {},
   "outputs": [
    {
     "data": {
      "image/png": "[encoded data removed]",
      "text/plain": [
       "<Figure size 2160x576 with 1 Axes>"
      ]
     },
     "metadata": {
      "needs_background": "light"
     },
     "output_type": "display_data"
    }
   ],
   "source": [
    "rslt.plot.bar(rot=0, figsize=(30,8), width=0.55)\n",
    "plt.xticks(rotation=90)\n",
    "plt.show()"
   ]
  },
  {
   "cell_type": "code",
   "execution_count": 22,
   "metadata": {},
   "outputs": [
    {
     "name": "stdout",
     "output_type": "stream",
     "text": [
      "['the', 'to', 'I', 'and', 'a', 'of', 'in', 'that', 'is', 'my', 'was', 'for',\n",
      " 'it', 'you', 'i', 'on', 'have', 'with', 'be', 'but', 'this', 'me', 'at', 'so',\n",
      " 'not', 'we', 'as', 'are', 'all', 'just', 'like', 'about', 'he', 'The', 'out',\n",
      " 'or', 'from', 'up', 'had', \"I'm\", 'urlLink', 'they', 'get', 'will', 'one',\n",
      " 'what', 'do', 'can', 'if', 'when']\n"
     ]
    }
   ],
   "source": [
    "pprint(rslt.index.tolist(), compact=True)"
   ]
  },
  {
   "cell_type": "markdown",
   "metadata": {},
   "source": [
    "<h5><ul>\n",
    "<span style=\"font-family: 'Trebuchet MS', Helvetica, sans-serif;\">\n",
    "    <li>Many stopwords are occuring most frequently in the dataset, We will clean these in the preprocessing step\n",
    " </span></ul></h5>"
   ]
  },
  {
   "cell_type": "code",
   "execution_count": 23,
   "metadata": {},
   "outputs": [
    {
     "name": "stderr",
     "output_type": "stream",
     "text": [
      "100%|████████████████████████████████████████████████████████████████████████| 681284/681284 [11:02<00:00, 1028.75it/s]\n"
     ]
    }
   ],
   "source": [
    "def get_text_len(row):\n",
    "    row['char_len'] = len(row.text)\n",
    "    row['word_len'] = len(row.text.split())\n",
    "    return row\n",
    "\n",
    "blog_df = blog_df.progress_apply(get_text_len, axis=1)"
   ]
  },
  {
   "cell_type": "code",
   "execution_count": 24,
   "metadata": {},
   "outputs": [
    {
     "data": {
      "image/png": "[encoded data removed]",
      "text/plain": [
       "<Figure size 4000x1000 with 2 Axes>"
      ]
     },
     "metadata": {
      "needs_background": "light"
     },
     "output_type": "display_data"
    }
   ],
   "source": [
    "plt.figure(figsize=(20, 5), dpi=200)\n",
    "ax = sns.histplot(x=blog_df.char_len, kde=True, bins=130)\n",
    "ax2 = ax.twinx()\n",
    "sns.boxplot(x=blog_df.char_len, ax=ax2, color='#EE6050')\n",
    "ax2.set(ylim=(-.75, .75))\n",
    "plt.title('Line Character Length Distribution')\n",
    "plt.show()"
   ]
  },
  {
   "cell_type": "code",
   "execution_count": 25,
   "metadata": {},
   "outputs": [
    {
     "data": {
      "image/png": "[encoded data removed]",
      "text/plain": [
       "<Figure size 4000x1000 with 2 Axes>"
      ]
     },
     "metadata": {
      "needs_background": "light"
     },
     "output_type": "display_data"
    }
   ],
   "source": [
    "plt.figure(figsize=(20, 5), dpi=200)\n",
    "ax = sns.histplot(x=blog_df.word_len, kde=True, bins=130)\n",
    "ax2 = ax.twinx()\n",
    "sns.boxplot(x=blog_df.word_len, ax=ax2, color='#EE6050')\n",
    "ax2.set(ylim=(-.75, .75))\n",
    "plt.title('Line Word Length Distribution')\n",
    "plt.show()"
   ]
  },
  {
   "cell_type": "code",
   "execution_count": 26,
   "metadata": {},
   "outputs": [
    {
     "data": {
      "text/html": [
       "<div>\n",
       "<style scoped>\n",
       "    .dataframe tbody tr th:only-of-type {\n",
       "        vertical-align: middle;\n",
       "    }\n",
       "\n",
       "    .dataframe tbody tr th {\n",
       "        vertical-align: top;\n",
       "    }\n",
       "\n",
       "    .dataframe thead th {\n",
       "        text-align: right;\n",
       "    }\n",
       "</style>\n",
       "<table border=\"1\" class=\"dataframe\">\n",
       "  <thead>\n",
       "    <tr style=\"text-align: right;\">\n",
       "      <th></th>\n",
       "      <th>id</th>\n",
       "      <th>age</th>\n",
       "      <th>char_len</th>\n",
       "      <th>word_len</th>\n",
       "    </tr>\n",
       "  </thead>\n",
       "  <tbody>\n",
       "    <tr>\n",
       "      <th>count</th>\n",
       "      <td>6.812840e+05</td>\n",
       "      <td>681284.000000</td>\n",
       "      <td>681284.000000</td>\n",
       "      <td>681284.000000</td>\n",
       "    </tr>\n",
       "    <tr>\n",
       "      <th>mean</th>\n",
       "      <td>2.397802e+06</td>\n",
       "      <td>23.932326</td>\n",
       "      <td>1120.730698</td>\n",
       "      <td>200.786742</td>\n",
       "    </tr>\n",
       "    <tr>\n",
       "      <th>std</th>\n",
       "      <td>1.247723e+06</td>\n",
       "      <td>7.786009</td>\n",
       "      <td>2328.437003</td>\n",
       "      <td>415.160622</td>\n",
       "    </tr>\n",
       "    <tr>\n",
       "      <th>min</th>\n",
       "      <td>5.114000e+03</td>\n",
       "      <td>13.000000</td>\n",
       "      <td>4.000000</td>\n",
       "      <td>0.000000</td>\n",
       "    </tr>\n",
       "    <tr>\n",
       "      <th>25%</th>\n",
       "      <td>1.239610e+06</td>\n",
       "      <td>17.000000</td>\n",
       "      <td>230.000000</td>\n",
       "      <td>37.000000</td>\n",
       "    </tr>\n",
       "    <tr>\n",
       "      <th>50%</th>\n",
       "      <td>2.607577e+06</td>\n",
       "      <td>24.000000</td>\n",
       "      <td>637.000000</td>\n",
       "      <td>112.000000</td>\n",
       "    </tr>\n",
       "    <tr>\n",
       "      <th>75%</th>\n",
       "      <td>3.525660e+06</td>\n",
       "      <td>26.000000</td>\n",
       "      <td>1407.000000</td>\n",
       "      <td>255.000000</td>\n",
       "    </tr>\n",
       "    <tr>\n",
       "      <th>max</th>\n",
       "      <td>4.337650e+06</td>\n",
       "      <td>48.000000</td>\n",
       "      <td>790123.000000</td>\n",
       "      <td>131169.000000</td>\n",
       "    </tr>\n",
       "  </tbody>\n",
       "</table>\n",
       "</div>"
      ],
      "text/plain": [
       "                 id            age       char_len       word_len\n",
       "count  6.812840e+05  681284.000000  681284.000000  681284.000000\n",
       "mean   2.397802e+06      23.932326    1120.730698     200.786742\n",
       "std    1.247723e+06       7.786009    2328.437003     415.160622\n",
       "min    5.114000e+03      13.000000       4.000000       0.000000\n",
       "25%    1.239610e+06      17.000000     230.000000      37.000000\n",
       "50%    2.607577e+06      24.000000     637.000000     112.000000\n",
       "75%    3.525660e+06      26.000000    1407.000000     255.000000\n",
       "max    4.337650e+06      48.000000  790123.000000  131169.000000"
      ]
     },
     "execution_count": 26,
     "metadata": {},
     "output_type": "execute_result"
    }
   ],
   "source": [
    "blog_df.describe()"
   ]
  },
  {
   "cell_type": "markdown",
   "metadata": {},
   "source": [
    "<h5><ul>\n",
    "<span style=\"font-family: 'Trebuchet MS', Helvetica, sans-serif;\">\n",
    "    <li>Most blog texts have between 0 and 500 with median at 112 with relatively few outliers raning till 1,31,169 words!<br>\n",
    "        This imblance in text lengths will cause problem to classify the texts and we'll have to deal with it in preprocessing. \n",
    " </span></ul></h5>"
   ]
  },
  {
   "cell_type": "markdown",
   "metadata": {},
   "source": [
    "<h3><ul>\n",
    "    <li><strong><span style=\"font-family: 'Trebuchet MS', Helvetica, sans-serif;\">Data Preprocessing</span></strong></li>\n",
    "</ul></h3>"
   ]
  },
  {
   "cell_type": "markdown",
   "metadata": {},
   "source": [
    "<h5><ul>\n",
    "<span style=\"font-family: 'Trebuchet MS', Helvetica, sans-serif;\">\n",
    "    <li>Data cleansing by removing unwanted characters, spaces, stop words etc. Convert text to lowercase\n",
    "     </span></ul></h5>"
   ]
  },
  {
   "cell_type": "code",
   "execution_count": 27,
   "metadata": {},
   "outputs": [],
   "source": [
    "# !pip install contractions\n",
    "# !pip install beautifulsoup4"
   ]
  },
  {
   "cell_type": "code",
   "execution_count": 28,
   "metadata": {},
   "outputs": [
    {
     "name": "stderr",
     "output_type": "stream",
     "text": [
      "[nltk_data] Downloading package punkt to\n",
      "[nltk_data]     C:\\Users\\surya\\AppData\\Roaming\\nltk_data...\n",
      "[nltk_data]   Package punkt is already up-to-date!\n",
      "[nltk_data] Downloading package stopwords to\n",
      "[nltk_data]     C:\\Users\\surya\\AppData\\Roaming\\nltk_data...\n",
      "[nltk_data]   Package stopwords is already up-to-date!\n"
     ]
    },
    {
     "data": {
      "text/plain": [
       "True"
      ]
     },
     "execution_count": 28,
     "metadata": {},
     "output_type": "execute_result"
    }
   ],
   "source": [
    "import nltk\n",
    "nltk.download('punkt')\n",
    "nltk.download('stopwords')"
   ]
  },
  {
   "cell_type": "code",
   "execution_count": 29,
   "metadata": {},
   "outputs": [],
   "source": [
    "# utility functions for text preprocesing\n",
    "import re\n",
    "import string\n",
    "import unicodedata\n",
    "import contractions\n",
    "from bs4 import BeautifulSoup\n",
    "from nltk.tokenize import word_tokenize, sent_tokenize\n",
    "from nltk.stem.snowball import SnowballStemmer\n",
    "\n",
    "CUSTOM = True\n",
    "\n",
    "stemmer = SnowballStemmer('english')\n",
    "if CUSTOM:\n",
    "    stop_words = set(nltk.corpus.stopwords.words('english'))\n",
    "    # custom stopwords added from the most frequent words which are generic \n",
    "    # and might not relate to the sentiment of the review\n",
    "    stop_words.update(['urllink'])\n",
    "else:\n",
    "    stop_words = set(nltk.corpus.stopwords.words('english'))\n",
    "\n",
    "def replace_accented_chars(review_text):\n",
    "    '''normalizes and replaces accented characters'''\n",
    "    unaccented_text = unicodedata.normalize('NFKD', review_text).encode('ascii', 'ignore').decode('utf-8', 'ignore')\n",
    "    return unaccented_text\n",
    "\n",
    "\n",
    "\n",
    "def strip_html_tags(review_text):\n",
    "    '''strips html tags like <h4> ..etc'''\n",
    "    soup = BeautifulSoup(review_text, \"html.parser\")\n",
    "    [s.extract() for s in soup(['iframe', 'script'])]\n",
    "    stripped_text = soup.get_text()\n",
    "    stripped_text = re.sub(r'[\\r|\\n|\\r\\n]+', '\\n', stripped_text)\n",
    "    return stripped_text\n",
    "\n",
    "\n",
    "def expand_contractions(review_text):\n",
    "    review_text = contractions.fix(review_text)\n",
    "    return review_text\n",
    "\n",
    "\n",
    "def remove_special_characters(review_text):\n",
    "    '''\n",
    "    Remove special characters but preserve digits and excalamation marks\n",
    "    as they indicate emotionally charged review '''\n",
    "    review_text = re.sub(r\"[^A-Za-z0-9!?\\'\\`]\", \" \", review_text)\n",
    "    return review_text\n",
    "\n",
    "\n",
    "def strip_stops(text, is_lower_case=False, stop_words=stop_words):\n",
    "    '''strip stopwrds'''\n",
    "    tokens = word_tokenize(text)\n",
    "    tokens = [token.strip() for token in tokens]\n",
    "    if is_lower_case:\n",
    "        filtered_tokens = [token for token in tokens if token not in stop_words]\n",
    "    else:\n",
    "        filtered_tokens = [token for token in tokens if token.lower() not in stop_words]\n",
    "    filtered_text = ' '.join(filtered_tokens)    \n",
    "    return filtered_text\n",
    "\n",
    "\n",
    "def snowball_stem(text, stemmer=stemmer):\n",
    "    '''stemming using snowball stemmer'''\n",
    "    words = text.split()\n",
    "    stemmed_words = [stemmer.stem(word) for word in words]\n",
    "    review_text = \" \".join(stemmed_words)\n",
    "    return review_text"
   ]
  },
  {
   "cell_type": "code",
   "execution_count": 30,
   "metadata": {},
   "outputs": [],
   "source": [
    "def preprocess_text(text: str, lower=True, srip_punctuation=True) -> str:\n",
    "    text = replace_accented_chars(text)\n",
    "    text = strip_html_tags(text)\n",
    "    text = expand_contractions(text)\n",
    "    text = remove_special_characters(text)\n",
    "    \n",
    "    if lower:\n",
    "        text = text.lower()\n",
    "    text = strip_stops(text)\n",
    "    text = snowball_stem(text)\n",
    "    return str(text.strip())\n",
    "\n",
    "def preprocess(row):\n",
    "    text = row.text\n",
    "    if isinstance(text, str):\n",
    "        text = preprocess_text(text)\n",
    "    else:\n",
    "        text = np.nan\n",
    "    row['cleaned_text'] = text\n",
    "    return row"
   ]
  },
  {
   "cell_type": "code",
   "execution_count": 31,
   "metadata": {},
   "outputs": [
    {
     "name": "stderr",
     "output_type": "stream",
     "text": [
      "100%|█████████████████████████████████████████████████████████████████████████| 681284/681284 [29:17<00:00, 387.60it/s]\n"
     ]
    }
   ],
   "source": [
    "blog_df = blog_df.progress_apply(preprocess, axis=1)"
   ]
  },
  {
   "cell_type": "code",
   "execution_count": 32,
   "metadata": {},
   "outputs": [
    {
     "data": {
      "text/plain": [
       "id              False\n",
       "gender          False\n",
       "age             False\n",
       "topic           False\n",
       "sign            False\n",
       "date            False\n",
       "text            False\n",
       "char_len        False\n",
       "word_len        False\n",
       "cleaned_text    False\n",
       "dtype: bool"
      ]
     },
     "execution_count": 32,
     "metadata": {},
     "output_type": "execute_result"
    }
   ],
   "source": [
    "# all texts cleaned successfully\n",
    "blog_df.isna().any()"
   ]
  },
  {
   "cell_type": "code",
   "execution_count": 33,
   "metadata": {},
   "outputs": [
    {
     "data": {
      "text/html": [
       "<div>\n",
       "<style scoped>\n",
       "    .dataframe tbody tr th:only-of-type {\n",
       "        vertical-align: middle;\n",
       "    }\n",
       "\n",
       "    .dataframe tbody tr th {\n",
       "        vertical-align: top;\n",
       "    }\n",
       "\n",
       "    .dataframe thead th {\n",
       "        text-align: right;\n",
       "    }\n",
       "</style>\n",
       "<table border=\"1\" class=\"dataframe\">\n",
       "  <thead>\n",
       "    <tr style=\"text-align: right;\">\n",
       "      <th></th>\n",
       "      <th>id</th>\n",
       "      <th>gender</th>\n",
       "      <th>age</th>\n",
       "      <th>topic</th>\n",
       "      <th>sign</th>\n",
       "      <th>date</th>\n",
       "      <th>text</th>\n",
       "      <th>char_len</th>\n",
       "      <th>word_len</th>\n",
       "      <th>cleaned_text</th>\n",
       "    </tr>\n",
       "  </thead>\n",
       "  <tbody>\n",
       "    <tr>\n",
       "      <th>114792</th>\n",
       "      <td>3543301</td>\n",
       "      <td>female</td>\n",
       "      <td>24</td>\n",
       "      <td>Non-Profit</td>\n",
       "      <td>Gemini</td>\n",
       "      <td>03,August,2004</td>\n",
       "      <td>urlLink for real .  i need to go h...</td>\n",
       "      <td>155</td>\n",
       "      <td>27</td>\n",
       "      <td>real need go home get lunch get foot massag ma...</td>\n",
       "    </tr>\n",
       "    <tr>\n",
       "      <th>599440</th>\n",
       "      <td>3535546</td>\n",
       "      <td>male</td>\n",
       "      <td>14</td>\n",
       "      <td>indUnk</td>\n",
       "      <td>Sagittarius</td>\n",
       "      <td>10,June,2004</td>\n",
       "      <td>......................................</td>\n",
       "      <td>634</td>\n",
       "      <td>80</td>\n",
       "      <td>someth read notic notic notic worth notic noti...</td>\n",
       "    </tr>\n",
       "    <tr>\n",
       "      <th>241859</th>\n",
       "      <td>529513</td>\n",
       "      <td>male</td>\n",
       "      <td>33</td>\n",
       "      <td>Internet</td>\n",
       "      <td>Taurus</td>\n",
       "      <td>16,November,2003</td>\n",
       "      <td>This was the 4th or 5th time in my ...</td>\n",
       "      <td>122</td>\n",
       "      <td>17</td>\n",
       "      <td>4th 5th time life tie http www weh de memori html</td>\n",
       "    </tr>\n",
       "    <tr>\n",
       "      <th>321892</th>\n",
       "      <td>963380</td>\n",
       "      <td>male</td>\n",
       "      <td>24</td>\n",
       "      <td>Student</td>\n",
       "      <td>Cancer</td>\n",
       "      <td>20,January,2003</td>\n",
       "      <td>Good morning sunshine, as it's put in t...</td>\n",
       "      <td>1001</td>\n",
       "      <td>188</td>\n",
       "      <td>good morn sunshin put parlanc time drive home ...</td>\n",
       "    </tr>\n",
       "    <tr>\n",
       "      <th>551120</th>\n",
       "      <td>1125546</td>\n",
       "      <td>male</td>\n",
       "      <td>27</td>\n",
       "      <td>Law</td>\n",
       "      <td>Aries</td>\n",
       "      <td>26,July,2004</td>\n",
       "      <td>I must say, Barack Obama was impressive...</td>\n",
       "      <td>318</td>\n",
       "      <td>48</td>\n",
       "      <td>must say barack obama impress communic skill g...</td>\n",
       "    </tr>\n",
       "    <tr>\n",
       "      <th>30505</th>\n",
       "      <td>3687738</td>\n",
       "      <td>male</td>\n",
       "      <td>47</td>\n",
       "      <td>indUnk</td>\n",
       "      <td>Aries</td>\n",
       "      <td>12,agosto,2004</td>\n",
       "      <td>¿Acaso, el escenario descrito en el  D...</td>\n",
       "      <td>648</td>\n",
       "      <td>103</td>\n",
       "      <td>acaso el escenario descrito en el dia despu de...</td>\n",
       "    </tr>\n",
       "    <tr>\n",
       "      <th>552488</th>\n",
       "      <td>3056329</td>\n",
       "      <td>male</td>\n",
       "      <td>17</td>\n",
       "      <td>Government</td>\n",
       "      <td>Libra</td>\n",
       "      <td>15,May,2004</td>\n",
       "      <td>hey!! I havent blogged in awhile!...</td>\n",
       "      <td>704</td>\n",
       "      <td>125</td>\n",
       "      <td>hey ! ! blog awhil ! ultim frisbe fun ! bad wo...</td>\n",
       "    </tr>\n",
       "    <tr>\n",
       "      <th>380569</th>\n",
       "      <td>1417798</td>\n",
       "      <td>female</td>\n",
       "      <td>35</td>\n",
       "      <td>indUnk</td>\n",
       "      <td>Scorpio</td>\n",
       "      <td>15,September,2003</td>\n",
       "      <td>Hottie Alert!  Greg K. just g...</td>\n",
       "      <td>698</td>\n",
       "      <td>119</td>\n",
       "      <td>hotti alert ! greg k gave think first report d...</td>\n",
       "    </tr>\n",
       "    <tr>\n",
       "      <th>61256</th>\n",
       "      <td>2871824</td>\n",
       "      <td>male</td>\n",
       "      <td>24</td>\n",
       "      <td>Engineering</td>\n",
       "      <td>Leo</td>\n",
       "      <td>04,May,2004</td>\n",
       "      <td>Last 3 days quite happy lor because...</td>\n",
       "      <td>970</td>\n",
       "      <td>190</td>\n",
       "      <td>last 3 day quit happi lor famili gather togeth...</td>\n",
       "    </tr>\n",
       "    <tr>\n",
       "      <th>150862</th>\n",
       "      <td>2427534</td>\n",
       "      <td>male</td>\n",
       "      <td>25</td>\n",
       "      <td>indUnk</td>\n",
       "      <td>Leo</td>\n",
       "      <td>02,July,2004</td>\n",
       "      <td>Where's my poker?   Just finishe...</td>\n",
       "      <td>1143</td>\n",
       "      <td>176</td>\n",
       "      <td>poker ? finish read wittgenstein 's poker ' da...</td>\n",
       "    </tr>\n",
       "    <tr>\n",
       "      <th>492401</th>\n",
       "      <td>3736084</td>\n",
       "      <td>male</td>\n",
       "      <td>25</td>\n",
       "      <td>Non-Profit</td>\n",
       "      <td>Leo</td>\n",
       "      <td>25,June,2004</td>\n",
       "      <td>Re: Laying to rest the idea of a pre-trib '...</td>\n",
       "      <td>1507</td>\n",
       "      <td>294</td>\n",
       "      <td>lay rest idea pre trib raptur ' post dec 3 200...</td>\n",
       "    </tr>\n",
       "    <tr>\n",
       "      <th>127139</th>\n",
       "      <td>3541168</td>\n",
       "      <td>male</td>\n",
       "      <td>34</td>\n",
       "      <td>Government</td>\n",
       "      <td>Gemini</td>\n",
       "      <td>06,July,2004</td>\n",
       "      <td>and now has it's own blog at  Zoe...</td>\n",
       "      <td>351</td>\n",
       "      <td>65</td>\n",
       "      <td>blog zoellerina part two tough time part three...</td>\n",
       "    </tr>\n",
       "    <tr>\n",
       "      <th>32151</th>\n",
       "      <td>1538911</td>\n",
       "      <td>female</td>\n",
       "      <td>35</td>\n",
       "      <td>indUnk</td>\n",
       "      <td>Libra</td>\n",
       "      <td>04,June,2004</td>\n",
       "      <td>urlLink    All the mercy is right here...</td>\n",
       "      <td>228</td>\n",
       "      <td>32</td>\n",
       "      <td>merci right deiti belong godsist rukmini priya...</td>\n",
       "    </tr>\n",
       "    <tr>\n",
       "      <th>242087</th>\n",
       "      <td>2790498</td>\n",
       "      <td>female</td>\n",
       "      <td>23</td>\n",
       "      <td>indUnk</td>\n",
       "      <td>Aries</td>\n",
       "      <td>12,February,2004</td>\n",
       "      <td>I am moderately hung over.  And ...</td>\n",
       "      <td>2044</td>\n",
       "      <td>381</td>\n",
       "      <td>moder hung rain men blog like bad friend trust...</td>\n",
       "    </tr>\n",
       "    <tr>\n",
       "      <th>616582</th>\n",
       "      <td>4296124</td>\n",
       "      <td>male</td>\n",
       "      <td>17</td>\n",
       "      <td>indUnk</td>\n",
       "      <td>Gemini</td>\n",
       "      <td>21,August,2004</td>\n",
       "      <td>urlLink    Look at my boredom tonight!...</td>\n",
       "      <td>77</td>\n",
       "      <td>8</td>\n",
       "      <td>look boredom tonight ! yay</td>\n",
       "    </tr>\n",
       "    <tr>\n",
       "      <th>110967</th>\n",
       "      <td>3798616</td>\n",
       "      <td>female</td>\n",
       "      <td>26</td>\n",
       "      <td>indUnk</td>\n",
       "      <td>Pisces</td>\n",
       "      <td>29,June,2004</td>\n",
       "      <td>hey ,  just seeing if this works so i k...</td>\n",
       "      <td>855</td>\n",
       "      <td>176</td>\n",
       "      <td>hey see work know post keep stuff wootwoot ! w...</td>\n",
       "    </tr>\n",
       "    <tr>\n",
       "      <th>586904</th>\n",
       "      <td>944569</td>\n",
       "      <td>female</td>\n",
       "      <td>14</td>\n",
       "      <td>Student</td>\n",
       "      <td>Leo</td>\n",
       "      <td>09,February,2004</td>\n",
       "      <td>Eeeexcellent...more Prince of Tenni...</td>\n",
       "      <td>890</td>\n",
       "      <td>140</td>\n",
       "      <td>eeeexcel princ tenni episod releas mmm ryoma s...</td>\n",
       "    </tr>\n",
       "    <tr>\n",
       "      <th>624468</th>\n",
       "      <td>3653978</td>\n",
       "      <td>female</td>\n",
       "      <td>16</td>\n",
       "      <td>indUnk</td>\n",
       "      <td>Virgo</td>\n",
       "      <td>01,July,2004</td>\n",
       "      <td>I dunno y... whenever Im bullied by...</td>\n",
       "      <td>3589</td>\n",
       "      <td>677</td>\n",
       "      <td>dunno whenev bulli old hag dun realli bother l...</td>\n",
       "    </tr>\n",
       "    <tr>\n",
       "      <th>388427</th>\n",
       "      <td>3168970</td>\n",
       "      <td>female</td>\n",
       "      <td>25</td>\n",
       "      <td>HumanResources</td>\n",
       "      <td>Cancer</td>\n",
       "      <td>19,July,2004</td>\n",
       "      <td>been slacking a bit the last few days...</td>\n",
       "      <td>4303</td>\n",
       "      <td>837</td>\n",
       "      <td>slack bit last day time updat realli thursday ...</td>\n",
       "    </tr>\n",
       "    <tr>\n",
       "      <th>456911</th>\n",
       "      <td>798653</td>\n",
       "      <td>male</td>\n",
       "      <td>26</td>\n",
       "      <td>indUnk</td>\n",
       "      <td>Aquarius</td>\n",
       "      <td>09,July,2004</td>\n",
       "      <td>You suck.</td>\n",
       "      <td>20</td>\n",
       "      <td>2</td>\n",
       "      <td>suck</td>\n",
       "    </tr>\n",
       "  </tbody>\n",
       "</table>\n",
       "</div>"
      ],
      "text/plain": [
       "             id  gender  age           topic         sign               date  \\\n",
       "114792  3543301  female   24      Non-Profit       Gemini     03,August,2004   \n",
       "599440  3535546    male   14          indUnk  Sagittarius       10,June,2004   \n",
       "241859   529513    male   33        Internet       Taurus   16,November,2003   \n",
       "321892   963380    male   24         Student       Cancer    20,January,2003   \n",
       "551120  1125546    male   27             Law        Aries       26,July,2004   \n",
       "30505   3687738    male   47          indUnk        Aries     12,agosto,2004   \n",
       "552488  3056329    male   17      Government        Libra        15,May,2004   \n",
       "380569  1417798  female   35          indUnk      Scorpio  15,September,2003   \n",
       "61256   2871824    male   24     Engineering          Leo        04,May,2004   \n",
       "150862  2427534    male   25          indUnk          Leo       02,July,2004   \n",
       "492401  3736084    male   25      Non-Profit          Leo       25,June,2004   \n",
       "127139  3541168    male   34      Government       Gemini       06,July,2004   \n",
       "32151   1538911  female   35          indUnk        Libra       04,June,2004   \n",
       "242087  2790498  female   23          indUnk        Aries   12,February,2004   \n",
       "616582  4296124    male   17          indUnk       Gemini     21,August,2004   \n",
       "110967  3798616  female   26          indUnk       Pisces       29,June,2004   \n",
       "586904   944569  female   14         Student          Leo   09,February,2004   \n",
       "624468  3653978  female   16          indUnk        Virgo       01,July,2004   \n",
       "388427  3168970  female   25  HumanResources       Cancer       19,July,2004   \n",
       "456911   798653    male   26          indUnk     Aquarius       09,July,2004   \n",
       "\n",
       "                                                     text  char_len  word_len  \\\n",
       "114792              urlLink for real .  i need to go h...       155        27   \n",
       "599440             ......................................       634        80   \n",
       "241859             This was the 4th or 5th time in my ...       122        17   \n",
       "321892         Good morning sunshine, as it's put in t...      1001       188   \n",
       "551120         I must say, Barack Obama was impressive...       318        48   \n",
       "30505           ¿Acaso, el escenario descrito en el  D...       648       103   \n",
       "552488               hey!! I havent blogged in awhile!...       704       125   \n",
       "380569                   Hottie Alert!  Greg K. just g...       698       119   \n",
       "61256              Last 3 days quite happy lor because...       970       190   \n",
       "150862                Where's my poker?   Just finishe...      1143       176   \n",
       "492401     Re: Laying to rest the idea of a pre-trib '...      1507       294   \n",
       "127139               and now has it's own blog at  Zoe...       351        65   \n",
       "32151           urlLink    All the mercy is right here...       228        32   \n",
       "242087                I am moderately hung over.  And ...      2044       381   \n",
       "616582          urlLink    Look at my boredom tonight!...        77         8   \n",
       "110967         hey ,  just seeing if this works so i k...       855       176   \n",
       "586904             Eeeexcellent...more Prince of Tenni...       890       140   \n",
       "624468             I dunno y... whenever Im bullied by...      3589       677   \n",
       "388427           been slacking a bit the last few days...      4303       837   \n",
       "456911                                      You suck.            20         2   \n",
       "\n",
       "                                             cleaned_text  \n",
       "114792  real need go home get lunch get foot massag ma...  \n",
       "599440  someth read notic notic notic worth notic noti...  \n",
       "241859  4th 5th time life tie http www weh de memori html  \n",
       "321892  good morn sunshin put parlanc time drive home ...  \n",
       "551120  must say barack obama impress communic skill g...  \n",
       "30505   acaso el escenario descrito en el dia despu de...  \n",
       "552488  hey ! ! blog awhil ! ultim frisbe fun ! bad wo...  \n",
       "380569  hotti alert ! greg k gave think first report d...  \n",
       "61256   last 3 day quit happi lor famili gather togeth...  \n",
       "150862  poker ? finish read wittgenstein 's poker ' da...  \n",
       "492401  lay rest idea pre trib raptur ' post dec 3 200...  \n",
       "127139  blog zoellerina part two tough time part three...  \n",
       "32151   merci right deiti belong godsist rukmini priya...  \n",
       "242087  moder hung rain men blog like bad friend trust...  \n",
       "616582                         look boredom tonight ! yay  \n",
       "110967  hey see work know post keep stuff wootwoot ! w...  \n",
       "586904  eeeexcel princ tenni episod releas mmm ryoma s...  \n",
       "624468  dunno whenev bulli old hag dun realli bother l...  \n",
       "388427  slack bit last day time updat realli thursday ...  \n",
       "456911                                               suck  "
      ]
     },
     "execution_count": 33,
     "metadata": {},
     "output_type": "execute_result"
    }
   ],
   "source": [
    "blog_df.sample(20)"
   ]
  },
  {
   "cell_type": "code",
   "execution_count": 34,
   "metadata": {},
   "outputs": [],
   "source": [
    "top_N = 50\n",
    "\n",
    "# top 50 most frequent words in cleaned text\n",
    "words = (blog_df.cleaned_text.str.cat(sep=' ').split())\n",
    "rslt = pd.DataFrame(Counter(words).most_common(top_N),\n",
    "                    columns=['Word', 'Frequency']).set_index('Word')"
   ]
  },
  {
   "cell_type": "code",
   "execution_count": 35,
   "metadata": {},
   "outputs": [
    {
     "data": {
      "text/html": [
       "<div>\n",
       "<style scoped>\n",
       "    .dataframe tbody tr th:only-of-type {\n",
       "        vertical-align: middle;\n",
       "    }\n",
       "\n",
       "    .dataframe tbody tr th {\n",
       "        vertical-align: top;\n",
       "    }\n",
       "\n",
       "    .dataframe thead th {\n",
       "        text-align: right;\n",
       "    }\n",
       "</style>\n",
       "<table border=\"1\" class=\"dataframe\">\n",
       "  <thead>\n",
       "    <tr style=\"text-align: right;\">\n",
       "      <th>Word</th>\n",
       "      <th>!</th>\n",
       "      <th>?</th>\n",
       "      <th>'</th>\n",
       "      <th>go</th>\n",
       "      <th>like</th>\n",
       "      <th>get</th>\n",
       "      <th>one</th>\n",
       "      <th>time</th>\n",
       "      <th>would</th>\n",
       "      <th>'s</th>\n",
       "      <th>...</th>\n",
       "      <th>need</th>\n",
       "      <th>right</th>\n",
       "      <th>still</th>\n",
       "      <th>life</th>\n",
       "      <th>new</th>\n",
       "      <th>someth</th>\n",
       "      <th>first</th>\n",
       "      <th>tri</th>\n",
       "      <th>night</th>\n",
       "      <th>start</th>\n",
       "    </tr>\n",
       "  </thead>\n",
       "  <tbody>\n",
       "    <tr>\n",
       "      <th>Frequency</th>\n",
       "      <td>1433386</td>\n",
       "      <td>827744</td>\n",
       "      <td>807814</td>\n",
       "      <td>615740</td>\n",
       "      <td>606031</td>\n",
       "      <td>511351</td>\n",
       "      <td>487906</td>\n",
       "      <td>435766</td>\n",
       "      <td>433882</td>\n",
       "      <td>431960</td>\n",
       "      <td>...</td>\n",
       "      <td>176987</td>\n",
       "      <td>176689</td>\n",
       "      <td>175512</td>\n",
       "      <td>174260</td>\n",
       "      <td>172079</td>\n",
       "      <td>169346</td>\n",
       "      <td>163264</td>\n",
       "      <td>162341</td>\n",
       "      <td>161141</td>\n",
       "      <td>159527</td>\n",
       "    </tr>\n",
       "  </tbody>\n",
       "</table>\n",
       "<p>1 rows × 50 columns</p>\n",
       "</div>"
      ],
      "text/plain": [
       "Word             !       ?       '      go    like     get     one    time  \\\n",
       "Frequency  1433386  827744  807814  615740  606031  511351  487906  435766   \n",
       "\n",
       "Word        would      's  ...    need   right   still    life     new  \\\n",
       "Frequency  433882  431960  ...  176987  176689  175512  174260  172079   \n",
       "\n",
       "Word       someth   first     tri   night   start  \n",
       "Frequency  169346  163264  162341  161141  159527  \n",
       "\n",
       "[1 rows x 50 columns]"
      ]
     },
     "execution_count": 35,
     "metadata": {},
     "output_type": "execute_result"
    }
   ],
   "source": [
    "rslt[:50].transpose()"
   ]
  },
  {
   "cell_type": "code",
   "execution_count": 36,
   "metadata": {},
   "outputs": [
    {
     "data": {
      "image/png": "[encoded data removed]",
      "text/plain": [
       "<Figure size 2160x576 with 1 Axes>"
      ]
     },
     "metadata": {
      "needs_background": "light"
     },
     "output_type": "display_data"
    }
   ],
   "source": [
    "rslt.plot.bar(rot=0, figsize=(30,8), width=0.55)\n",
    "plt.xticks(rotation=90)\n",
    "plt.show()"
   ]
  },
  {
   "cell_type": "code",
   "execution_count": 37,
   "metadata": {},
   "outputs": [
    {
     "name": "stdout",
     "output_type": "stream",
     "text": [
      "['!', '?', \"'\", 'go', 'like', 'get', 'one', 'time', 'would', \"'s\", 'know',\n",
      " 'think', 'day', 'realli', 'want', 'thing', 'well', 'peopl', 'good', 'got',\n",
      " 'make', 'say', 'see', 'work', 'love', 'back', 'look', 'much', 'feel', 'could',\n",
      " 'even', 'way', 'today', 'come', 'us', 'last', 'went', 'year', 'take', 'friend',\n",
      " 'need', 'right', 'still', 'life', 'new', 'someth', 'first', 'tri', 'night',\n",
      " 'start']\n"
     ]
    }
   ],
   "source": [
    "pprint(rslt.index.tolist(), compact=True)"
   ]
  },
  {
   "cell_type": "markdown",
   "metadata": {},
   "source": [
    "<h5><ul>\n",
    "<span style=\"font-family: 'Trebuchet MS', Helvetica, sans-serif;\">\n",
    "    <li>Target/label merger and transformation\n",
    "     </span></ul></h5>"
   ]
  },
  {
   "cell_type": "code",
   "execution_count": 80,
   "metadata": {},
   "outputs": [],
   "source": [
    "# merge all labels together as we want to do multi-label classification\n",
    "blog_df['labels'] = blog_df[['gender','age','topic','sign']].values.tolist()"
   ]
  },
  {
   "cell_type": "code",
   "execution_count": 81,
   "metadata": {},
   "outputs": [],
   "source": [
    "\n",
    "dataset = blog_df.drop(columns = ['id','gender','age','topic','sign','date', 'text'])"
   ]
  },
  {
   "cell_type": "markdown",
   "metadata": {},
   "source": [
    "<h5><ul>\n",
    "<span style=\"font-family: 'Trebuchet MS', Helvetica, sans-serif;\">\n",
    "    <li>Split dataset into train-test cuts\n",
    "     </span></ul></h5>"
   ]
  },
  {
   "cell_type": "code",
   "execution_count": 82,
   "metadata": {
    "tags": []
   },
   "outputs": [],
   "source": [
    "from sklearn.model_selection import train_test_split\n",
    "\n",
    "# Train-Test split of 80-20\n",
    "X_train, X_test, y_train, y_test = train_test_split(dataset['cleaned_text'], dataset['labels'], test_size=0.20)"
   ]
  },
  {
   "cell_type": "code",
   "execution_count": 83,
   "metadata": {},
   "outputs": [
    {
     "data": {
      "text/plain": [
       "((545027,), (136257,), (545027,), (136257,))"
      ]
     },
     "execution_count": 83,
     "metadata": {},
     "output_type": "execute_result"
    }
   ],
   "source": [
    "X_train.shape, X_test.shape, y_train.shape, y_test.shape"
   ]
  },
  {
   "cell_type": "markdown",
   "metadata": {},
   "source": [
    "<h5><ul>\n",
    "<span style=\"font-family: 'Trebuchet MS', Helvetica, sans-serif;\">\n",
    "    <li>Vectorisation\n",
    "     </span></ul></h5>"
   ]
  },
  {
   "cell_type": "code",
   "execution_count": 113,
   "metadata": {},
   "outputs": [],
   "source": [
    "NGRAM_RANGE = (1, 2)\n",
    "TOP_K = 30000\n",
    "TOKEN_MODE = 'word'\n",
    "MIN_DOC_FREQ = 2\n",
    "\n",
    "kwargs = {\n",
    "    'ngram_range' : NGRAM_RANGE,\n",
    "    'dtype' : 'int32',\n",
    "    'strip_accents' : 'unicode',\n",
    "    'decode_error' : 'replace',\n",
    "    'analyzer' : TOKEN_MODE,\n",
    "    'min_df' : MIN_DOC_FREQ,\n",
    "    'max_features': TOP_K\n",
    "}"
   ]
  },
  {
   "cell_type": "code",
   "execution_count": 114,
   "metadata": {},
   "outputs": [],
   "source": [
    "# vectorize the texts to get features\n",
    "from sklearn.feature_extraction.text import TfidfVectorizer\n",
    "from sklearn.feature_selection import SelectKBest, f_classif\n",
    "\n",
    "vectorizer = TfidfVectorizer(**kwargs)\n",
    "\n",
    "X_train_vec = vectorizer.fit_transform(X_train)"
   ]
  },
  {
   "cell_type": "code",
   "execution_count": 115,
   "metadata": {},
   "outputs": [
    {
     "data": {
      "text/plain": [
       "(545027, 30000)"
      ]
     },
     "execution_count": 115,
     "metadata": {},
     "output_type": "execute_result"
    }
   ],
   "source": [
    "X_train_vec.shape"
   ]
  },
  {
   "cell_type": "code",
   "execution_count": 116,
   "metadata": {},
   "outputs": [],
   "source": [
    "# do not fit on X_test to avoid data leakakge, only transform\n",
    "X_test_vec = vectorizer.transform(X_test)"
   ]
  },
  {
   "cell_type": "code",
   "execution_count": 117,
   "metadata": {},
   "outputs": [
    {
     "data": {
      "text/plain": [
       "(1, 30000)"
      ]
     },
     "execution_count": 117,
     "metadata": {},
     "output_type": "execute_result"
    }
   ],
   "source": [
    "X_train_vec[0].shape"
   ]
  },
  {
   "cell_type": "code",
   "execution_count": 118,
   "metadata": {},
   "outputs": [
    {
     "data": {
      "text/plain": [
       "(1, 30000)"
      ]
     },
     "execution_count": 118,
     "metadata": {},
     "output_type": "execute_result"
    }
   ],
   "source": [
    "X_test_vec[0].shape"
   ]
  },
  {
   "cell_type": "markdown",
   "metadata": {},
   "source": [
    "<h5><ul>\n",
    "<span style=\"font-family: 'Trebuchet MS', Helvetica, sans-serif;\">\n",
    "    <li>Transform labels\n",
    "     </span></ul></h5>"
   ]
  },
  {
   "cell_type": "code",
   "execution_count": 119,
   "metadata": {},
   "outputs": [
    {
     "data": {
      "text/plain": [
       "['female', '23', 'Advertising', 'Taurus']"
      ]
     },
     "execution_count": 119,
     "metadata": {},
     "output_type": "execute_result"
    }
   ],
   "source": [
    "y_train[0]"
   ]
  },
  {
   "cell_type": "code",
   "execution_count": 120,
   "metadata": {},
   "outputs": [
    {
     "data": {
      "text/plain": [
       "((545027, 80), (136257, 80))"
      ]
     },
     "execution_count": 120,
     "metadata": {},
     "output_type": "execute_result"
    }
   ],
   "source": [
    "# use MultiLabelBinarizer to transform labels in a binary form so that the prediction will be a mask of 0s and 1s\n",
    "from sklearn.preprocessing import MultiLabelBinarizer\n",
    "\n",
    "binarizer = MultiLabelBinarizer()\n",
    "\n",
    "# convert all labels to str\n",
    "y_train = [[str(i) for i in j] for j in y_train]\n",
    "y_test = [[str(i) for i in j] for j in y_test]\n",
    "\n",
    "y_train_labels = binarizer.fit_transform(y_train)\n",
    "\n",
    "# only transform test data to avoid data leakage\n",
    "y_test_labels = binarizer.transform(y_test)\n",
    "\n",
    "y_train_labels.shape, y_test_labels.shape"
   ]
  },
  {
   "cell_type": "code",
   "execution_count": 121,
   "metadata": {},
   "outputs": [
    {
     "data": {
      "text/plain": [
       "array([0, 0, 0, 0, 0, 1, 0, 0, 0, 0, 0, 0, 0, 0, 0, 0, 0, 0, 0, 0, 0, 0,\n",
       "       0, 0, 0, 0, 0, 1, 0, 0, 0, 0, 0, 0, 0, 0, 0, 0, 0, 0, 0, 0, 0, 0,\n",
       "       0, 0, 0, 0, 0, 0, 0, 0, 0, 0, 0, 0, 0, 0, 0, 0, 0, 0, 0, 0, 0, 0,\n",
       "       0, 0, 0, 0, 0, 1, 0, 0, 0, 0, 0, 1, 0, 0])"
      ]
     },
     "execution_count": 121,
     "metadata": {},
     "output_type": "execute_result"
    }
   ],
   "source": [
    "# converted to one hot vectors, each category here is a combination of labels from possible combinations of labels\n",
    "y_train_labels[0]"
   ]
  },
  {
   "cell_type": "markdown",
   "metadata": {},
   "source": [
    "<h3><ul>\n",
    "    <li><strong><span style=\"font-family: 'Trebuchet MS', Helvetica, sans-serif;\">Train Text Classifiers</span></strong></li>\n",
    "</ul></h3>"
   ]
  },
  {
   "cell_type": "code",
   "execution_count": 122,
   "metadata": {},
   "outputs": [],
   "source": [
    "from sklearn.multiclass import OneVsRestClassifier\n",
    "from sklearn.linear_model import LogisticRegression\n",
    "\n",
    "\n",
    "from sklearn.metrics import accuracy_score, f1_score, precision_score, recall_score, classification_report"
   ]
  },
  {
   "cell_type": "markdown",
   "metadata": {},
   "source": [
    "<h4><ul>\n",
    "    <li><strong><span style=\"font-family: 'Trebuchet MS', Helvetica, sans-serif;\">Logistic Regression</span></strong></li>\n",
    "</ul></h4>"
   ]
  },
  {
   "cell_type": "code",
   "execution_count": 123,
   "metadata": {},
   "outputs": [],
   "source": [
    "# wrapper for lr classfier to be able to predict among classes\n",
    "lr = OneVsRestClassifier(LogisticRegression(solver='lbfgs'), n_jobs=8)"
   ]
  },
  {
   "cell_type": "code",
   "execution_count": 124,
   "metadata": {},
   "outputs": [
    {
     "data": {
      "text/plain": [
       "OneVsRestClassifier(estimator=LogisticRegression(), n_jobs=8)"
      ]
     },
     "execution_count": 124,
     "metadata": {},
     "output_type": "execute_result"
    }
   ],
   "source": [
    "lr.fit(X_train_vec, y_train_labels)"
   ]
  },
  {
   "cell_type": "code",
   "execution_count": 127,
   "metadata": {},
   "outputs": [],
   "source": [
    "pred = lr.predict(X_test_vec)"
   ]
  },
  {
   "cell_type": "code",
   "execution_count": 128,
   "metadata": {},
   "outputs": [
    {
     "name": "stdout",
     "output_type": "stream",
     "text": [
      "              precision    recall  f1-score   support\n",
      "\n",
      "           0       0.80      0.04      0.07      2696\n",
      "           1       0.66      0.06      0.11      5397\n",
      "           2       0.59      0.06      0.12      8288\n",
      "           3       0.68      0.11      0.19     14565\n",
      "           4       0.66      0.11      0.18     16374\n",
      "           5       0.69      0.03      0.05     14517\n",
      "           6       0.81      0.04      0.07     16103\n",
      "           7       0.69      0.02      0.05     13237\n",
      "           8       0.76      0.03      0.05     11033\n",
      "           9       0.74      0.03      0.05      9232\n",
      "          10       0.98      0.03      0.05      3456\n",
      "          11       0.90      0.11      0.20      4373\n",
      "          12       0.75      0.05      0.10      3481\n",
      "          13       0.87      0.07      0.12      2930\n",
      "          14       0.98      0.07      0.13      1835\n",
      "          15       0.91      0.03      0.06      1472\n",
      "          16       0.92      0.01      0.02      1072\n",
      "          17       0.98      0.22      0.36      1000\n",
      "          18       1.00      0.00      0.01       741\n",
      "          19       0.58      0.02      0.04       596\n",
      "          20       0.93      0.03      0.06       831\n",
      "          21       1.00      0.01      0.02       390\n",
      "          22       0.63      0.02      0.04       914\n",
      "          23       0.42      0.06      0.11       527\n",
      "          24       0.88      0.10      0.18       455\n",
      "          25       0.72      0.06      0.11       742\n",
      "          26       0.44      0.04      0.07       811\n",
      "          27       0.83      0.01      0.01       931\n",
      "          28       0.00      0.00      0.00       249\n",
      "          29       0.84      0.03      0.06      9879\n",
      "          30       1.00      0.00      0.01       347\n",
      "          31       0.76      0.04      0.07     13024\n",
      "          32       0.82      0.03      0.06      6467\n",
      "          33       0.00      0.00      0.00       246\n",
      "          34       1.00      0.00      0.01       830\n",
      "          35       1.00      0.03      0.05       437\n",
      "          36       0.88      0.05      0.09       905\n",
      "          37       0.86      0.06      0.10     12959\n",
      "          38       0.56      0.01      0.01      9755\n",
      "          39       0.00      0.00      0.00       751\n",
      "          40       0.71      0.01      0.02      3964\n",
      "          41       1.00      0.03      0.06       222\n",
      "          42       0.00      0.00      0.00      1195\n",
      "          43       0.81      0.04      0.07      5970\n",
      "          44       0.87      0.03      0.05      2325\n",
      "          45       0.00      0.00      0.00       119\n",
      "          46       0.97      0.16      0.27       966\n",
      "          47       0.77      0.02      0.04     10503\n",
      "          48       0.95      0.03      0.05      1422\n",
      "          49       0.50      0.00      0.00       627\n",
      "          50       0.81      0.02      0.05      3302\n",
      "          51       0.00      0.00      0.00       240\n",
      "          52       0.62      0.02      0.04      1782\n",
      "          53       1.00      0.00      0.01       385\n",
      "          54       0.90      0.02      0.04     10820\n",
      "          55       0.66      0.02      0.03     12313\n",
      "          56       1.00      0.00      0.01       442\n",
      "          57       0.00      0.00      0.00        48\n",
      "          58       0.64      0.01      0.01       979\n",
      "          59       1.00      0.00      0.01       601\n",
      "          60       0.56      0.02      0.04       600\n",
      "          61       0.55      0.03      0.05      3007\n",
      "          62       0.79      0.04      0.08     10768\n",
      "          63       0.92      0.07      0.14      1546\n",
      "          64       0.29      0.01      0.01       586\n",
      "          65       0.40      0.02      0.03      1084\n",
      "          66       0.69      0.02      0.03     10187\n",
      "          67       0.50      0.00      0.01      1406\n",
      "          68       0.76      0.02      0.04     11389\n",
      "          69       0.83      0.01      0.02       583\n",
      "          70       0.59      0.20      0.30     30722\n",
      "          71       0.87      0.03      0.05     12484\n",
      "          72       0.64      0.05      0.09      8401\n",
      "          73       0.87      0.03      0.05       800\n",
      "          74       1.00      0.02      0.04       377\n",
      "          75       1.00      0.13      0.23       457\n",
      "          76       0.83      0.03      0.05     12176\n",
      "          77       0.70      0.68      0.69     67216\n",
      "          78       0.55      0.21      0.30     50125\n",
      "          79       0.70      0.72      0.71     69041\n",
      "\n",
      "   micro avg       0.68      0.23      0.34    545028\n",
      "   macro avg       0.71      0.06      0.09    545028\n",
      "weighted avg       0.71      0.23      0.26    545028\n",
      " samples avg       0.68      0.23      0.33    545028\n",
      "\n"
     ]
    }
   ],
   "source": [
    "# classification report\n",
    "print(classification_report(y_test_labels, pred))"
   ]
  },
  {
   "cell_type": "markdown",
   "metadata": {},
   "source": [
    "<h3><ul>\n",
    "    <li><strong><span style=\"font-family: 'Trebuchet MS', Helvetica, sans-serif;\">Metrics: </span></strong></li>\n",
    "</ul></h3>\n",
    "\n",
    "<table style=\"width:100%\">\n",
    "  <tr>\n",
    "    <th>Metrics for the model</th>\n",
    "    <th>Precision</th>\n",
    "    <th>Recall</th>\n",
    "  </tr>\n",
    "  <tr>\n",
    "    <td>Micro Average</td>\n",
    "    <td>0.68</td>\n",
    "    <td>0.23</td>\n",
    "  </tr>\n",
    "<tr>\n",
    "    <td>Macro Average</td>\n",
    "    <td>0.71</td>\n",
    "    <td>0.06</td>\n",
    "  </tr>\n",
    "  <tr>\n",
    "    <td>Weighted Average</td>\n",
    "    <td>0.71</td>\n",
    "    <td>0.23</td>\n",
    "  </tr>\n",
    "</table>"
   ]
  },
  {
   "cell_type": "markdown",
   "metadata": {},
   "source": [
    "<h4><ul>\n",
    "    <li><strong><span style=\"font-family: 'Trebuchet MS', Helvetica, sans-serif;\">Micro-averaged Precision is calculated as precision of Total values:</span></strong></li>\n",
    "    <li><strong><span style=\"font-family: 'Trebuchet MS', Helvetica, sans-serif;\">all samples equally contribute to the final averaged metric</span></strong></li>\n",
    "    <li><strong><span style=\"font-family: 'Trebuchet MS', Helvetica, sans-serif;\">Macro-averaged Precision is calculated as an average of Precisions of all classes:</span></strong></li>\n",
    "    <li><strong><span style=\"font-family: 'Trebuchet MS', Helvetica, sans-serif;\">all classes equally contribute to the final averaged metric</span></strong></li>\n",
    "    <li><strong><span style=\"font-family: 'Trebuchet MS', Helvetica, sans-serif;\">Weighted-averaged Precision is also calculated based on Precision per class but takes into account the number of samples of each class in the data:</span></strong></li>\n",
    "    <li><strong><span style=\"font-family: 'Trebuchet MS', Helvetica, sans-serif;\">each classes’s contribution to the average is weighted by its size</span></strong></li>\n",
    "\n",
    "\n",
    "    \n",
    "</ul>\n",
    "\n",
    "Which metric is relevant depends on If there is a class-imbalanced dataset? Is one class more important to get right than others? If you have an under-represented class which is important to your problem, macro-averaging may better, as it will highlight the performance of a model on all classes equally. On the other hand, if the assumption that all classes are equally important is not true, macro-averaging will over-emphasize the low performance on an infrequent class. Micro-averaging may be preferred in multilabel settings, including multiclass classification where a majority class is to be ignored.\n",
    "</h4>"
   ]
  },
  {
   "cell_type": "markdown",
   "metadata": {},
   "source": [
    "<h4><ul>\n",
    "    <li><strong><span style=\"font-family: 'Trebuchet MS', Helvetica, sans-serif;\">So, our model acheived a micro-avg f1-score of 0.34, macro-avg f1-score of 0.09. If we care about the minoority classes as well in the final classification, our model isn't up to the mark and might be further improved by cleaning the texts with multiple languages and performing oversampling/undersampling or SMOTE to deal with the class imbalance. Further, we can use BERT or other Attention-based classifiers which are much better at text classification tasks.</span></strong></li>\n",
    "</ul></h4>"
   ]
  },
  {
   "cell_type": "markdown",
   "metadata": {},
   "source": [
    "<h3><ul>\n",
    "    <li><strong><span style=\"font-family: 'Trebuchet MS', Helvetica, sans-serif;\">Print the true vs predicted labels for any 5 entries from the dataset</span></strong></li>\n",
    "</ul></h3>"
   ]
  },
  {
   "cell_type": "code",
   "execution_count": 140,
   "metadata": {},
   "outputs": [
    {
     "name": "stdout",
     "output_type": "stream",
     "text": [
      "78708\n",
      "Actual labels:  ['female', '14', 'Student', 'Virgo']\n",
      "Predicted labels: ('female',)\n",
      "\n",
      "129791\n",
      "Actual labels:  ['male', '27', 'Technology', 'Libra']\n",
      "Predicted labels: ('male',)\n",
      "\n",
      "90040\n",
      "Actual labels:  ['male', '24', 'Technology', 'Libra']\n",
      "Predicted labels: ('male',)\n",
      "\n",
      "117659\n",
      "Actual labels:  ['male', '24', 'Education', 'Leo']\n",
      "Predicted labels: ('female', 'indUnk')\n",
      "\n",
      "75481\n",
      "Actual labels:  ['female', '33', 'Communications-Media', 'Scorpio']\n",
      "Predicted labels: ('male',)\n",
      "\n"
     ]
    }
   ],
   "source": [
    "from random import sample\n",
    "\n",
    "# Getting real labels from transformed predicted labels\n",
    "pred_classes = binarizer.inverse_transform(pred)\n",
    "\n",
    "#Picking 5 random records from y_test and comparing actual labels vs predicted labels for those 5 records\n",
    "for i in sample(range(len(pred)),  5):\n",
    "    print(i)\n",
    "    print(\"Actual labels: \", y_test[i])\n",
    "    print(\"Predicted labels:\", pred_classes[i])\n",
    "    print()"
   ]
  }
 ],
 "metadata": {
  "kernelspec": {
   "display_name": "Python [conda env:root] *",
   "language": "python",
   "name": "conda-root-py"
  },
  "language_info": {
   "codemirror_mode": {
    "name": "ipython",
    "version": 3
   },
   "file_extension": ".py",
   "mimetype": "text/x-python",
   "name": "python",
   "nbconvert_exporter": "python",
   "pygments_lexer": "ipython3",
   "version": "3.8.8"
  }
 },
 "nbformat": 4,
 "nbformat_minor": 4
}
