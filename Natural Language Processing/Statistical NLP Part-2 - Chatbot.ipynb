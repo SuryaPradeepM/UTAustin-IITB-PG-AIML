{
 "cells": [
  {
   "cell_type": "markdown",
   "metadata": {},
   "source": [
    "<h1><span style='font-family: \"Trebuchet MS\", Helvetica, sans-serif;'>Statistical NLP Part-2 - Chatbot\n",
    "</span></h1>"
   ]
  },
  {
   "cell_type": "markdown",
   "metadata": {},
   "source": [
    "<h4><ul>\n",
    "    <li>\n",
    "        <span style=\"font-family: 'Trebuchet MS', Helvetica, sans-serif;\"><strong>DOMAIN:</strong> Customer support</span>\n",
    "    </li>\n",
    "</ul></h4>"
   ]
  },
  {
   "cell_type": "markdown",
   "metadata": {},
   "source": [
    "<h4><ul>\n",
    "    <li>\n",
    "        <article><strong><span style=\"font-family: 'Trebuchet MS', Helvetica, sans-serif;\">CONTEXT:</span></strong></article>\n",
    "    </li>\n",
    "</ul>\n",
    "<article>\n",
    "    <font face=\"Trebuchet MS, Helvetica, sans-serif\">Great Learning has a an academic support department which receives numerous support requests every day throughout the\n",
    "year. Teams are spread across geographies and try to provide support round the year. Sometimes there are circumstances where due to\n",
    "heavy workload certain request resolutions are delayed, impacting company’s business. Some of the requests are very generic where a\n",
    "proper resolution procedure delivered to the user can solve the problem. Company is looking forward to design an automation which can\n",
    "interact with the user, understand the problem and display the resolution procedure [ if found as a generic request ] or redirect the request\n",
    "to an actual human support executive if the request is complex or not in it’s database.</font>\n",
    "</article> </h4>"
   ]
  },
  {
   "cell_type": "markdown",
   "metadata": {},
   "source": [
    "<h4><ul>\n",
    "    <li>\n",
    "        <article><span style=\"font-family: 'Trebuchet MS', Helvetica, sans-serif;\"><strong>DATA DESCRIPTION:</strong></span></article>\n",
    "    </li>\n",
    "</ul>\n",
    "<article><span style=\"font-family: 'Trebuchet MS', Helvetica, sans-serif;\">A sample corpus is attached for your reference. Please enhance/add more data to the corpus using your linguistics\n",
    "skills</a></span></article>\n",
    "    </h4>"
   ]
  },
  {
   "cell_type": "markdown",
   "metadata": {},
   "source": [
    "<h4>\n",
    "<ul>\n",
    "    <li><strong><span style=\"font-family: 'Trebuchet MS', Helvetica, sans-serif;\">PROJECT OBJECTIVE:</span></strong></li>\n",
    "</ul>\n",
    "<p><span style=\"font-family: 'Trebuchet MS', Helvetica, sans-serif;\">Design a python based interactive semi - rule based chatbot which can do the following:<br><br>\n",
    "1. Start chat session with greetings and ask what the user is looking for<br>\n",
    "2. Accept dynamic text based questions from the user. Reply back with relevant answer from the designed corpus<br>\n",
    "3. End the chat session only if the user requests to end else ask what the user is looking for. Loop continues till the user asks to end it<br></span></p>\n",
    "    </h4>"
   ]
  },
  {
   "cell_type": "code",
   "execution_count": 1,
   "metadata": {},
   "outputs": [],
   "source": [
    "# imports\n",
    "\n",
    "import os\n",
    "import json\n",
    "import random\n",
    "import warnings\n",
    "from time import time\n",
    "from math import floor\n",
    "from pathlib import Path\n",
    "from random import shuffle\n",
    "import pandas as pd, numpy as np\n",
    "from pprint import pprint\n",
    "import matplotlib.pyplot as plt\n",
    "import seaborn as sns\n",
    "from tqdm import tqdm\n",
    "from collections import defaultdict\n",
    "import tensorflow as tf\n",
    "tqdm.pandas()\n",
    "warnings.filterwarnings('ignore')\n",
    "%matplotlib inline"
   ]
  },
  {
   "cell_type": "code",
   "execution_count": 2,
   "metadata": {},
   "outputs": [],
   "source": [
    "# reproducibility\n",
    "seed = 7\n",
    "random.seed(seed)"
   ]
  },
  {
   "cell_type": "markdown",
   "metadata": {},
   "source": [
    "<h3><ul>\n",
    "    <li><strong><span style=\"font-family: 'Trebuchet MS', Helvetica, sans-serif;\">Import the corpus.</span></strong></li>\n",
    "</ul></h3>"
   ]
  },
  {
   "cell_type": "code",
   "execution_count": 3,
   "metadata": {},
   "outputs": [],
   "source": [
    "with open('./data/GL Bot.json', 'r') as f:\n",
    "    intents = json.load(f)"
   ]
  },
  {
   "cell_type": "code",
   "execution_count": 4,
   "metadata": {},
   "outputs": [
    {
     "name": "stdout",
     "output_type": "stream",
     "text": [
      "{'intents': [{'context_set': '',\n",
      "              'patterns': ['hi', 'how are you', 'is anyone there', 'hello',\n",
      "                           'whats up', 'hey', 'yo', 'listen', 'please help me',\n",
      "                           'i am learner from', 'i belong to', 'aiml batch',\n",
      "                           'aifl batch', 'i am from', 'my pm is', 'blended',\n",
      "                           'online', 'i am from', 'hey ya',\n",
      "                           'talking to you for first time'],\n",
      "              'responses': ['Hello! how can i help you ?'],\n",
      "              'tag': 'Intro'},\n",
      "             {'context_set': '',\n",
      "              'patterns': ['thank you', 'thanks', 'cya', 'see you', 'later',\n",
      "                           'see you later', 'goodbye', 'i am leaving',\n",
      "                           'have a Good day', 'you helped me', 'thanks a lot',\n",
      "                           'thanks a ton', 'you are the best', 'great help',\n",
      "                           'too good', 'you are a good learning buddy'],\n",
      "              'responses': ['I hope I was able to assist you, Good Bye'],\n",
      "              'tag': 'Exit'},\n",
      "             {'context_set': '',\n",
      "              'patterns': ['olympus', 'explain me how olympus works',\n",
      "                           'I am not able to understand olympus',\n",
      "                           'olympus window not working', 'no access to olympus',\n",
      "                           'unable to see link in olympus',\n",
      "                           'no link visible on olympus',\n",
      "                           'whom to contact for olympus',\n",
      "                           'lot of problem with olympus',\n",
      "                           'olypus is not a good tool',\n",
      "                           'lot of problems with olympus', 'how to use olympus',\n",
      "                           'teach me olympus'],\n",
      "              'responses': ['Link: Olympus wiki'],\n",
      "              'tag': 'Olympus'},\n",
      "             {'context_set': '',\n",
      "              'patterns': ['i am not able to understand svm',\n",
      "                           'explain me how machine learning works',\n",
      "                           'i am not able to understand naive bayes',\n",
      "                           'i am not able to understand logistic regression',\n",
      "                           'i am not able to understand ensemble techb=niques',\n",
      "                           'i am not able to understand knn',\n",
      "                           'i am not able to understand knn imputer',\n",
      "                           'i am not able to understand cross validation',\n",
      "                           'i am not able to understand boosting',\n",
      "                           'i am not able to understand random forest',\n",
      "                           'i am not able to understand ada boosting',\n",
      "                           'i am not able to understand gradient boosting',\n",
      "                           'machine learning', 'ML', 'SL',\n",
      "                           'supervised learning', 'knn', 'logistic regression',\n",
      "                           'regression', 'classification', 'naive bayes', 'nb',\n",
      "                           'ensemble techniques', 'bagging', 'boosting',\n",
      "                           'ada boosting', 'ada', 'gradient boosting',\n",
      "                           'hyper parameters'],\n",
      "              'responses': ['Link: Machine Learning wiki '],\n",
      "              'tag': 'SL'},\n",
      "             {'context_set': '',\n",
      "              'patterns': ['what is deep learning',\n",
      "                           'unable to understand deep learning',\n",
      "                           'explain me how deep learning works',\n",
      "                           'i am not able to understand deep learning',\n",
      "                           'not able to understand neural nets',\n",
      "                           'very diffult to understand neural nets',\n",
      "                           'unable to understand neural nets', 'ann',\n",
      "                           'artificial intelligence',\n",
      "                           'artificial neural networks', 'weights',\n",
      "                           'activation function', 'hidden layers', 'softmax',\n",
      "                           'sigmoid', 'relu', 'otimizer', 'forward propagation',\n",
      "                           'backward propagation', 'epochs', 'epoch',\n",
      "                           'what is an epoch', 'adam', 'sgd'],\n",
      "              'responses': ['Link: Neural Nets wiki'],\n",
      "              'tag': 'NN'},\n",
      "             {'context_set': '',\n",
      "              'patterns': ['what is your name', 'who are you', 'name please',\n",
      "                           'when are your hours of opertions',\n",
      "                           'what are your working hours', 'hours of operation',\n",
      "                           'working hours', 'hours'],\n",
      "              'responses': ['I am your virtual learning assistant'],\n",
      "              'tag': 'Bot'},\n",
      "             {'context_set': '',\n",
      "              'patterns': ['what the hell', 'bloody stupid bot',\n",
      "                           'do you think you are very smart', 'screw you',\n",
      "                           'i hate you', 'you are stupid', 'jerk',\n",
      "                           'you are a joke', 'useless piece of shit'],\n",
      "              'responses': ['Please use respectful words'],\n",
      "              'tag': 'Profane'},\n",
      "             {'context_set': '',\n",
      "              'patterns': ['my problem is not solved', 'you did not help me',\n",
      "                           'not a good solution', 'bad solution',\n",
      "                           'not good solution', 'no help', 'wasted my time',\n",
      "                           'useless bot', 'create a ticket'],\n",
      "              'responses': ['Tarnsferring the request to your PM'],\n",
      "              'tag': 'Ticket'}]}\n"
     ]
    }
   ],
   "source": [
    "pprint(intents, compact=True)"
   ]
  },
  {
   "cell_type": "markdown",
   "metadata": {},
   "source": [
    "Some terminology for the corpus:\n",
    "\n",
    "* Pairs: Collection of all transactions [Input and Output] to be used for training the chatbot.\n",
    "* Read/patterns: Patterns which are or could be expected as inputs from end-users.\n",
    "* Response: Patterns which are or could be delivered as outputs from the chatbot to end-users.\n",
    "* Regular Expressions: Patterns which can be used to generalise patterns for read and response. This is mainly used to optimise the corpus by making it more generic and avoid generating static read and write responses. \n",
    "* Tag: To group similar text instances and use the same as targeted outputs to train neural networks."
   ]
  },
  {
   "cell_type": "code",
   "execution_count": 5,
   "metadata": {},
   "outputs": [],
   "source": [
    "# enhanced intents corpus\n",
    "with open('./data/Enhanced_GL_Bot_intents.json', 'r') as f:\n",
    "    intents = json.load(f)['intents']"
   ]
  },
  {
   "cell_type": "code",
   "execution_count": 6,
   "metadata": {},
   "outputs": [
    {
     "name": "stdout",
     "output_type": "stream",
     "text": [
      "[{'context_set': '',\n",
      "  'patterns': ['good day', 'hello', 'hey', 'hey i have a doubt', 'hi',\n",
      "               'i need some help', 'is anyone there', 'is anyone there?',\n",
      "               'whats up', \"a'ight\", 'afternoon, boss.',\n",
      "               'ahoy matey how are you', 'ahoy matey how are you?',\n",
      "               'aifl batch', 'aiml batch', 'aiml batch 10', 'aiml batch 11',\n",
      "               'aiml batch 8', 'aiml batch 9', 'aloha.', 'anyone there?',\n",
      "               'appreciate it', 'are you alright', 'are you having a good day',\n",
      "               'are you ok?', 'are you okay', 'asante', 'blended', 'bonjour!',\n",
      "               'brother', 'cheers', 'dear friend', 'do you feel good',\n",
      "               'do you have a great day', 'evening', 'fist bump', \"g'day\",\n",
      "               'good afternoon', 'good afternoon.', 'good day', 'good day.',\n",
      "               'good evening', 'good morning', 'greetings',\n",
      "               'greetings, earthling', 'heeyyyyyyyyyy', 'hello', 'hello.',\n",
      "               'hey', 'hey buddy', 'hey man', 'hey mister', 'hey there',\n",
      "               'hey ya', 'hey!', 'hey, sonny.', 'hey, you!', 'heyy', 'hi',\n",
      "               'hi there', 'hi there.', 'high five!', 'hiya',\n",
      "               'how are things going', 'how are things with you?',\n",
      "               'how are things with you', 'how are things?', 'how are u',\n",
      "               'how are you', 'how are you doing',\n",
      "               'how are you doing this morning',\n",
      "               'how are you doing today my sweet friend', 'how are you doing?',\n",
      "               'how are you feeling', 'how are you today', 'how are you?',\n",
      "               'how do you do.', 'how do you do?', 'how have you been',\n",
      "               'how is it going', 'how is your day', 'how is your day going',\n",
      "               'how is your evening', 'how was your day?', 'how you doin',\n",
      "               \"how's it going\", \"how's it hanging?\", \"how's it hanging\",\n",
      "               \"how's life\", \"how's life been treating you\",\n",
      "               \"how's life been treating you?\",\n",
      "               \"how's life treating you friend\",\n",
      "               \"how's life treating you friend?\", \"how's your day going\",\n",
      "               \"how've you been?\", 'howdy', 'howdy, partner.', 'hullo',\n",
      "               'i am from', 'i am learner from', 'i belong to',\n",
      "               \"i'm fine and you\", 'is anyone there', 'is anyone there?',\n",
      "               'is everything all right', 'is everything ok?',\n",
      "               'is everything okay', \"it's a beautiful day.\",\n",
      "               \"it's good to see you\", \"it's good to see you.\",\n",
      "               \"it's great to see you!\", \"it's nice to meet you.\",\n",
      "               \"it's so nice to hear from you.\", 'ladies and gentlemen',\n",
      "               'listen', 'little wave', 'morning', 'morning, sweetie',\n",
      "               'my pm is', 'namaste', 'oh hello',\n",
      "               \"oh hello, i didn't see you there before!\", 'oi', 'online',\n",
      "               'pgaiml', 'please help me', 'rise and shine!', 'smile', 'sup',\n",
      "               'suuuuuuuuuuppp', 'talking to you for first time', 'thank you',\n",
      "               'thanks', 'thanx', 'thnx', 'watchadoing',\n",
      "               'what a lovely morning!', 'what about your day',\n",
      "               \"what wonderful weather we're having.\", \"what's going on?\",\n",
      "               \"what's good\", \"what's new?\", \"what's up\", \"what's up man\",\n",
      "               'whats up', 'why hello', 'yeehaw', 'yo', 'yo!', 'yoohoo'],\n",
      "  'responses': ['Hello there! How can i help?'],\n",
      "  'tag': 'Intro'},\n",
      " {'context_set': '',\n",
      "  'patterns': ['accept my gratitude', 'all i can say is thanks!',\n",
      "               'all i can say is thanks', 'appreciate it', 'bye', 'goodbye',\n",
      "               'how can i show you how grateful i am?',\n",
      "               'how can i show you how grateful i am', 'i appreciate it',\n",
      "               'i appreciate your help', \"i can't thank you enough\",\n",
      "               'i cannot express my appreciation', 'i humbly thank you',\n",
      "               'i thank you', \"i'll forever be grateful\", \"i'm thankful\",\n",
      "               'many thanks', 'please accept my deepest thank', 'see you later',\n",
      "               'thank you', 'thank you for helping me',\n",
      "               'thank you for the help', 'thank you so much',\n",
      "               'thank you very much', 'thanks', 'thanks a lot', 'thanks a ton',\n",
      "               'thanks for everything', 'thanks for the help', \"that's helpful\",\n",
      "               'you have my gratitude', 'appreciate it', 'awesome', 'bye bye',\n",
      "               'c ya', 'cee you later', 'cu', 'cya', 'good afternoon',\n",
      "               'good by', 'good call', 'good night', 'goodbye', 'gracias',\n",
      "               'great help', 'have a good day', 'have a nice day',\n",
      "               'i am leaving', 'later', 'many thanks', 'nice', 'see ya',\n",
      "               'see ya later', 'see you', 'see you around', 'see you later',\n",
      "               'thank u', 'thank you', 'thank you for the help', 'thanks',\n",
      "               'thanks a lot', 'thanks a ton', 'thanks again',\n",
      "               'thanks for the help', 'thanks!', 'thanx', 'thnx', 'thnx a lot',\n",
      "               'thnx for answering my questions', 'thnx for the help',\n",
      "               'thnx for your time', 'thnx!', 'too good',\n",
      "               'you are a good learning buddy', 'you are the best',\n",
      "               'you helped me', 'youre a life saver'],\n",
      "  'responses': ['I hope I was able to assist you, Good Bye'],\n",
      "  'tag': 'Exit'},\n",
      " {'context_set': '',\n",
      "  'patterns': ['olympus', 'explain olympus', 'explain olympus working',\n",
      "               'explain working of olympus', 'explain how olympus works',\n",
      "               'explain me how olympus works',\n",
      "               'i am not able to understand olympus',\n",
      "               'i dont understand olympus', 'i do not understand olympus',\n",
      "               'olympus window not working', 'no access to olympus',\n",
      "               'unable to see link in olympus', 'no link visible on olympus',\n",
      "               'whom to contact for olympus', 'lot of problem with olympus',\n",
      "               'olypus is not a good tool', 'lot of problems with olympus',\n",
      "               'lots of problems with olympus', 'how to use olympus',\n",
      "               'teach me olympus', 'bug in olympus', 'dashboard',\n",
      "               'explain dashboard', 'explain dashboard working',\n",
      "               'explain working of dashboard', 'explain how dashboard works',\n",
      "               'explain me how dashboard works',\n",
      "               'i am not able to understand dashboard',\n",
      "               'i dont understand dashboard', 'i do not understand dashboard',\n",
      "               'dashboard window not working', 'no access to dashboard',\n",
      "               'unable to see link in dashboard',\n",
      "               'no link visible on dashboard', 'whom to contact for dashboard',\n",
      "               'lot of problem with dashboard', 'olypus is not a good tool',\n",
      "               'lot of problems with dashboard',\n",
      "               'lots of problems with dashboard', 'how to use dashboard',\n",
      "               'teach me dashboard', 'bug in dashboard', 'learner dashboard',\n",
      "               'explain learner dashboard', 'explain learner dashboard working',\n",
      "               'explain working of learner dashboard',\n",
      "               'explain how learner dashboard works',\n",
      "               'explain me how learner dashboard works',\n",
      "               'i am not able to understand learner dashboard',\n",
      "               'i dont understand learner dashboard',\n",
      "               'i do not understand learner dashboard',\n",
      "               'learner dashboard window not working',\n",
      "               'no access to learner dashboard',\n",
      "               'unable to see link in learner dashboard',\n",
      "               'no link visible on learner dashboard',\n",
      "               'whom to contact for learner dashboard',\n",
      "               'lot of problem with learner dashboard',\n",
      "               'lots of problems with learner dashboard',\n",
      "               'olypus is not a good tool',\n",
      "               'lot of problems with learner dashboard',\n",
      "               'how to use learner dashboard', 'teach me learner dashboard',\n",
      "               'bug in learner dashboard'],\n",
      "  'responses': ['Link: Olympus wiki'],\n",
      "  'tag': 'Olympus'},\n",
      " {'context_set': '',\n",
      "  'patterns': ['explain me how machine learning works',\n",
      "               'i am not able to understand svm',\n",
      "               'i am not able to understand naive bayes',\n",
      "               'i am not able to understand logistic regression',\n",
      "               'i am not able to understand ensemble techb=niques',\n",
      "               'i am not able to understand knn',\n",
      "               'i am not able to understand knn imputer',\n",
      "               'i am not able to understand cross validation',\n",
      "               'i am not able to understand boosting',\n",
      "               'i am not able to understand random forest',\n",
      "               'i am not able to understand ada boosting',\n",
      "               'i am not able to understand gradient boosting', 'explain svm',\n",
      "               'explain naive bayes', 'explain logistic regression',\n",
      "               'explain ensemble techb=niques', 'explain knn',\n",
      "               'explain knn imputer', 'explain cross validation',\n",
      "               'explain boosting', 'explain random forest',\n",
      "               'explain ada boosting', 'explain gradient boosting',\n",
      "               'understand svm', 'understand naive bayes',\n",
      "               'understand logistic regression',\n",
      "               'understand ensemble techb=niques', 'understand knn',\n",
      "               'understand knn imputer', 'understand cross validation',\n",
      "               'understand boosting', 'understand random forest',\n",
      "               'understand ada boosting', 'understand gradient boosting',\n",
      "               'help svm', 'help naive bayes', 'help logistic regression',\n",
      "               'help ensemble techb=niques', 'help knn', 'help knn imputer',\n",
      "               'help cross validation', 'help boosting', 'help random forest',\n",
      "               'help ada boosting', 'help gradient boosting',\n",
      "               'machine learning', 'machine learning algo',\n",
      "               'machine learning algorithm', 'machine learning algorithm wiki',\n",
      "               'machine learning algorithms wiki',\n",
      "               'machine learning algorithm help',\n",
      "               'machine learning algorithms help', 'ml', 'ml algo',\n",
      "               'ml algorithm', 'ml algorithm wiki', 'ml algorithms wiki',\n",
      "               'ml algorithm help', 'ml algorithms help', 'sl', 'sl algo',\n",
      "               'sl algorithm', 'sl algorithm wiki', 'sl algorithms wiki',\n",
      "               'sl algorithm help', 'sl algorithms help', 'supervised learning',\n",
      "               'supervised vs unsupervised', 'supervised ml vs unsupervised ml',\n",
      "               'supervised alogs vs unsupervised algos',\n",
      "               'supervised learning vs unsupervised learning',\n",
      "               'supervised learning algo', 'supervised learning algorithm',\n",
      "               'supervised learning algorithm wiki',\n",
      "               'supervised learning algorithms wiki',\n",
      "               'supervised learning algorithm help',\n",
      "               'supervised learning algorithms help', 'bagging', 'boosting',\n",
      "               'bagging and boosting', 'bagging & boosting', 'knn', 'lr',\n",
      "               'linear regression', 'logistic regression',\n",
      "               'multiple logistic regression', 'regression', 'regression algo',\n",
      "               'regression task', 'regression alogrithm',\n",
      "               'regression alogrithms', 'regression ml alogrithms',\n",
      "               'regression machine learning alogrithms', 'classification',\n",
      "               'classification algo', 'classification task',\n",
      "               'classification alogrithm', 'classification alogrithms',\n",
      "               'classification ml alogrithms',\n",
      "               'classification machine learning alogrithms', 'naive bayes',\n",
      "               'nb', 'ensemble techniques', 'bagging', 'boosting',\n",
      "               'decision tree', 'rf', 'random forest', 'svm',\n",
      "               'support vector machine', 'kmeans', 'kmeans clustering',\n",
      "               'clustering', 'unsupervised', 'unsupervised ml',\n",
      "               'unsupervised learning', 'unsupervised algo',\n",
      "               'unsupervised alg1orithm', 'unsupervised ml alg1orithm',\n",
      "               'unsupervised machine learning alg1orithm', 'ada', 'ada boost',\n",
      "               'xgboost', 'lightgbm', 'catboost', 'xgboost algo',\n",
      "               'ada boosting', 'adaptive gradient boosting',\n",
      "               'gradient boosting', 'dimensionalirty reduction', 'svd', 'pca',\n",
      "               'principal component analysis', 'hyper parameters',\n",
      "               'hyper parameter turning'],\n",
      "  'responses': ['Link: Machine Learning wiki '],\n",
      "  'tag': 'SL'},\n",
      " {'context_set': '',\n",
      "  'patterns': ['what is deep learning', 'dl', 'explain dl',\n",
      "               'explain how dl works', 'deep learning', 'explain deep learning',\n",
      "               'explain how deep learning works',\n",
      "               'unable to understand deep learning',\n",
      "               'explain me how deep learning works',\n",
      "               'i am not able to understand deep learning',\n",
      "               'not able to understand neural nets',\n",
      "               'very diffult to understand neural nets',\n",
      "               'unable to understand neural nets', 'ann',\n",
      "               'artificial intelligence', 'artificial neural networks',\n",
      "               'neural net', 'feed forward networks', 'forward prop',\n",
      "               'forward propagation', 'backprop', 'backward propagation',\n",
      "               'explain backward propagation', 'help backward propagation',\n",
      "               'weights', 'activation function', 'hidden layers', 'softmax',\n",
      "               'sigmoid', 'tanh', 'relu', 'adaptive gradient descent',\n",
      "               'rmsprop', 'gradient descent', 'gradient descent with momentum',\n",
      "               'stochastic gradient descent', 'otimizer', 'forward propagation',\n",
      "               'backward propagation', 'epochs', 'epoch', 'train',\n",
      "               'how to train', 'how to test', 'how to evaluate',\n",
      "               'how to train nn', 'how to test nn', 'how to evaluate nn',\n",
      "               'how to train neural net', 'how to evaluate neural net',\n",
      "               'how to test neural net', 'training', 'what is an epoch', 'adam',\n",
      "               'sgd', 'explainability', 'rnn', 'recurrant neural net',\n",
      "               'recurrant neural network', 'lstm', 'long short term memory',\n",
      "               'long short term memory net', 'long short term memory network',\n",
      "               'cnn', 'convolutional neural network', 'cv', 'computer vision',\n",
      "               'face recogntion', 'face detection', 'text to speech',\n",
      "               'gpu training', 'ner', 'named entity recognition',\n",
      "               'speech recogntion', 'nlp', 'natural language processing',\n",
      "               'bert', 'albert', 'xlnet', 'imagenet', 'image net', 'yolo',\n",
      "               'yolov2', 'yolov3', 'attention', 'all you need is attention',\n",
      "               'transformer models', 'gan models', 'gan',\n",
      "               'general adverserial nets', 'general adverserial networks'],\n",
      "  'responses': ['Link: Neural Nets wiki'],\n",
      "  'tag': 'NN'},\n",
      " {'context_set': '',\n",
      "  'patterns': ['what is your name', 'whats your name', 'what should i call you',\n",
      "               'who are you', 'what are you', 'why are you', 'who u', 'who r u',\n",
      "               'name', 'are you a person', 'are you a bot',\n",
      "               'are you a bot or person', 'robot', 'bot', 'name please',\n",
      "               'when are your hours of opertions',\n",
      "               'what are your working hours', 'hours of operation',\n",
      "               'working hours', 'hours'],\n",
      "  'responses': ['I am your virtual learning assistant'],\n",
      "  'tag': 'Bot'},\n",
      " {'context_set': '',\n",
      "  'patterns': ['what the hell', 'bloody stupid bot',\n",
      "               'do you think you are very smart', 'screw you', 'i hate you',\n",
      "               'you are stupid', 'shit', 'piss', 'jerk', 'you are a joke',\n",
      "               'useless piece of shit'],\n",
      "  'responses': ['Kindly use respectful words'],\n",
      "  'tag': 'Profane'},\n",
      " {'context_set': '',\n",
      "  'patterns': ['my problem is not solved', 'you did not help me',\n",
      "               'not a good solution', 'bad solution', 'not good solution',\n",
      "               'no help', 'wasted my time', 'such a waster', 'not resolved',\n",
      "               'you did not resolve', 'you did not resolve my problem',\n",
      "               'unsatisfactory', 'can you even understand me',\n",
      "               'unsatisfactory solution', 'useless bot', 'create a ticket',\n",
      "               'not satisfied', 'more help required', 'connect to human',\n",
      "               'connect to person', 'connect me to human',\n",
      "               'connect me to an actual human',\n",
      "               'connect me to an actual person', 'talk to human',\n",
      "               'talk to customer suppport', 'talk to customer suppport exec',\n",
      "               'talk to customer suppport executive'],\n",
      "  'responses': ['Tarnsferring the request to your PM'],\n",
      "  'tag': 'Ticket'}]\n"
     ]
    }
   ],
   "source": [
    "pprint(intents, compact=True)"
   ]
  },
  {
   "cell_type": "markdown",
   "metadata": {},
   "source": [
    "<h3><ul>\n",
    "    <li><strong><span style=\"font-family: 'Trebuchet MS', Helvetica, sans-serif;\">Data Preprocessing</span></strong></li>\n",
    "</ul></h3>"
   ]
  },
  {
   "cell_type": "code",
   "execution_count": 7,
   "metadata": {},
   "outputs": [
    {
     "data": {
      "text/plain": [
       "dict_keys(['context_set', 'patterns', 'responses', 'tag'])"
      ]
     },
     "execution_count": 7,
     "metadata": {},
     "output_type": "execute_result"
    }
   ],
   "source": [
    "intents[0].keys()"
   ]
  },
  {
   "cell_type": "code",
   "execution_count": 8,
   "metadata": {},
   "outputs": [
    {
     "name": "stdout",
     "output_type": "stream",
     "text": [
      "Intro\n",
      "Exit\n",
      "Olympus\n",
      "SL\n",
      "NN\n",
      "Bot\n",
      "Profane\n",
      "Ticket\n"
     ]
    }
   ],
   "source": [
    "# create dataset\n",
    "intents_df = pd.DataFrame()\n",
    "\n",
    "for intent in intents:\n",
    "    print(intent['tag'])\n",
    "    patterns = intent['patterns']\n",
    "    response = intent['responses'][0]\n",
    "    intent_df = pd.DataFrame({'pattern': patterns,\n",
    "                              'reponse':[response]*(len(patterns)),\n",
    "                              'intent': [intent['tag']]*(len(patterns))})\n",
    "    intents_df = pd.concat([intents_df, intent_df])\n",
    "    "
   ]
  },
  {
   "cell_type": "code",
   "execution_count": 9,
   "metadata": {},
   "outputs": [
    {
     "data": {
      "text/html": [
       "<div>\n",
       "<style scoped>\n",
       "    .dataframe tbody tr th:only-of-type {\n",
       "        vertical-align: middle;\n",
       "    }\n",
       "\n",
       "    .dataframe tbody tr th {\n",
       "        vertical-align: top;\n",
       "    }\n",
       "\n",
       "    .dataframe thead th {\n",
       "        text-align: right;\n",
       "    }\n",
       "</style>\n",
       "<table border=\"1\" class=\"dataframe\">\n",
       "  <thead>\n",
       "    <tr style=\"text-align: right;\">\n",
       "      <th></th>\n",
       "      <th>pattern</th>\n",
       "      <th>reponse</th>\n",
       "      <th>intent</th>\n",
       "    </tr>\n",
       "  </thead>\n",
       "  <tbody>\n",
       "    <tr>\n",
       "      <th>114</th>\n",
       "      <td>unsupervised ml</td>\n",
       "      <td>Link: Machine Learning wiki</td>\n",
       "      <td>SL</td>\n",
       "    </tr>\n",
       "    <tr>\n",
       "      <th>132</th>\n",
       "      <td>thanks</td>\n",
       "      <td>Hello there! How can i help?</td>\n",
       "      <td>Intro</td>\n",
       "    </tr>\n",
       "    <tr>\n",
       "      <th>54</th>\n",
       "      <td>see you around</td>\n",
       "      <td>I hope I was able to assist you, Good Bye</td>\n",
       "      <td>Exit</td>\n",
       "    </tr>\n",
       "    <tr>\n",
       "      <th>112</th>\n",
       "      <td>clustering</td>\n",
       "      <td>Link: Machine Learning wiki</td>\n",
       "      <td>SL</td>\n",
       "    </tr>\n",
       "    <tr>\n",
       "      <th>6</th>\n",
       "      <td>shit</td>\n",
       "      <td>Kindly use respectful words</td>\n",
       "      <td>Profane</td>\n",
       "    </tr>\n",
       "    <tr>\n",
       "      <th>4</th>\n",
       "      <td>i hate you</td>\n",
       "      <td>Kindly use respectful words</td>\n",
       "      <td>Profane</td>\n",
       "    </tr>\n",
       "    <tr>\n",
       "      <th>26</th>\n",
       "      <td>understand ensemble techb=niques</td>\n",
       "      <td>Link: Machine Learning wiki</td>\n",
       "      <td>SL</td>\n",
       "    </tr>\n",
       "    <tr>\n",
       "      <th>35</th>\n",
       "      <td>stochastic gradient descent</td>\n",
       "      <td>Link: Neural Nets wiki</td>\n",
       "      <td>NN</td>\n",
       "    </tr>\n",
       "    <tr>\n",
       "      <th>115</th>\n",
       "      <td>unsupervised learning</td>\n",
       "      <td>Link: Machine Learning wiki</td>\n",
       "      <td>SL</td>\n",
       "    </tr>\n",
       "    <tr>\n",
       "      <th>1</th>\n",
       "      <td>all i can say is thanks!</td>\n",
       "      <td>I hope I was able to assist you, Good Bye</td>\n",
       "      <td>Exit</td>\n",
       "    </tr>\n",
       "    <tr>\n",
       "      <th>14</th>\n",
       "      <td>name please</td>\n",
       "      <td>I am your virtual learning assistant</td>\n",
       "      <td>Bot</td>\n",
       "    </tr>\n",
       "    <tr>\n",
       "      <th>22</th>\n",
       "      <td>thank you so much</td>\n",
       "      <td>I hope I was able to assist you, Good Bye</td>\n",
       "      <td>Exit</td>\n",
       "    </tr>\n",
       "    <tr>\n",
       "      <th>55</th>\n",
       "      <td>whom to contact for learner dashboard</td>\n",
       "      <td>Link: Olympus wiki</td>\n",
       "      <td>Olympus</td>\n",
       "    </tr>\n",
       "    <tr>\n",
       "      <th>28</th>\n",
       "      <td>sigmoid</td>\n",
       "      <td>Link: Neural Nets wiki</td>\n",
       "      <td>NN</td>\n",
       "    </tr>\n",
       "    <tr>\n",
       "      <th>35</th>\n",
       "      <td>cee you later</td>\n",
       "      <td>I hope I was able to assist you, Good Bye</td>\n",
       "      <td>Exit</td>\n",
       "    </tr>\n",
       "    <tr>\n",
       "      <th>67</th>\n",
       "      <td>how are u</td>\n",
       "      <td>Hello there! How can i help?</td>\n",
       "      <td>Intro</td>\n",
       "    </tr>\n",
       "    <tr>\n",
       "      <th>40</th>\n",
       "      <td>good day.</td>\n",
       "      <td>Hello there! How can i help?</td>\n",
       "      <td>Intro</td>\n",
       "    </tr>\n",
       "    <tr>\n",
       "      <th>64</th>\n",
       "      <td>convolutional neural network</td>\n",
       "      <td>Link: Neural Nets wiki</td>\n",
       "      <td>NN</td>\n",
       "    </tr>\n",
       "    <tr>\n",
       "      <th>37</th>\n",
       "      <td>forward propagation</td>\n",
       "      <td>Link: Neural Nets wiki</td>\n",
       "      <td>NN</td>\n",
       "    </tr>\n",
       "    <tr>\n",
       "      <th>39</th>\n",
       "      <td>how to use dashboard</td>\n",
       "      <td>Link: Olympus wiki</td>\n",
       "      <td>Olympus</td>\n",
       "    </tr>\n",
       "    <tr>\n",
       "      <th>29</th>\n",
       "      <td>that's helpful</td>\n",
       "      <td>I hope I was able to assist you, Good Bye</td>\n",
       "      <td>Exit</td>\n",
       "    </tr>\n",
       "    <tr>\n",
       "      <th>100</th>\n",
       "      <td>naive bayes</td>\n",
       "      <td>Link: Machine Learning wiki</td>\n",
       "      <td>SL</td>\n",
       "    </tr>\n",
       "    <tr>\n",
       "      <th>27</th>\n",
       "      <td>blended</td>\n",
       "      <td>Hello there! How can i help?</td>\n",
       "      <td>Intro</td>\n",
       "    </tr>\n",
       "    <tr>\n",
       "      <th>47</th>\n",
       "      <td>how to evaluate nn</td>\n",
       "      <td>Link: Neural Nets wiki</td>\n",
       "      <td>NN</td>\n",
       "    </tr>\n",
       "    <tr>\n",
       "      <th>98</th>\n",
       "      <td>classification ml alogrithms</td>\n",
       "      <td>Link: Machine Learning wiki</td>\n",
       "      <td>SL</td>\n",
       "    </tr>\n",
       "  </tbody>\n",
       "</table>\n",
       "</div>"
      ],
      "text/plain": [
       "                                   pattern  \\\n",
       "114                        unsupervised ml   \n",
       "132                                 thanks   \n",
       "54                          see you around   \n",
       "112                             clustering   \n",
       "6                                     shit   \n",
       "4                               i hate you   \n",
       "26        understand ensemble techb=niques   \n",
       "35             stochastic gradient descent   \n",
       "115                  unsupervised learning   \n",
       "1                 all i can say is thanks!   \n",
       "14                             name please   \n",
       "22                       thank you so much   \n",
       "55   whom to contact for learner dashboard   \n",
       "28                                 sigmoid   \n",
       "35                           cee you later   \n",
       "67                               how are u   \n",
       "40                               good day.   \n",
       "64            convolutional neural network   \n",
       "37                     forward propagation   \n",
       "39                    how to use dashboard   \n",
       "29                          that's helpful   \n",
       "100                            naive bayes   \n",
       "27                                 blended   \n",
       "47                      how to evaluate nn   \n",
       "98            classification ml alogrithms   \n",
       "\n",
       "                                       reponse   intent  \n",
       "114               Link: Machine Learning wiki        SL  \n",
       "132               Hello there! How can i help?    Intro  \n",
       "54   I hope I was able to assist you, Good Bye     Exit  \n",
       "112               Link: Machine Learning wiki        SL  \n",
       "6                  Kindly use respectful words  Profane  \n",
       "4                  Kindly use respectful words  Profane  \n",
       "26                Link: Machine Learning wiki        SL  \n",
       "35                      Link: Neural Nets wiki       NN  \n",
       "115               Link: Machine Learning wiki        SL  \n",
       "1    I hope I was able to assist you, Good Bye     Exit  \n",
       "14        I am your virtual learning assistant      Bot  \n",
       "22   I hope I was able to assist you, Good Bye     Exit  \n",
       "55                          Link: Olympus wiki  Olympus  \n",
       "28                      Link: Neural Nets wiki       NN  \n",
       "35   I hope I was able to assist you, Good Bye     Exit  \n",
       "67                Hello there! How can i help?    Intro  \n",
       "40                Hello there! How can i help?    Intro  \n",
       "64                      Link: Neural Nets wiki       NN  \n",
       "37                      Link: Neural Nets wiki       NN  \n",
       "39                          Link: Olympus wiki  Olympus  \n",
       "29   I hope I was able to assist you, Good Bye     Exit  \n",
       "100               Link: Machine Learning wiki        SL  \n",
       "27                Hello there! How can i help?    Intro  \n",
       "47                      Link: Neural Nets wiki       NN  \n",
       "98                Link: Machine Learning wiki        SL  "
      ]
     },
     "execution_count": 9,
     "metadata": {},
     "output_type": "execute_result"
    }
   ],
   "source": [
    "intents_df.sample(25)"
   ]
  },
  {
   "cell_type": "code",
   "execution_count": 10,
   "metadata": {},
   "outputs": [
    {
     "name": "stderr",
     "output_type": "stream",
     "text": [
      "[nltk_data] Downloading package punkt to\n",
      "[nltk_data]     C:\\Users\\surya\\AppData\\Roaming\\nltk_data...\n",
      "[nltk_data]   Package punkt is already up-to-date!\n",
      "[nltk_data] Downloading package stopwords to\n",
      "[nltk_data]     C:\\Users\\surya\\AppData\\Roaming\\nltk_data...\n",
      "[nltk_data]   Package stopwords is already up-to-date!\n"
     ]
    }
   ],
   "source": [
    "# !pip install spacy\n",
    "# !python -m spacy downlaod en_core_web_sm\n",
    "\n",
    "import spacy\n",
    "import nltk\n",
    "\n",
    "nltk.download('punkt')\n",
    "nltk.download('stopwords')\n",
    "# Initialize spacy 'en_core_web_sm' model\n",
    "nlp = spacy.load('en_core_web_sm', disable=['parser'])"
   ]
  },
  {
   "cell_type": "code",
   "execution_count": 11,
   "metadata": {},
   "outputs": [],
   "source": [
    "# utility functions for text preprocesing\n",
    "import re\n",
    "import string\n",
    "import unicodedata\n",
    "import contractions\n",
    "from bs4 import BeautifulSoup\n",
    "from nltk.tokenize import word_tokenize, sent_tokenize\n",
    "from nltk.stem.snowball import SnowballStemmer\n",
    "\n",
    "stemmer = SnowballStemmer('english')\n",
    "stop_words = set(nltk.corpus.stopwords.words('english'))\n",
    "\n",
    "def replace_accented_chars(review_text):\n",
    "    '''normalizes and replaces accented characters'''\n",
    "    unaccented_text = unicodedata.normalize('NFKD', review_text).encode('ascii', 'ignore').decode('utf-8', 'ignore')\n",
    "    return unaccented_text\n",
    "\n",
    "\n",
    "\n",
    "def strip_html_tags(review_text):\n",
    "    '''strips html tags like <h4> ..etc'''\n",
    "    soup = BeautifulSoup(review_text, \"html.parser\")\n",
    "    [s.extract() for s in soup(['iframe', 'script'])]\n",
    "    stripped_text = soup.get_text()\n",
    "    stripped_text = re.sub(r'[\\r|\\n|\\r\\n]+', '\\n', stripped_text)\n",
    "    return stripped_text\n",
    "\n",
    "\n",
    "def expand_contractions(review_text):\n",
    "    review_text = contractions.fix(review_text)\n",
    "    return review_text\n",
    "\n",
    "\n",
    "def remove_special_characters(review_text):\n",
    "    '''\n",
    "    Remove special characters but preserve digits and excalamation marks\n",
    "    as they indicate emotionally charged review '''\n",
    "    review_text = re.sub(r\"[^A-Za-z0-9!?\\'\\`]\", \" \", review_text)\n",
    "    return review_text\n",
    "\n",
    "\n",
    "def strip_stops(text, is_lower_case=False, stop_words=stop_words):\n",
    "    '''strip stopwrds'''\n",
    "    tokens = word_tokenize(text)\n",
    "    tokens = [token.strip() for token in tokens]\n",
    "    if is_lower_case:\n",
    "        filtered_tokens = [token for token in tokens if token not in stop_words]\n",
    "    else:\n",
    "        filtered_tokens = [token for token in tokens if token.lower() not in stop_words]\n",
    "    filtered_text = ' '.join(filtered_tokens)    \n",
    "    return filtered_text\n",
    "\n",
    "\n",
    "def tokenize(text):\n",
    "    '''tokenize using spaCy'''\n",
    "    doc = nlp(text)\n",
    "    return \" \".join([t.text for t in doc])\n",
    "\n",
    "# Stemming/Lemmatization\n",
    "def lemmatize(text):\n",
    "    '''lemmatize using spaCy'''\n",
    "    doc = nlp(text)\n",
    "    return \" \".join([t.lemma_ for t in doc])\n",
    "\n",
    "\n",
    "def snowball_stem(text, stemmer=stemmer):\n",
    "    '''stemming using snowball stemmer'''\n",
    "    words = text.split()\n",
    "    stemmed_words = [stemmer.stem(word) for word in words]\n",
    "    review_text = \" \".join(stemmed_words)\n",
    "    return review_text"
   ]
  },
  {
   "cell_type": "code",
   "execution_count": 12,
   "metadata": {},
   "outputs": [
    {
     "data": {
      "text/plain": [
       "'how be you do ?'"
      ]
     },
     "execution_count": 12,
     "metadata": {},
     "output_type": "execute_result"
    }
   ],
   "source": [
    "def preprocess_text(text: str, lower=True,\n",
    "                    strip_stops=False) -> str:\n",
    "    text = replace_accented_chars(text)\n",
    "    text = strip_html_tags(text)\n",
    "    text = expand_contractions(text)\n",
    "    text = remove_special_characters(text)\n",
    "    if lower:\n",
    "        text = text.lower()\n",
    "    if strip_stops:\n",
    "        text = strip_stops(text)\n",
    "    text = tokenize(text)\n",
    "    text = lemmatize(text)\n",
    "    return str(text.strip())\n",
    "\n",
    "\n",
    "sentence = \"<p>How are you doing? 😊</p>\"\n",
    "cleaned = preprocess_text(sentence)\n",
    "cleaned"
   ]
  },
  {
   "cell_type": "code",
   "execution_count": 13,
   "metadata": {},
   "outputs": [],
   "source": [
    "def preprocess(row):\n",
    "    text = row.pattern\n",
    "    if isinstance(text, str):\n",
    "        text = preprocess_text(text)\n",
    "    else:\n",
    "        text = np.nan\n",
    "    row['cleaned_pattern'] = text\n",
    "    return row"
   ]
  },
  {
   "cell_type": "code",
   "execution_count": 14,
   "metadata": {},
   "outputs": [
    {
     "name": "stderr",
     "output_type": "stream",
     "text": [
      "100%|███████████████████████████████████████████████████████████████████████████████| 574/574 [00:03<00:00, 159.00it/s]\n"
     ]
    }
   ],
   "source": [
    "intents_df = intents_df.progress_apply(preprocess, axis=1)"
   ]
  },
  {
   "cell_type": "code",
   "execution_count": 15,
   "metadata": {},
   "outputs": [
    {
     "data": {
      "text/plain": [
       "pattern            False\n",
       "reponse            False\n",
       "intent             False\n",
       "cleaned_pattern    False\n",
       "dtype: bool"
      ]
     },
     "execution_count": 15,
     "metadata": {},
     "output_type": "execute_result"
    }
   ],
   "source": [
    "intents_df.isna().any()"
   ]
  },
  {
   "cell_type": "code",
   "execution_count": 16,
   "metadata": {},
   "outputs": [],
   "source": [
    "# encode the target column\n",
    "from sklearn.preprocessing import LabelEncoder\n",
    "\n",
    "le = LabelEncoder()\n",
    "intents_df['labels' ] = le.fit_transform(intents_df['intent'])"
   ]
  },
  {
   "cell_type": "code",
   "execution_count": 17,
   "metadata": {},
   "outputs": [
    {
     "data": {
      "text/html": [
       "<div>\n",
       "<style scoped>\n",
       "    .dataframe tbody tr th:only-of-type {\n",
       "        vertical-align: middle;\n",
       "    }\n",
       "\n",
       "    .dataframe tbody tr th {\n",
       "        vertical-align: top;\n",
       "    }\n",
       "\n",
       "    .dataframe thead th {\n",
       "        text-align: right;\n",
       "    }\n",
       "</style>\n",
       "<table border=\"1\" class=\"dataframe\">\n",
       "  <thead>\n",
       "    <tr style=\"text-align: right;\">\n",
       "      <th></th>\n",
       "      <th>pattern</th>\n",
       "      <th>reponse</th>\n",
       "      <th>intent</th>\n",
       "      <th>cleaned_pattern</th>\n",
       "      <th>labels</th>\n",
       "    </tr>\n",
       "  </thead>\n",
       "  <tbody>\n",
       "    <tr>\n",
       "      <th>47</th>\n",
       "      <td>machine learning algorithm</td>\n",
       "      <td>Link: Machine Learning wiki</td>\n",
       "      <td>SL</td>\n",
       "      <td>machine learn algorithm</td>\n",
       "      <td>6</td>\n",
       "    </tr>\n",
       "    <tr>\n",
       "      <th>0</th>\n",
       "      <td>my problem is not solved</td>\n",
       "      <td>Tarnsferring the request to your PM</td>\n",
       "      <td>Ticket</td>\n",
       "      <td>my problem be not solve</td>\n",
       "      <td>7</td>\n",
       "    </tr>\n",
       "    <tr>\n",
       "      <th>144</th>\n",
       "      <td>whats up</td>\n",
       "      <td>Hello there! How can i help?</td>\n",
       "      <td>Intro</td>\n",
       "      <td>what be up</td>\n",
       "      <td>2</td>\n",
       "    </tr>\n",
       "    <tr>\n",
       "      <th>31</th>\n",
       "      <td>appreciate it</td>\n",
       "      <td>I hope I was able to assist you, Good Bye</td>\n",
       "      <td>Exit</td>\n",
       "      <td>appreciate it</td>\n",
       "      <td>1</td>\n",
       "    </tr>\n",
       "    <tr>\n",
       "      <th>104</th>\n",
       "      <td>boosting</td>\n",
       "      <td>Link: Machine Learning wiki</td>\n",
       "      <td>SL</td>\n",
       "      <td>boost</td>\n",
       "      <td>6</td>\n",
       "    </tr>\n",
       "    <tr>\n",
       "      <th>63</th>\n",
       "      <td>how are things going</td>\n",
       "      <td>Hello there! How can i help?</td>\n",
       "      <td>Intro</td>\n",
       "      <td>how be thing go</td>\n",
       "      <td>2</td>\n",
       "    </tr>\n",
       "    <tr>\n",
       "      <th>74</th>\n",
       "      <td>supervised learning algorithms wiki</td>\n",
       "      <td>Link: Machine Learning wiki</td>\n",
       "      <td>SL</td>\n",
       "      <td>supervise learn algorithms wiki</td>\n",
       "      <td>6</td>\n",
       "    </tr>\n",
       "    <tr>\n",
       "      <th>2</th>\n",
       "      <td>all i can say is thanks</td>\n",
       "      <td>I hope I was able to assist you, Good Bye</td>\n",
       "      <td>Exit</td>\n",
       "      <td>all I can say be thank</td>\n",
       "      <td>1</td>\n",
       "    </tr>\n",
       "    <tr>\n",
       "      <th>11</th>\n",
       "      <td>are you a bot or person</td>\n",
       "      <td>I am your virtual learning assistant</td>\n",
       "      <td>Bot</td>\n",
       "      <td>be you a bot or person</td>\n",
       "      <td>0</td>\n",
       "    </tr>\n",
       "    <tr>\n",
       "      <th>46</th>\n",
       "      <td>how to test nn</td>\n",
       "      <td>Link: Neural Nets wiki</td>\n",
       "      <td>NN</td>\n",
       "      <td>how to test nn</td>\n",
       "      <td>3</td>\n",
       "    </tr>\n",
       "    <tr>\n",
       "      <th>15</th>\n",
       "      <td>explain ensemble techb=niques</td>\n",
       "      <td>Link: Machine Learning wiki</td>\n",
       "      <td>SL</td>\n",
       "      <td>explain ensemble techb nique</td>\n",
       "      <td>6</td>\n",
       "    </tr>\n",
       "    <tr>\n",
       "      <th>28</th>\n",
       "      <td>sigmoid</td>\n",
       "      <td>Link: Neural Nets wiki</td>\n",
       "      <td>NN</td>\n",
       "      <td>sigmoid</td>\n",
       "      <td>3</td>\n",
       "    </tr>\n",
       "    <tr>\n",
       "      <th>80</th>\n",
       "      <td>bagging &amp; boosting</td>\n",
       "      <td>Link: Machine Learning wiki</td>\n",
       "      <td>SL</td>\n",
       "      <td>bag     boost</td>\n",
       "      <td>6</td>\n",
       "    </tr>\n",
       "    <tr>\n",
       "      <th>6</th>\n",
       "      <td>i am not able to understand olympus</td>\n",
       "      <td>Link: Olympus wiki</td>\n",
       "      <td>Olympus</td>\n",
       "      <td>I be not able to understand olympus</td>\n",
       "      <td>4</td>\n",
       "    </tr>\n",
       "    <tr>\n",
       "      <th>89</th>\n",
       "      <td>how's life been treating you</td>\n",
       "      <td>Hello there! How can i help?</td>\n",
       "      <td>Intro</td>\n",
       "      <td>how be life be treat you</td>\n",
       "      <td>2</td>\n",
       "    </tr>\n",
       "    <tr>\n",
       "      <th>122</th>\n",
       "      <td>xgboost</td>\n",
       "      <td>Link: Machine Learning wiki</td>\n",
       "      <td>SL</td>\n",
       "      <td>xgboost</td>\n",
       "      <td>6</td>\n",
       "    </tr>\n",
       "    <tr>\n",
       "      <th>74</th>\n",
       "      <td>how are you today</td>\n",
       "      <td>Hello there! How can i help?</td>\n",
       "      <td>Intro</td>\n",
       "      <td>how be you today</td>\n",
       "      <td>2</td>\n",
       "    </tr>\n",
       "    <tr>\n",
       "      <th>146</th>\n",
       "      <td>yeehaw</td>\n",
       "      <td>Hello there! How can i help?</td>\n",
       "      <td>Intro</td>\n",
       "      <td>yeehaw</td>\n",
       "      <td>2</td>\n",
       "    </tr>\n",
       "    <tr>\n",
       "      <th>64</th>\n",
       "      <td>thanks!</td>\n",
       "      <td>I hope I was able to assist you, Good Bye</td>\n",
       "      <td>Exit</td>\n",
       "      <td>thank !</td>\n",
       "      <td>1</td>\n",
       "    </tr>\n",
       "    <tr>\n",
       "      <th>107</th>\n",
       "      <td>random forest</td>\n",
       "      <td>Link: Machine Learning wiki</td>\n",
       "      <td>SL</td>\n",
       "      <td>random forest</td>\n",
       "      <td>6</td>\n",
       "    </tr>\n",
       "    <tr>\n",
       "      <th>44</th>\n",
       "      <td>great help</td>\n",
       "      <td>I hope I was able to assist you, Good Bye</td>\n",
       "      <td>Exit</td>\n",
       "      <td>great help</td>\n",
       "      <td>1</td>\n",
       "    </tr>\n",
       "    <tr>\n",
       "      <th>3</th>\n",
       "      <td>appreciate it</td>\n",
       "      <td>I hope I was able to assist you, Good Bye</td>\n",
       "      <td>Exit</td>\n",
       "      <td>appreciate it</td>\n",
       "      <td>1</td>\n",
       "    </tr>\n",
       "    <tr>\n",
       "      <th>76</th>\n",
       "      <td>bert</td>\n",
       "      <td>Link: Neural Nets wiki</td>\n",
       "      <td>NN</td>\n",
       "      <td>bert</td>\n",
       "      <td>3</td>\n",
       "    </tr>\n",
       "    <tr>\n",
       "      <th>29</th>\n",
       "      <td>understand cross validation</td>\n",
       "      <td>Link: Machine Learning wiki</td>\n",
       "      <td>SL</td>\n",
       "      <td>understand cross validation</td>\n",
       "      <td>6</td>\n",
       "    </tr>\n",
       "    <tr>\n",
       "      <th>70</th>\n",
       "      <td>thnx for your time</td>\n",
       "      <td>I hope I was able to assist you, Good Bye</td>\n",
       "      <td>Exit</td>\n",
       "      <td>thnx for your time</td>\n",
       "      <td>1</td>\n",
       "    </tr>\n",
       "  </tbody>\n",
       "</table>\n",
       "</div>"
      ],
      "text/plain": [
       "                                 pattern  \\\n",
       "47            machine learning algorithm   \n",
       "0               my problem is not solved   \n",
       "144                             whats up   \n",
       "31                         appreciate it   \n",
       "104                             boosting   \n",
       "63                  how are things going   \n",
       "74   supervised learning algorithms wiki   \n",
       "2                all i can say is thanks   \n",
       "11               are you a bot or person   \n",
       "46                        how to test nn   \n",
       "15         explain ensemble techb=niques   \n",
       "28                               sigmoid   \n",
       "80                    bagging & boosting   \n",
       "6    i am not able to understand olympus   \n",
       "89          how's life been treating you   \n",
       "122                              xgboost   \n",
       "74                     how are you today   \n",
       "146                               yeehaw   \n",
       "64                               thanks!   \n",
       "107                        random forest   \n",
       "44                            great help   \n",
       "3                          appreciate it   \n",
       "76                                  bert   \n",
       "29           understand cross validation   \n",
       "70                    thnx for your time   \n",
       "\n",
       "                                       reponse   intent  \\\n",
       "47                Link: Machine Learning wiki        SL   \n",
       "0          Tarnsferring the request to your PM   Ticket   \n",
       "144               Hello there! How can i help?    Intro   \n",
       "31   I hope I was able to assist you, Good Bye     Exit   \n",
       "104               Link: Machine Learning wiki        SL   \n",
       "63                Hello there! How can i help?    Intro   \n",
       "74                Link: Machine Learning wiki        SL   \n",
       "2    I hope I was able to assist you, Good Bye     Exit   \n",
       "11        I am your virtual learning assistant      Bot   \n",
       "46                      Link: Neural Nets wiki       NN   \n",
       "15                Link: Machine Learning wiki        SL   \n",
       "28                      Link: Neural Nets wiki       NN   \n",
       "80                Link: Machine Learning wiki        SL   \n",
       "6                           Link: Olympus wiki  Olympus   \n",
       "89                Hello there! How can i help?    Intro   \n",
       "122               Link: Machine Learning wiki        SL   \n",
       "74                Hello there! How can i help?    Intro   \n",
       "146               Hello there! How can i help?    Intro   \n",
       "64   I hope I was able to assist you, Good Bye     Exit   \n",
       "107               Link: Machine Learning wiki        SL   \n",
       "44   I hope I was able to assist you, Good Bye     Exit   \n",
       "3    I hope I was able to assist you, Good Bye     Exit   \n",
       "76                      Link: Neural Nets wiki       NN   \n",
       "29                Link: Machine Learning wiki        SL   \n",
       "70   I hope I was able to assist you, Good Bye     Exit   \n",
       "\n",
       "                         cleaned_pattern  labels  \n",
       "47               machine learn algorithm       6  \n",
       "0                my problem be not solve       7  \n",
       "144                           what be up       2  \n",
       "31                         appreciate it       1  \n",
       "104                                boost       6  \n",
       "63                       how be thing go       2  \n",
       "74       supervise learn algorithms wiki       6  \n",
       "2                 all I can say be thank       1  \n",
       "11                be you a bot or person       0  \n",
       "46                        how to test nn       3  \n",
       "15          explain ensemble techb nique       6  \n",
       "28                               sigmoid       3  \n",
       "80                         bag     boost       6  \n",
       "6    I be not able to understand olympus       4  \n",
       "89              how be life be treat you       2  \n",
       "122                              xgboost       6  \n",
       "74                      how be you today       2  \n",
       "146                               yeehaw       2  \n",
       "64                               thank !       1  \n",
       "107                        random forest       6  \n",
       "44                            great help       1  \n",
       "3                          appreciate it       1  \n",
       "76                                  bert       3  \n",
       "29           understand cross validation       6  \n",
       "70                    thnx for your time       1  "
      ]
     },
     "execution_count": 17,
     "metadata": {},
     "output_type": "execute_result"
    }
   ],
   "source": [
    "intents_df.sample(25)"
   ]
  },
  {
   "cell_type": "code",
   "execution_count": 18,
   "metadata": {},
   "outputs": [
    {
     "name": "stdout",
     "output_type": "stream",
     "text": [
      "1817\n"
     ]
    }
   ],
   "source": [
    "vocab = []\n",
    "for text in intents_df.cleaned_pattern.tolist():\n",
    "    vocab.extend(tokenize(text).split())\n",
    "print(len(vocab))"
   ]
  },
  {
   "cell_type": "code",
   "execution_count": 19,
   "metadata": {},
   "outputs": [],
   "source": [
    "num_classes = len(le.classes_)"
   ]
  },
  {
   "cell_type": "code",
   "execution_count": 20,
   "metadata": {},
   "outputs": [
    {
     "data": {
      "text/plain": [
       "array(['Bot', 'Exit', 'Intro', 'NN', 'Olympus', 'Profane', 'SL', 'Ticket'],\n",
       "      dtype=object)"
      ]
     },
     "execution_count": 20,
     "metadata": {},
     "output_type": "execute_result"
    }
   ],
   "source": [
    "le.classes_"
   ]
  },
  {
   "cell_type": "code",
   "execution_count": 21,
   "metadata": {},
   "outputs": [
    {
     "data": {
      "text/plain": [
       "{'Bot': 0,\n",
       " 'Exit': 1,\n",
       " 'Intro': 2,\n",
       " 'NN': 3,\n",
       " 'Olympus': 4,\n",
       " 'Profane': 5,\n",
       " 'SL': 6,\n",
       " 'Ticket': 7}"
      ]
     },
     "execution_count": 21,
     "metadata": {},
     "output_type": "execute_result"
    }
   ],
   "source": [
    "intent_to_idx = {i: j for i, j in zip(le.classes_, range(num_classes))}\n",
    "idx_to_intent = {v: i for i, v in intent_to_idx.items()} # inverse lookup\n",
    "intent_to_idx"
   ]
  },
  {
   "cell_type": "code",
   "execution_count": 22,
   "metadata": {},
   "outputs": [
    {
     "data": {
      "text/plain": [
       "{0: 'Bot',\n",
       " 1: 'Exit',\n",
       " 2: 'Intro',\n",
       " 3: 'NN',\n",
       " 4: 'Olympus',\n",
       " 5: 'Profane',\n",
       " 6: 'SL',\n",
       " 7: 'Ticket'}"
      ]
     },
     "execution_count": 22,
     "metadata": {},
     "output_type": "execute_result"
    }
   ],
   "source": [
    "idx_to_intent"
   ]
  },
  {
   "cell_type": "code",
   "execution_count": 23,
   "metadata": {},
   "outputs": [],
   "source": [
    "dataset = []\n",
    "for text, intent in zip(intents_df.cleaned_pattern, intents_df.intent):\n",
    "    bow = []\n",
    "    text_tokens = text.split()\n",
    "    for w in vocab:\n",
    "        if w in text_tokens:\n",
    "            bow.append(1)\n",
    "        else:\n",
    "            bow.append(0)\n",
    "\n",
    "    one_hot = list([0]*(num_classes))\n",
    "    one_hot[intent_to_idx[intent]] = 1  # one hot (1) at the specified index\n",
    "\n",
    "    dataset.append([bow, one_hot])"
   ]
  },
  {
   "cell_type": "code",
   "execution_count": 24,
   "metadata": {},
   "outputs": [
    {
     "data": {
      "text/plain": [
       "(574, 2)"
      ]
     },
     "execution_count": 24,
     "metadata": {},
     "output_type": "execute_result"
    }
   ],
   "source": [
    "SHUFFLE = True\n",
    "if SHUFFLE:\n",
    "    # shuffle our features and turn into np.array\n",
    "    shuffle(dataset)\n",
    "\n",
    "dataset = np.array(dataset)\n",
    "dataset.shape"
   ]
  },
  {
   "cell_type": "code",
   "execution_count": 25,
   "metadata": {
    "tags": []
   },
   "outputs": [
    {
     "data": {
      "text/plain": [
       "((574,), (574,))"
      ]
     },
     "execution_count": 25,
     "metadata": {},
     "output_type": "execute_result"
    }
   ],
   "source": [
    "X_train = dataset[:,0]\n",
    "y_train = dataset[:,1]\n",
    "X_train.shape, y_train.shape"
   ]
  },
  {
   "cell_type": "code",
   "execution_count": 26,
   "metadata": {},
   "outputs": [
    {
     "data": {
      "text/plain": [
       "[0, 0, 0, 0, 0, 0, 0, 1]"
      ]
     },
     "execution_count": 26,
     "metadata": {},
     "output_type": "execute_result"
    }
   ],
   "source": [
    "# pprint(X_train[0], compact=True)\n",
    "y_train[0]"
   ]
  },
  {
   "cell_type": "markdown",
   "metadata": {},
   "source": [
    "<h3><ul>\n",
    "    <li><strong><span style=\"font-family: 'Trebuchet MS', Helvetica, sans-serif;\">Design a neural network to classify the queries with INTENTS as target outputs</span></strong></li>\n",
    "</ul></h3>\n"
   ]
  },
  {
   "cell_type": "code",
   "execution_count": 27,
   "metadata": {},
   "outputs": [],
   "source": [
    "import tensorflow as tf\n",
    "from tensorflow.keras.models import Sequential\n",
    "from tensorflow.python.keras.callbacks import LambdaCallback, EarlyStopping\n",
    "from tensorflow.keras.layers import *\n",
    "from tensorflow.keras.preprocessing import text\n",
    "from tensorflow.keras.preprocessing.sequence import pad_sequences\n",
    "from tensorflow.keras.optimizers import SGD"
   ]
  },
  {
   "cell_type": "code",
   "execution_count": 28,
   "metadata": {},
   "outputs": [],
   "source": [
    "simple_log = LambdaCallback(\n",
    "    on_epoch_end = lambda e, l: print(f\" ~| Epoch: {e+1} | Validation Loss: {l['val_loss']:.5f}\", end =\" >|> \\n\" ))\n",
    "\n",
    "early_stop = EarlyStopping(monitor='val_loss',\n",
    "                              min_delta=0,\n",
    "                              patience=1,\n",
    "                              verbose=0, \n",
    "                              restore_best_weights=True)\n",
    "sns.set()\n",
    "def plot_learning_curve(hist):\n",
    "    plt.figure(figsize=(5,5))\n",
    "    train = hist.history['loss']\n",
    "    val = hist.history['val_loss']\n",
    "    epochs_run = range(1,len(train) + 1)\n",
    "    sns.lineplot(epochs_run, train, marker = 'o', color = 'coral', label = 'Training Loss')\n",
    "    sns.lineplot(epochs_run, val,  marker = '>', color = 'green', label = 'Validation Loss')\n",
    "    plt.title(\"Loss vs. Epochs\", fontsize = 20)\n",
    "    plt.legend()\n",
    "    plt.show()"
   ]
  },
  {
   "cell_type": "code",
   "execution_count": 29,
   "metadata": {},
   "outputs": [
    {
     "name": "stdout",
     "output_type": "stream",
     "text": [
      "Model: \"sequential\"\n",
      "_________________________________________________________________\n",
      "Layer (type)                 Output Shape              Param #   \n",
      "=================================================================\n",
      "dense (Dense)                (None, 128)               232704    \n",
      "_________________________________________________________________\n",
      "dropout (Dropout)            (None, 128)               0         \n",
      "_________________________________________________________________\n",
      "dense_1 (Dense)              (None, 64)                8256      \n",
      "_________________________________________________________________\n",
      "dropout_1 (Dropout)          (None, 64)                0         \n",
      "_________________________________________________________________\n",
      "dense_2 (Dense)              (None, 8)                 520       \n",
      "=================================================================\n",
      "Total params: 241,480\n",
      "Trainable params: 241,480\n",
      "Non-trainable params: 0\n",
      "_________________________________________________________________\n"
     ]
    }
   ],
   "source": [
    "model = Sequential([    \n",
    "    Dense(128, input_shape=(len(X_train[0]), ), activation='relu'),\n",
    "    Dropout(0.5),\n",
    "    Dense(64, activation='relu'),\n",
    "    Dropout(0.5),\n",
    "    Dense(num_classes, activation='softmax')\n",
    "])\n",
    "\n",
    "# Compile model. Stochastic gradient descent with Nesterov accelerated gradient gives good results for this model\n",
    "sgd = SGD(lr=0.01, decay=1e-6, momentum=0.9, nesterov=True)\n",
    "model.compile(loss='categorical_crossentropy', optimizer=sgd, metrics=['accuracy'])\n",
    "\n",
    "model.summary()"
   ]
  },
  {
   "cell_type": "code",
   "execution_count": 30,
   "metadata": {},
   "outputs": [],
   "source": [
    "X_train = np.array([np.array(i) for i in X_train])\n",
    "y_train = np.array([np.array(i) for i in y_train])"
   ]
  },
  {
   "cell_type": "code",
   "execution_count": 31,
   "metadata": {},
   "outputs": [
    {
     "name": "stdout",
     "output_type": "stream",
     "text": [
      " ~| Epoch: 1 | Validation Loss: 1.80175 >|> \n",
      " ~| Epoch: 2 | Validation Loss: 1.60664 >|> \n",
      " ~| Epoch: 3 | Validation Loss: 1.44113 >|> \n",
      " ~| Epoch: 4 | Validation Loss: 1.33685 >|> \n",
      " ~| Epoch: 5 | Validation Loss: 1.22956 >|> \n",
      " ~| Epoch: 6 | Validation Loss: 1.16458 >|> \n",
      " ~| Epoch: 7 | Validation Loss: 1.10524 >|> \n",
      " ~| Epoch: 8 | Validation Loss: 1.02818 >|> \n",
      " ~| Epoch: 9 | Validation Loss: 1.00700 >|> \n",
      " ~| Epoch: 10 | Validation Loss: 0.97976 >|> \n",
      " ~| Epoch: 11 | Validation Loss: 0.91114 >|> \n",
      " ~| Epoch: 12 | Validation Loss: 0.86507 >|> \n",
      " ~| Epoch: 13 | Validation Loss: 0.80688 >|> \n",
      " ~| Epoch: 14 | Validation Loss: 0.79017 >|> \n",
      " ~| Epoch: 15 | Validation Loss: 0.77656 >|> \n",
      " ~| Epoch: 16 | Validation Loss: 0.75201 >|> \n",
      " ~| Epoch: 17 | Validation Loss: 0.75824 >|> \n",
      " ~| Epoch: 18 | Validation Loss: 0.73035 >|> \n",
      " ~| Epoch: 19 | Validation Loss: 0.70634 >|> \n",
      " ~| Epoch: 20 | Validation Loss: 0.69931 >|> \n",
      " ~| Epoch: 21 | Validation Loss: 0.66998 >|> \n",
      " ~| Epoch: 22 | Validation Loss: 0.64194 >|> \n",
      " ~| Epoch: 23 | Validation Loss: 0.62776 >|> \n",
      " ~| Epoch: 24 | Validation Loss: 0.61994 >|> \n",
      " ~| Epoch: 25 | Validation Loss: 0.65826 >|> \n",
      " ~| Epoch: 26 | Validation Loss: 0.66154 >|> \n",
      " ~| Epoch: 27 | Validation Loss: 0.62058 >|> \n",
      " ~| Epoch: 28 | Validation Loss: 0.60942 >|> \n",
      " ~| Epoch: 29 | Validation Loss: 0.61046 >|> \n",
      " ~| Epoch: 30 | Validation Loss: 0.58914 >|> \n",
      " ~| Epoch: 31 | Validation Loss: 0.56548 >|> \n",
      " ~| Epoch: 32 | Validation Loss: 0.54199 >|> \n",
      " ~| Epoch: 33 | Validation Loss: 0.55655 >|> \n",
      " ~| Epoch: 34 | Validation Loss: 0.57247 >|> \n",
      " ~| Epoch: 35 | Validation Loss: 0.56182 >|> \n",
      " ~| Epoch: 36 | Validation Loss: 0.56451 >|> \n",
      " ~| Epoch: 37 | Validation Loss: 0.55642 >|> \n",
      " ~| Epoch: 38 | Validation Loss: 0.53718 >|> \n",
      " ~| Epoch: 39 | Validation Loss: 0.54405 >|> \n",
      " ~| Epoch: 40 | Validation Loss: 0.57291 >|> \n",
      " ~| Epoch: 41 | Validation Loss: 0.57314 >|> \n",
      " ~| Epoch: 42 | Validation Loss: 0.57016 >|> \n",
      " ~| Epoch: 43 | Validation Loss: 0.56434 >|> \n",
      " ~| Epoch: 44 | Validation Loss: 0.53544 >|> \n",
      " ~| Epoch: 45 | Validation Loss: 0.52745 >|> \n",
      " ~| Epoch: 46 | Validation Loss: 0.50759 >|> \n",
      " ~| Epoch: 47 | Validation Loss: 0.58344 >|> \n",
      " ~| Epoch: 48 | Validation Loss: 0.59066 >|> \n",
      " ~| Epoch: 49 | Validation Loss: 0.52587 >|> \n",
      " ~| Epoch: 50 | Validation Loss: 0.59051 >|> \n",
      " ~| Epoch: 51 | Validation Loss: 0.65048 >|> \n",
      " ~| Epoch: 52 | Validation Loss: 0.55783 >|> \n",
      " ~| Epoch: 53 | Validation Loss: 0.55178 >|> \n",
      " ~| Epoch: 54 | Validation Loss: 0.60211 >|> \n",
      " ~| Epoch: 55 | Validation Loss: 0.62406 >|> \n",
      " ~| Epoch: 56 | Validation Loss: 0.62321 >|> \n",
      " ~| Epoch: 57 | Validation Loss: 0.58671 >|> \n",
      " ~| Epoch: 58 | Validation Loss: 0.57220 >|> \n",
      " ~| Epoch: 59 | Validation Loss: 0.58632 >|> \n",
      " ~| Epoch: 60 | Validation Loss: 0.58517 >|> \n",
      " ~| Epoch: 61 | Validation Loss: 0.59908 >|> \n",
      " ~| Epoch: 62 | Validation Loss: 0.58309 >|> \n",
      " ~| Epoch: 63 | Validation Loss: 0.63043 >|> \n",
      " ~| Epoch: 64 | Validation Loss: 0.62200 >|> \n",
      " ~| Epoch: 65 | Validation Loss: 0.60824 >|> \n",
      " ~| Epoch: 66 | Validation Loss: 0.63717 >|> \n",
      " ~| Epoch: 67 | Validation Loss: 0.60373 >|> \n",
      " ~| Epoch: 68 | Validation Loss: 0.62840 >|> \n",
      " ~| Epoch: 69 | Validation Loss: 0.62245 >|> \n",
      " ~| Epoch: 70 | Validation Loss: 0.67838 >|> \n",
      " ~| Epoch: 71 | Validation Loss: 0.65584 >|> \n",
      " ~| Epoch: 72 | Validation Loss: 0.62673 >|> \n",
      " ~| Epoch: 73 | Validation Loss: 0.64272 >|> \n",
      " ~| Epoch: 74 | Validation Loss: 0.65160 >|> \n",
      " ~| Epoch: 75 | Validation Loss: 0.67540 >|> \n",
      " ~| Epoch: 76 | Validation Loss: 0.72006 >|> \n",
      " ~| Epoch: 77 | Validation Loss: 0.65085 >|> \n",
      " ~| Epoch: 78 | Validation Loss: 0.64394 >|> \n",
      " ~| Epoch: 79 | Validation Loss: 0.66466 >|> \n",
      " ~| Epoch: 80 | Validation Loss: 0.64973 >|> \n",
      " ~| Epoch: 81 | Validation Loss: 0.66823 >|> \n",
      " ~| Epoch: 82 | Validation Loss: 0.67119 >|> \n",
      " ~| Epoch: 83 | Validation Loss: 0.69649 >|> \n",
      " ~| Epoch: 84 | Validation Loss: 0.64133 >|> \n",
      " ~| Epoch: 85 | Validation Loss: 0.63242 >|> \n",
      " ~| Epoch: 86 | Validation Loss: 0.67542 >|> \n",
      " ~| Epoch: 87 | Validation Loss: 0.69314 >|> \n",
      " ~| Epoch: 88 | Validation Loss: 0.72292 >|> \n",
      " ~| Epoch: 89 | Validation Loss: 0.72033 >|> \n",
      " ~| Epoch: 90 | Validation Loss: 0.74421 >|> \n",
      " ~| Epoch: 91 | Validation Loss: 0.71598 >|> \n",
      " ~| Epoch: 92 | Validation Loss: 0.67650 >|> \n",
      " ~| Epoch: 93 | Validation Loss: 0.68821 >|> \n",
      " ~| Epoch: 94 | Validation Loss: 0.65890 >|> \n",
      " ~| Epoch: 95 | Validation Loss: 0.59797 >|> \n",
      " ~| Epoch: 96 | Validation Loss: 0.63804 >|> \n",
      " ~| Epoch: 97 | Validation Loss: 0.66182 >|> \n",
      " ~| Epoch: 98 | Validation Loss: 0.75123 >|> \n",
      " ~| Epoch: 99 | Validation Loss: 0.69061 >|> \n",
      " ~| Epoch: 100 | Validation Loss: 0.75738 >|> \n",
      "\n",
      "Done.\n"
     ]
    }
   ],
   "source": [
    "epochs = 100\n",
    "\n",
    "h = model.fit(\n",
    "    X_train, y_train,\n",
    "    validation_split = 0.2,\n",
    "    epochs = epochs,\n",
    "    callbacks = [simple_log],\n",
    "    verbose = False)\n",
    "\n",
    "print(\"\\nDone.\")"
   ]
  },
  {
   "cell_type": "code",
   "execution_count": 32,
   "metadata": {},
   "outputs": [
    {
     "data": {
      "image/png": "[encoded data removed]",
      "text/plain": [
       "<Figure size 360x360 with 1 Axes>"
      ]
     },
     "metadata": {},
     "output_type": "display_data"
    }
   ],
   "source": [
    "plot_learning_curve(h)"
   ]
  },
  {
   "cell_type": "markdown",
   "metadata": {
    "tags": []
   },
   "source": [
    "<h3><ul>\n",
    "    <li><strong><span style=\"font-family: 'Trebuchet MS', Helvetica, sans-serif;\">Design a chat utility as a function to interact with the user till the user calls a “quit”</span></strong></li>\n",
    "</ul></h3>\n",
    "\n",
    "<h4><ul>\n",
    "    <li><strong><span style=\"font-family: 'Trebuchet MS', Helvetica, sans-serif;\">If the user does not understand or finds the bot’s answer irrelevant, the user calls a “*” asking the bot to re-evaluate what the user has asked</span></strong></li>\n",
    "</ul></h4>\n"
   ]
  },
  {
   "cell_type": "code",
   "execution_count": 33,
   "metadata": {},
   "outputs": [],
   "source": [
    "from collections import defaultdict\n",
    "\n",
    "class IntentClassifier():\n",
    "\n",
    "    def __init__(self, intents, vocab, idx_to_intent, model):\n",
    "        self.intents = intents\n",
    "        self.vocab = vocab\n",
    "        self.model = model\n",
    "        self.idx_to_intent = idx_to_intent\n",
    "\n",
    "        responses = defaultdict()\n",
    "        for intent in intents:\n",
    "            responses[intent['tag']] = intent['responses']\n",
    "        self.responses = dict(responses)\n",
    "\n",
    "        intents_lookup = defaultdict()\n",
    "        for intent in intents:\n",
    "            tag = intent['tag']\n",
    "            for text in intent['patterns']:\n",
    "                intents_lookup[text] = tag\n",
    "        self.intents_lookup = dict(intents_lookup)\n",
    "\n",
    "    def search_intent(self, text):\n",
    "        return self.intents_lookup.get(text.lower().strip(), 'na')\n",
    "    \n",
    "    def get_bow(self, text):\n",
    "        text = preprocess_text(text)\n",
    "        text_tokens = text.split()\n",
    "        # bag of words - matrix of N words, vocabulary matrix\n",
    "        bag = np.array([0]*len(self.vocab))\n",
    "        for tok in text_tokens:\n",
    "            for idx, word in enumerate(self.vocab):\n",
    "                if word == tok: \n",
    "                    # assign 1 if current word is in the vocabulary position\n",
    "                    bag[idx] = 1\n",
    "        return(np.array(bag))\n",
    "\n",
    "    def predict_intent(self, text):\n",
    "        # filter out predictions below a threshold\n",
    "        bow = self.get_bow(text)\n",
    "        pred = self.model.predict(np.array([bow]))[0]\n",
    "        results = [[intent, prob] for intent, prob in enumerate(pred) if prob>0.25]\n",
    "        # sort by strength of probability\n",
    "        results.sort(key=lambda x: x[1], reverse=True)\n",
    "        return_list = []\n",
    "        for r in results:\n",
    "            return_list.append({\"intent\": self.idx_to_intent[r[0]], \"probability\": str(r[1])})\n",
    "        return return_list\n",
    "\n",
    "    def classify(self, text):\n",
    "        intent = self.search_intent(text)\n",
    "        if intent != 'na':\n",
    "            return intent\n",
    "        intents = self.predict_intent(text)\n",
    "        if len(intents):\n",
    "            return intents[0]['intent']\n",
    "\n",
    "    def generate_response(self, text):\n",
    "        intent = self.classify(text)\n",
    "        default_msg = \"I am sorry! I don't understand you. Can you rephrase your query?\"\n",
    "        response  = self.responses.get(intent, default_msg)\n",
    "        return response"
   ]
  },
  {
   "cell_type": "code",
   "execution_count": 34,
   "metadata": {},
   "outputs": [
    {
     "data": {
      "text/plain": [
       "<__main__.IntentClassifier at 0x23457425520>"
      ]
     },
     "execution_count": 34,
     "metadata": {},
     "output_type": "execute_result"
    }
   ],
   "source": [
    "ic = IntentClassifier(intents, vocab, idx_to_intent, model)\n",
    "ic"
   ]
  },
  {
   "cell_type": "code",
   "execution_count": 35,
   "metadata": {},
   "outputs": [
    {
     "data": {
      "text/plain": [
       "'Intro'"
      ]
     },
     "execution_count": 35,
     "metadata": {},
     "output_type": "execute_result"
    }
   ],
   "source": [
    "ic.classify('Hey there!')"
   ]
  },
  {
   "cell_type": "markdown",
   "metadata": {
    "tags": []
   },
   "source": [
    "\n",
    "\n",
    "\n"
   ]
  },
  {
   "cell_type": "code",
   "execution_count": 36,
   "metadata": {},
   "outputs": [
    {
     "data": {
      "text/plain": [
       "['Hello there! How can i help?']"
      ]
     },
     "execution_count": 36,
     "metadata": {},
     "output_type": "execute_result"
    }
   ],
   "source": [
    "ic.generate_response('Hey there!')"
   ]
  },
  {
   "cell_type": "code",
   "execution_count": 37,
   "metadata": {},
   "outputs": [
    {
     "data": {
      "text/plain": [
       "'NN'"
      ]
     },
     "execution_count": 37,
     "metadata": {},
     "output_type": "execute_result"
    }
   ],
   "source": [
    "ic.classify('please explain Deep Learning')  # out of sample text"
   ]
  },
  {
   "cell_type": "code",
   "execution_count": 38,
   "metadata": {},
   "outputs": [
    {
     "data": {
      "text/plain": [
       "['Link: Neural Nets wiki']"
      ]
     },
     "execution_count": 38,
     "metadata": {},
     "output_type": "execute_result"
    }
   ],
   "source": [
    "ic.generate_response('please explain Deep Learning')  # out of sample text"
   ]
  },
  {
   "cell_type": "code",
   "execution_count": 39,
   "metadata": {},
   "outputs": [],
   "source": [
    "# Chatbot Utility\n",
    "def chat(ic):\n",
    "    print(\"Hi there! I am Groot! (type your query or 'quit' to exit the chat)\")\n",
    "    print(\"If the response to the query doesn't make sense, type '*'\")\n",
    "    default_msg = \"I am sorry! I don't understand you. Can you rephrase your query?\"\n",
    "    \n",
    "    prev_query = 'na'\n",
    "    user = input(\"Hi! WHat's your name?\")\n",
    "    errors = 0\n",
    "    # chat loop\n",
    "    while True:\n",
    "        query = str(input())\n",
    "        print(f'{user}: {query}')\n",
    "        prev_query = query\n",
    "        if query.lower().strip() == 'quit':\n",
    "            break\n",
    "        if query.lower().strip() == '*':\n",
    "            errors += 1\n",
    "            query = prev_query\n",
    "        if errors == 2:\n",
    "            print(f'Groot: {default_msg}')\n",
    "            errors = 0\n",
    "            continue\n",
    "        if not isinstance(query, str):\n",
    "            print(f'Groot: {default_msg}')\n",
    "            continue\n",
    "        response = ic.generate_response(query)\n",
    "        print(f'Groot: {response[0]}')\n",
    "        print()"
   ]
  },
  {
   "cell_type": "code",
   "execution_count": 40,
   "metadata": {},
   "outputs": [
    {
     "name": "stdout",
     "output_type": "stream",
     "text": [
      "Hi there! I am Groot! (type your query or 'quit' to exit the chat)\n",
      "If the response to the query doesn't make sense, type '*'\n"
     ]
    },
    {
     "name": "stdin",
     "output_type": "stream",
     "text": [
      "Hi! WHat's your name? Pradeep\n",
      " Anyone there?\n"
     ]
    },
    {
     "name": "stdout",
     "output_type": "stream",
     "text": [
      "Pradeep: Anyone there?\n",
      "Groot: Hello there! How can i help?\n",
      "\n"
     ]
    },
    {
     "name": "stdin",
     "output_type": "stream",
     "text": [
      " Who are you\n"
     ]
    },
    {
     "name": "stdout",
     "output_type": "stream",
     "text": [
      "Pradeep: Who are you\n",
      "Groot: I am your virtual learning assistant\n",
      "\n"
     ]
    },
    {
     "name": "stdin",
     "output_type": "stream",
     "text": [
      " I have a problem with my olympus dashboard\n"
     ]
    },
    {
     "name": "stdout",
     "output_type": "stream",
     "text": [
      "Pradeep: I have a problem with my olympus dashboard\n",
      "Groot: Link: Olympus wiki\n",
      "\n"
     ]
    },
    {
     "name": "stdin",
     "output_type": "stream",
     "text": [
      " Can you connect me to a human\n"
     ]
    },
    {
     "name": "stdout",
     "output_type": "stream",
     "text": [
      "Pradeep: Can you connect me to a human\n",
      "Groot: Tarnsferring the request to your PM\n",
      "\n"
     ]
    },
    {
     "name": "stdin",
     "output_type": "stream",
     "text": [
      " Can you explain Machine Learning? 🤔\n"
     ]
    },
    {
     "name": "stdout",
     "output_type": "stream",
     "text": [
      "Pradeep: Can you explain Machine Learning? 🤔\n",
      "Groot: I hope I was able to assist you, Good Bye\n",
      "\n"
     ]
    },
    {
     "name": "stdin",
     "output_type": "stream",
     "text": [
      " *\n"
     ]
    },
    {
     "name": "stdout",
     "output_type": "stream",
     "text": [
      "Pradeep: *\n",
      "Groot: Link: Neural Nets wiki\n",
      "\n"
     ]
    },
    {
     "name": "stdin",
     "output_type": "stream",
     "text": [
      " *\n"
     ]
    },
    {
     "name": "stdout",
     "output_type": "stream",
     "text": [
      "Pradeep: *\n",
      "Groot: I am sorry! I don't understand you. Can you rephrase your query?\n"
     ]
    },
    {
     "name": "stdin",
     "output_type": "stream",
     "text": [
      " explain ML 😠\n"
     ]
    },
    {
     "name": "stdout",
     "output_type": "stream",
     "text": [
      "Pradeep: explain ML 😠\n",
      "Groot: Link: Machine Learning wiki \n",
      "\n"
     ]
    },
    {
     "name": "stdin",
     "output_type": "stream",
     "text": [
      " Can you explain Naive Bayes Classifier?\n"
     ]
    },
    {
     "name": "stdout",
     "output_type": "stream",
     "text": [
      "Pradeep: Can you explain Naive Bayes Classifier?\n",
      "Groot: I hope I was able to assist you, Good Bye\n",
      "\n"
     ]
    },
    {
     "name": "stdin",
     "output_type": "stream",
     "text": [
      " *\n"
     ]
    },
    {
     "name": "stdout",
     "output_type": "stream",
     "text": [
      "Pradeep: *\n",
      "Groot: Link: Neural Nets wiki\n",
      "\n"
     ]
    },
    {
     "name": "stdin",
     "output_type": "stream",
     "text": [
      " *\n"
     ]
    },
    {
     "name": "stdout",
     "output_type": "stream",
     "text": [
      "Pradeep: *\n",
      "Groot: I am sorry! I don't understand you. Can you rephrase your query?\n"
     ]
    },
    {
     "name": "stdin",
     "output_type": "stream",
     "text": [
      " explain naive bayes classifier\n"
     ]
    },
    {
     "name": "stdout",
     "output_type": "stream",
     "text": [
      "Pradeep: explain naive bayes classifier\n",
      "Groot: Link: Machine Learning wiki \n",
      "\n"
     ]
    },
    {
     "name": "stdin",
     "output_type": "stream",
     "text": [
      " explain deep learning architecture\n"
     ]
    },
    {
     "name": "stdout",
     "output_type": "stream",
     "text": [
      "Pradeep: explain deep learning architecture\n",
      "Groot: Link: Neural Nets wiki\n",
      "\n"
     ]
    },
    {
     "name": "stdin",
     "output_type": "stream",
     "text": [
      " ok thank you very much groot\n"
     ]
    },
    {
     "name": "stdout",
     "output_type": "stream",
     "text": [
      "Pradeep: ok thank you very much groot\n",
      "Groot: I hope I was able to assist you, Good Bye\n",
      "\n"
     ]
    },
    {
     "name": "stdin",
     "output_type": "stream",
     "text": [
      " quit\n"
     ]
    },
    {
     "name": "stdout",
     "output_type": "stream",
     "text": [
      "Pradeep: quit\n"
     ]
    }
   ],
   "source": [
    "chat(ic)"
   ]
  },
  {
   "cell_type": "markdown",
   "metadata": {},
   "source": [
    "<h3><ul>\n",
    "    <li><strong><span style=\"font-family: 'Trebuchet MS', Helvetica, sans-serif;\">This chatbot can be improved by further training as our intent classifier was trained on a very limited dataset although it was extended, we can train it using a dataset of converstations between users and customer support execs. For e.g, https://www.kaggle.com/thoughtvector/customer-support-on-twitter/data can beused for training a chatbot. This dataset was created by collecting publicly available conversations between customer supports and users on Twitte</span></strong></li>\n",
    "    <li><strong><span style=\"font-family: 'Trebuchet MS', Helvetica, sans-serif;\">We can also use a better profanity filter by using packages like profanity-filter or building a ML/DL model to detect it ourselves so that the responses are filterd out properly</span></strong></li>\n",
    "    <li><strong><span style=\"font-family: 'Trebuchet MS', Helvetica, sans-serif;\">We can also add an NER model to understand the language more and train better models to make our chatbot smarter.</span></strong></li>\n",
    "    <li><strong><span style=\"font-family: 'Trebuchet MS', Helvetica, sans-serif;\">Also, we could use pre-built frameworks like dialogflow, rasa ...etc., to utilize the language models that are in-built instead of doing it from scratch and customize the chatbot as per the requirements of the clients/users.</span></strong></li>\n",
    "</ul></h3>"
   ]
  }
 ],
 "metadata": {
  "kernelspec": {
   "display_name": "Python [conda env:root] *",
   "language": "python",
   "name": "conda-root-py"
  },
  "language_info": {
   "codemirror_mode": {
    "name": "ipython",
    "version": 3
   },
   "file_extension": ".py",
   "mimetype": "text/x-python",
   "name": "python",
   "nbconvert_exporter": "python",
   "pygments_lexer": "ipython3",
   "version": "3.8.8"
  }
 },
 "nbformat": 4,
 "nbformat_minor": 4
}
