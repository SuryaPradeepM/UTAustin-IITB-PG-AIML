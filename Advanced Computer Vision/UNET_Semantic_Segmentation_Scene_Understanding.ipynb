{
 "cells": [
  {
   "cell_type": "markdown",
   "metadata": {
    "id": "RezYgXqibogE"
   },
   "source": [
    "## Semantic Segmentation\n",
    "\n",
    "Semantic segmentation, which is a pixel-level labeling for image classification, is an important technique for the scene understanding. Because each pixel is labeled as belonging to a given semantic class. \n",
    "\n",
    "Autonomous driving will be one of the revolutionary technologies in the near future in terms of the impact on the lives of people living in industrially developed\n",
    "countries. An autonomous vehicle must sense its surroundings and act safely to reach a certain target. Such functionality is carried out by using several types of classifiers. \n",
    "\n",
    "In a typical task of scene understanding, the classes could be road, street, traffic signs, street markings, cars, pedestrians, sidewalks, trees. \n",
    "\n",
    "\n",
    "### In this notebook, we are implementing U-net model which can detect capture the semantic information and differentiate between different objects around in the scene. "
   ]
  },
  {
   "cell_type": "code",
   "execution_count": 1,
   "metadata": {
    "colab": {
     "base_uri": "https://localhost:8080/",
     "height": 35
    },
    "executionInfo": {
     "elapsed": 2511,
     "status": "ok",
     "timestamp": 1610208579012,
     "user": {
      "displayName": "Abhishek Singh",
      "photoUrl": "",
      "userId": "02564130673443773880"
     },
     "user_tz": -330
    },
    "id": "Nou4csEU5ulT",
    "outputId": "7ebfb5ec-a081-4c3d-f2eb-b6f35a763c34"
   },
   "outputs": [
    {
     "data": {
      "application/vnd.google.colaboratory.intrinsic+json": {
       "type": "string"
      },
      "text/plain": [
       "'2.1.0'"
      ]
     },
     "execution_count": 1,
     "metadata": {
      "tags": []
     },
     "output_type": "execute_result"
    }
   ],
   "source": [
    "%tensorflow_version 2.x\n",
    "import tensorflow\n",
    "tensorflow.__version__"
   ]
  },
  {
   "cell_type": "code",
   "execution_count": 2,
   "metadata": {
    "colab": {
     "base_uri": "https://localhost:8080/"
    },
    "executionInfo": {
     "elapsed": 2497,
     "status": "ok",
     "timestamp": 1610208579013,
     "user": {
      "displayName": "Abhishek Singh",
      "photoUrl": "",
      "userId": "02564130673443773880"
     },
     "user_tz": -330
    },
    "id": "rNIGEPwbqFCa",
    "outputId": "d06d035f-994e-4201-b7d9-4b614132b133"
   },
   "outputs": [
    {
     "name": "stdout",
     "output_type": "stream",
     "text": [
      "Drive already mounted at /content/drive/; to attempt to forcibly remount, call drive.mount(\"/content/drive/\", force_remount=True).\n"
     ]
    }
   ],
   "source": [
    "from google.colab import drive\n",
    "drive.mount('/content/drive/')"
   ]
  },
  {
   "cell_type": "markdown",
   "metadata": {
    "id": "GEzZgu1hfYQD"
   },
   "source": [
    "### Dataset link\n",
    "\n",
    "https://drive.google.com/file/d/1GT3k4nPHLmU6AbQldYhw0c2rTOxAgNUW"
   ]
  },
  {
   "cell_type": "code",
   "execution_count": 3,
   "metadata": {
    "colab": {
     "base_uri": "https://localhost:8080/",
     "height": 35
    },
    "executionInfo": {
     "elapsed": 2487,
     "status": "ok",
     "timestamp": 1610208579015,
     "user": {
      "displayName": "Abhishek Singh",
      "photoUrl": "",
      "userId": "02564130673443773880"
     },
     "user_tz": -330
    },
    "id": "lWqE8dM0qPTv",
    "outputId": "3f08ee45-87cc-4c7c-d153-5fb7166df033"
   },
   "outputs": [
    {
     "data": {
      "application/vnd.google.colaboratory.intrinsic+json": {
       "type": "string"
      },
      "text/plain": [
       "\"\\nimport os\\nos.chdir('/content/drive/My Drive/AIML Notes/Segmentation/')\\npath = '.'\\n\""
      ]
     },
     "execution_count": 3,
     "metadata": {
      "tags": []
     },
     "output_type": "execute_result"
    }
   ],
   "source": [
    "'''\n",
    "import os\n",
    "os.chdir('/content/drive/My Drive/AIML Notes/Segmentation/')\n",
    "path = '.'\n",
    "'''"
   ]
  },
  {
   "cell_type": "code",
   "execution_count": 4,
   "metadata": {
    "colab": {
     "base_uri": "https://localhost:8080/"
    },
    "executionInfo": {
     "elapsed": 2477,
     "status": "ok",
     "timestamp": 1610208579016,
     "user": {
      "displayName": "Abhishek Singh",
      "photoUrl": "",
      "userId": "02564130673443773880"
     },
     "user_tz": -330
    },
    "id": "M8HBJNy_xQEj",
    "outputId": "d5bc715e-ae4c-4a98-adff-f1071191003a"
   },
   "outputs": [
    {
     "name": "stdout",
     "output_type": "stream",
     "text": [
      "\u001b[0m\u001b[01;34mdrive\u001b[0m/  \u001b[01;34msample_data\u001b[0m/  \u001b[01;34mtesting\u001b[0m/  \u001b[01;34mtraining\u001b[0m/\n"
     ]
    }
   ],
   "source": [
    "ls"
   ]
  },
  {
   "cell_type": "code",
   "execution_count": 5,
   "metadata": {
    "executionInfo": {
     "elapsed": 7274,
     "status": "ok",
     "timestamp": 1610208583822,
     "user": {
      "displayName": "Abhishek Singh",
      "photoUrl": "",
      "userId": "02564130673443773880"
     },
     "user_tz": -330
    },
    "id": "6qPSitlIqJrb"
   },
   "outputs": [],
   "source": [
    "from zipfile import ZipFile\n",
    "with ZipFile('/content/drive/My Drive/data_semantics.zip','r') as z:\n",
    "    z.extractall()"
   ]
  },
  {
   "cell_type": "code",
   "execution_count": 6,
   "metadata": {
    "colab": {
     "base_uri": "https://localhost:8080/",
     "height": 35
    },
    "executionInfo": {
     "elapsed": 7273,
     "status": "ok",
     "timestamp": 1610208583828,
     "user": {
      "displayName": "Abhishek Singh",
      "photoUrl": "",
      "userId": "02564130673443773880"
     },
     "user_tz": -330
    },
    "id": "K9bjl6uD7j2P",
    "outputId": "2d4a4208-2027-4ae7-e612-6041e25dabc0"
   },
   "outputs": [
    {
     "data": {
      "application/vnd.google.colaboratory.intrinsic+json": {
       "type": "string"
      },
      "text/plain": [
       "'/content'"
      ]
     },
     "execution_count": 6,
     "metadata": {
      "tags": []
     },
     "output_type": "execute_result"
    }
   ],
   "source": [
    "pwd"
   ]
  },
  {
   "cell_type": "code",
   "execution_count": 7,
   "metadata": {
    "executionInfo": {
     "elapsed": 7265,
     "status": "ok",
     "timestamp": 1610208583828,
     "user": {
      "displayName": "Abhishek Singh",
      "photoUrl": "",
      "userId": "02564130673443773880"
     },
     "user_tz": -330
    },
    "id": "SYT7Il9k8gQt"
   },
   "outputs": [],
   "source": [
    "project_path = \"/content/drive/My Drive/AIML Notes/Segmentation/\""
   ]
  },
  {
   "cell_type": "code",
   "execution_count": 8,
   "metadata": {
    "executionInfo": {
     "elapsed": 7260,
     "status": "ok",
     "timestamp": 1610208583829,
     "user": {
      "displayName": "Abhishek Singh",
      "photoUrl": "",
      "userId": "02564130673443773880"
     },
     "user_tz": -330
    },
    "id": "TgO-b0xUQzAZ"
   },
   "outputs": [],
   "source": [
    "#Image Settings -\n",
    "\n",
    "IMAGE_HEIGHT = 128\n",
    "IMAGE_WIDTH = 128\n"
   ]
  },
  {
   "cell_type": "code",
   "execution_count": 9,
   "metadata": {
    "executionInfo": {
     "elapsed": 7256,
     "status": "ok",
     "timestamp": 1610208583830,
     "user": {
      "displayName": "Abhishek Singh",
      "photoUrl": "",
      "userId": "02564130673443773880"
     },
     "user_tz": -330
    },
    "id": "0pgWJznvQ3wu"
   },
   "outputs": [],
   "source": [
    "#Getting the image list \n",
    "import os\n",
    "original  = os.listdir('./training/image_2')"
   ]
  },
  {
   "cell_type": "code",
   "execution_count": 10,
   "metadata": {
    "colab": {
     "base_uri": "https://localhost:8080/"
    },
    "executionInfo": {
     "elapsed": 7250,
     "status": "ok",
     "timestamp": 1610208583831,
     "user": {
      "displayName": "Abhishek Singh",
      "photoUrl": "",
      "userId": "02564130673443773880"
     },
     "user_tz": -330
    },
    "id": "SGzaZG6y7xg0",
    "outputId": "926e5b86-2c2d-45ca-ee9e-669d6c06daf2"
   },
   "outputs": [
    {
     "name": "stdout",
     "output_type": "stream",
     "text": [
      "['000054_10.png', '000122_10.png', '000016_10.png', '000033_10.png', '000084_10.png', '000187_10.png', '000067_10.png', '000047_10.png', '000011_10.png', '000159_10.png', '000075_10.png', '000048_10.png', '000141_10.png', '000099_10.png', '000120_10.png', '000065_10.png', '000189_10.png', '000118_10.png', '000119_10.png', '000023_10.png', '000174_10.png', '000028_10.png', '000183_10.png', '000062_10.png', '000155_10.png', '000083_10.png', '000091_10.png', '000191_10.png', '000136_10.png', '000105_10.png', '000098_10.png', '000005_10.png', '000172_10.png', '000080_10.png', '000110_10.png', '000171_10.png', '000117_10.png', '000127_10.png', '000031_10.png', '000193_10.png', '000058_10.png', '000050_10.png', '000195_10.png', '000148_10.png', '000095_10.png', '000086_10.png', '000089_10.png', '000008_10.png', '000182_10.png', '000072_10.png', '000151_10.png', '000101_10.png', '000017_10.png', '000007_10.png', '000020_10.png', '000079_10.png', '000036_10.png', '000156_10.png', '000043_10.png', '000077_10.png', '000143_10.png', '000026_10.png', '000087_10.png', '000169_10.png', '000030_10.png', '000006_10.png', '000102_10.png', '000180_10.png', '000097_10.png', '000130_10.png', '000021_10.png', '000076_10.png', '000124_10.png', '000039_10.png', '000025_10.png', '000109_10.png', '000144_10.png', '000134_10.png', '000024_10.png', '000019_10.png', '000196_10.png', '000066_10.png', '000114_10.png', '000131_10.png', '000147_10.png', '000153_10.png', '000160_10.png', '000074_10.png', '000003_10.png', '000004_10.png', '000113_10.png', '000197_10.png', '000190_10.png', '000199_10.png', '000035_10.png', '000081_10.png', '000056_10.png', '000061_10.png', '000137_10.png', '000070_10.png', '000078_10.png', '000096_10.png', '000154_10.png', '000157_10.png', '000009_10.png', '000027_10.png', '000093_10.png', '000106_10.png', '000140_10.png', '000060_10.png', '000194_10.png', '000125_10.png', '000132_10.png', '000115_10.png', '000173_10.png', '000166_10.png', '000176_10.png', '000116_10.png', '000103_10.png', '000198_10.png', '000163_10.png', '000108_10.png', '000142_10.png', '000135_10.png', '000049_10.png', '000162_10.png', '000046_10.png', '000111_10.png', '000052_10.png', '000107_10.png', '000138_10.png', '000001_10.png', '000088_10.png', '000167_10.png', '000063_10.png', '000112_10.png', '000037_10.png', '000092_10.png', '000177_10.png', '000045_10.png', '000104_10.png', '000069_10.png', '000040_10.png', '000164_10.png', '000000_10.png', '000042_10.png', '000150_10.png', '000165_10.png', '000051_10.png', '000032_10.png', '000059_10.png', '000139_10.png', '000012_10.png', '000185_10.png', '000044_10.png', '000073_10.png', '000146_10.png', '000188_10.png', '000168_10.png', '000015_10.png', '000152_10.png', '000129_10.png', '000094_10.png', '000071_10.png', '000149_10.png', '000090_10.png', '000010_10.png', '000068_10.png', '000179_10.png', '000158_10.png', '000053_10.png', '000192_10.png', '000161_10.png', '000041_10.png', '000178_10.png', '000128_10.png', '000014_10.png', '000013_10.png', '000184_10.png', '000181_10.png', '000064_10.png', '000123_10.png', '000100_10.png', '000133_10.png', '000175_10.png', '000029_10.png', '000022_10.png', '000085_10.png', '000018_10.png', '000057_10.png', '000082_10.png', '000170_10.png', '000121_10.png', '000145_10.png', '000126_10.png', '000055_10.png', '000034_10.png', '000186_10.png', '000002_10.png', '000038_10.png']\n"
     ]
    }
   ],
   "source": [
    "print(original)"
   ]
  },
  {
   "cell_type": "code",
   "execution_count": 11,
   "metadata": {
    "executionInfo": {
     "elapsed": 7244,
     "status": "ok",
     "timestamp": 1610208583832,
     "user": {
      "displayName": "Abhishek Singh",
      "photoUrl": "",
      "userId": "02564130673443773880"
     },
     "user_tz": -330
    },
    "id": "-bXRMCtP8_c4"
   },
   "outputs": [],
   "source": [
    "masks  = os.listdir('./training/semantic')"
   ]
  },
  {
   "cell_type": "code",
   "execution_count": 12,
   "metadata": {
    "colab": {
     "base_uri": "https://localhost:8080/"
    },
    "executionInfo": {
     "elapsed": 7237,
     "status": "ok",
     "timestamp": 1610208583832,
     "user": {
      "displayName": "Abhishek Singh",
      "photoUrl": "",
      "userId": "02564130673443773880"
     },
     "user_tz": -330
    },
    "id": "_a5ABHPV8_fS",
    "outputId": "40181f31-87f0-4f95-b21d-1d867db01b2e"
   },
   "outputs": [
    {
     "name": "stdout",
     "output_type": "stream",
     "text": [
      "['000054_10.png', '000122_10.png', '000016_10.png', '000033_10.png', '000084_10.png', '000187_10.png', '000067_10.png', '000047_10.png', '000011_10.png', '000159_10.png', '000075_10.png', '000048_10.png', '000141_10.png', '000099_10.png', '000120_10.png', '000065_10.png', '000189_10.png', '000118_10.png', '000119_10.png', '000023_10.png', '000174_10.png', '000028_10.png', '000183_10.png', '000062_10.png', '000155_10.png', '000083_10.png', '000091_10.png', '000191_10.png', '000136_10.png', '000105_10.png', '000098_10.png', '000005_10.png', '000172_10.png', '000080_10.png', '000110_10.png', '000171_10.png', '000117_10.png', '000127_10.png', '000031_10.png', '000193_10.png', '000058_10.png', '000050_10.png', '000195_10.png', '000148_10.png', '000095_10.png', '000086_10.png', '000089_10.png', '000008_10.png', '000182_10.png', '000072_10.png', '000151_10.png', '000101_10.png', '000017_10.png', '000007_10.png', '000020_10.png', '000079_10.png', '000036_10.png', '000156_10.png', '000043_10.png', '000077_10.png', '000143_10.png', '000026_10.png', '000087_10.png', '000169_10.png', '000030_10.png', '000006_10.png', '000102_10.png', '000180_10.png', '000097_10.png', '000130_10.png', '000021_10.png', '000076_10.png', '000124_10.png', '000039_10.png', '000025_10.png', '000109_10.png', '000144_10.png', '000134_10.png', '000024_10.png', '000019_10.png', '000196_10.png', '000066_10.png', '000114_10.png', '000131_10.png', '000147_10.png', '000153_10.png', '000160_10.png', '000074_10.png', '000003_10.png', '000004_10.png', '000113_10.png', '000197_10.png', '000190_10.png', '000199_10.png', '000035_10.png', '000081_10.png', '000056_10.png', '000061_10.png', '000137_10.png', '000070_10.png', '000078_10.png', '000096_10.png', '000154_10.png', '000157_10.png', '000009_10.png', '000027_10.png', '000093_10.png', '000106_10.png', '000140_10.png', '000060_10.png', '000194_10.png', '000125_10.png', '000132_10.png', '000115_10.png', '000173_10.png', '000166_10.png', '000176_10.png', '000116_10.png', '000103_10.png', '000198_10.png', '000163_10.png', '000108_10.png', '000142_10.png', '000135_10.png', '000049_10.png', '000162_10.png', '000046_10.png', '000111_10.png', '000052_10.png', '000107_10.png', '000138_10.png', '000001_10.png', '000088_10.png', '000167_10.png', '000063_10.png', '000112_10.png', '000037_10.png', '000092_10.png', '000177_10.png', '000045_10.png', '000104_10.png', '000069_10.png', '000040_10.png', '000164_10.png', '000000_10.png', '000042_10.png', '000150_10.png', '000165_10.png', '000051_10.png', '000032_10.png', '000059_10.png', '000139_10.png', '000012_10.png', '000185_10.png', '000044_10.png', '000073_10.png', '000146_10.png', '000188_10.png', '000168_10.png', '000015_10.png', '000152_10.png', '000129_10.png', '000094_10.png', '000071_10.png', '000149_10.png', '000090_10.png', '000010_10.png', '000068_10.png', '000179_10.png', '000158_10.png', '000053_10.png', '000192_10.png', '000161_10.png', '000041_10.png', '000178_10.png', '000128_10.png', '000014_10.png', '000013_10.png', '000184_10.png', '000181_10.png', '000064_10.png', '000123_10.png', '000100_10.png', '000133_10.png', '000175_10.png', '000029_10.png', '000022_10.png', '000085_10.png', '000018_10.png', '000057_10.png', '000082_10.png', '000170_10.png', '000121_10.png', '000145_10.png', '000126_10.png', '000055_10.png', '000034_10.png', '000186_10.png', '000002_10.png', '000038_10.png']\n"
     ]
    }
   ],
   "source": [
    "print(masks)"
   ]
  },
  {
   "cell_type": "code",
   "execution_count": 13,
   "metadata": {
    "executionInfo": {
     "elapsed": 7232,
     "status": "ok",
     "timestamp": 1610208583833,
     "user": {
      "displayName": "Abhishek Singh",
      "photoUrl": "",
      "userId": "02564130673443773880"
     },
     "user_tz": -330
    },
    "id": "PKX48W3mQ5xJ"
   },
   "outputs": [],
   "source": [
    "#Separating  mask and images \n",
    "# masks = []\n",
    "# original = []\n",
    "# for filename in mylist:\n",
    "#     if filename.endswith('.png'):\n",
    "#         masks.append(filename)\n",
    "#     if filename.endswith('.jpg'):\n",
    "#         original.append(filename)"
   ]
  },
  {
   "cell_type": "code",
   "execution_count": 14,
   "metadata": {
    "executionInfo": {
     "elapsed": 7227,
     "status": "ok",
     "timestamp": 1610208583833,
     "user": {
      "displayName": "Abhishek Singh",
      "photoUrl": "",
      "userId": "02564130673443773880"
     },
     "user_tz": -330
    },
    "id": "20vDqLTKRGgt"
   },
   "outputs": [],
   "source": [
    "#Sorting\n",
    "original.sort()\n",
    "masks.sort()"
   ]
  },
  {
   "cell_type": "code",
   "execution_count": 15,
   "metadata": {
    "colab": {
     "base_uri": "https://localhost:8080/"
    },
    "executionInfo": {
     "elapsed": 7219,
     "status": "ok",
     "timestamp": 1610208583834,
     "user": {
      "displayName": "Abhishek Singh",
      "photoUrl": "",
      "userId": "02564130673443773880"
     },
     "user_tz": -330
    },
    "id": "TTNrYf2mRV-5",
    "outputId": "5e6a4d6f-6a3e-4d24-abd6-6591bb5c308f"
   },
   "outputs": [
    {
     "name": "stdout",
     "output_type": "stream",
     "text": [
      "000199_10.png\n",
      "000199_10.png\n",
      "000001_10.png\n",
      "000001_10.png\n"
     ]
    }
   ],
   "source": [
    "#Checkout image names\n",
    "print(original[-1])\n",
    "print(masks[-1])\n",
    "print(original[1])\n",
    "print(masks[1])\n"
   ]
  },
  {
   "cell_type": "code",
   "execution_count": 16,
   "metadata": {
    "executionInfo": {
     "elapsed": 7213,
     "status": "ok",
     "timestamp": 1610208583835,
     "user": {
      "displayName": "Abhishek Singh",
      "photoUrl": "",
      "userId": "02564130673443773880"
     },
     "user_tz": -330
    },
    "id": "SEArt-hSRdM6"
   },
   "outputs": [],
   "source": [
    "import cv2\n",
    "import matplotlib.pyplot as plt"
   ]
  },
  {
   "cell_type": "code",
   "execution_count": 17,
   "metadata": {
    "executionInfo": {
     "elapsed": 11623,
     "status": "ok",
     "timestamp": 1610208588250,
     "user": {
      "displayName": "Abhishek Singh",
      "photoUrl": "",
      "userId": "02564130673443773880"
     },
     "user_tz": -330
    },
    "id": "AOa_eoYgRjDg"
   },
   "outputs": [],
   "source": [
    "#Get the data -  X and y\n",
    "import numpy as np\n",
    "\n",
    "y = np.zeros((len(masks), IMAGE_HEIGHT, IMAGE_WIDTH, 3), dtype=np.float32)\n",
    "\n",
    "X = np.zeros((len(original), IMAGE_HEIGHT, IMAGE_WIDTH, 3), dtype=np.float32)\n",
    "\n",
    "for file in original:\n",
    "    n = original.index(file)\n",
    "    path1 = os.path.join('./training/image_2', file)\n",
    "    #path1 = './images/Abyssinian_34.jpg'\n",
    "    img = cv2.imread(path1,1)\n",
    "    try:\n",
    "#         print(img.shape)\n",
    "        img = cv2.resize(img, (128,128))\n",
    "#         print(img.shape)\n",
    "#         img = img[..., np.newaxis]\n",
    "        X[n] = img/ 255\n",
    "        file2 = masks[n]\n",
    "        #n = masks.index(file)\n",
    "        path2 = os.path.join('./training/semantic_rgb', file2)\n",
    "        # Load images\n",
    "              \n",
    "        mask = np.array(cv2.imread(path2, 1))\n",
    "#         print(mask.shape)\n",
    "#         mask = (mask<12)*1.0\n",
    "        mask = cv2.resize(mask, (128, 128))\n",
    "#         mask = mask[:, :, :]\n",
    "#         mask = mask[..., np.newaxis]\n",
    "#         print(mask.shape)\n",
    "#         mask = 1.0*(mask[:,:,0]>12)\n",
    "        y[n] = mask/255\n",
    "#         y[n,:,:] = np.squeeze(mask)\n",
    "#         print(y.shape)\n",
    "    except Exception as e:\n",
    "        print(e)\n",
    "        print(path1)\n"
   ]
  },
  {
   "cell_type": "code",
   "execution_count": 18,
   "metadata": {
    "colab": {
     "base_uri": "https://localhost:8080/"
    },
    "executionInfo": {
     "elapsed": 11617,
     "status": "ok",
     "timestamp": 1610208588251,
     "user": {
      "displayName": "Abhishek Singh",
      "photoUrl": "",
      "userId": "02564130673443773880"
     },
     "user_tz": -330
    },
    "id": "EYgY0bUTRohK",
    "outputId": "69c0d97b-faa9-4b1e-bcb8-6d0a36120503"
   },
   "outputs": [
    {
     "name": "stdout",
     "output_type": "stream",
     "text": [
      "(200, 128, 128, 3)\n",
      "(200, 128, 128, 3)\n"
     ]
    }
   ],
   "source": [
    "#Check the data\n",
    "print(X.shape)\n",
    "print(y.shape)"
   ]
  },
  {
   "cell_type": "code",
   "execution_count": 19,
   "metadata": {
    "colab": {
     "base_uri": "https://localhost:8080/",
     "height": 285
    },
    "executionInfo": {
     "elapsed": 11611,
     "status": "ok",
     "timestamp": 1610208588253,
     "user": {
      "displayName": "Abhishek Singh",
      "photoUrl": "",
      "userId": "02564130673443773880"
     },
     "user_tz": -330
    },
    "id": "0QeUxyLYTQEt",
    "outputId": "f395748b-4753-40c3-b95d-39f63ce04970"
   },
   "outputs": [
    {
     "data": {
      "text/plain": [
       "<matplotlib.image.AxesImage at 0x7faccb198048>"
      ]
     },
     "execution_count": 19,
     "metadata": {
      "tags": []
     },
     "output_type": "execute_result"
    },
    {
     "data": {
      "image/png": "[encoded data removed]",
      "text/plain": [
       "<Figure size 432x288 with 1 Axes>"
      ]
     },
     "metadata": {
      "needs_background": "light",
      "tags": []
     },
     "output_type": "display_data"
    }
   ],
   "source": [
    "#Check the images\n",
    "plt.imshow(X[1])"
   ]
  },
  {
   "cell_type": "code",
   "execution_count": 20,
   "metadata": {
    "colab": {
     "base_uri": "https://localhost:8080/",
     "height": 285
    },
    "executionInfo": {
     "elapsed": 11601,
     "status": "ok",
     "timestamp": 1610208588254,
     "user": {
      "displayName": "Abhishek Singh",
      "photoUrl": "",
      "userId": "02564130673443773880"
     },
     "user_tz": -330
    },
    "id": "y9UlmGqoWNtQ",
    "outputId": "5a88a7bc-94fe-4dd1-d7a0-8f912b8cef23"
   },
   "outputs": [
    {
     "data": {
      "text/plain": [
       "<matplotlib.image.AxesImage at 0x7facc9c63a90>"
      ]
     },
     "execution_count": 20,
     "metadata": {
      "tags": []
     },
     "output_type": "execute_result"
    },
    {
     "data": {
      "image/png": "[encoded data removed]",
      "text/plain": [
       "<Figure size 432x288 with 1 Axes>"
      ]
     },
     "metadata": {
      "needs_background": "light",
      "tags": []
     },
     "output_type": "display_data"
    }
   ],
   "source": [
    "plt.imshow(y[1])"
   ]
  },
  {
   "cell_type": "code",
   "execution_count": 21,
   "metadata": {
    "colab": {
     "base_uri": "https://localhost:8080/",
     "height": 187
    },
    "executionInfo": {
     "elapsed": 12386,
     "status": "ok",
     "timestamp": 1610208589048,
     "user": {
      "displayName": "Abhishek Singh",
      "photoUrl": "",
      "userId": "02564130673443773880"
     },
     "user_tz": -330
    },
    "id": "n3DDK14aEIhi",
    "outputId": "1917709c-ab4b-47e6-a14e-6f5f06ae56c4"
   },
   "outputs": [
    {
     "name": "stdout",
     "output_type": "stream",
     "text": [
      "(375, 1242, 3)\n"
     ]
    },
    {
     "data": {
      "text/plain": [
       "<matplotlib.image.AxesImage at 0x7facc9c51b38>"
      ]
     },
     "execution_count": 21,
     "metadata": {
      "tags": []
     },
     "output_type": "execute_result"
    },
    {
     "data": {
      "image/png": "[encoded data removed]",
      "text/plain": [
       "<Figure size 432x288 with 1 Axes>"
      ]
     },
     "metadata": {
      "needs_background": "light",
      "tags": []
     },
     "output_type": "display_data"
    }
   ],
   "source": [
    "a = './training/semantic_rgb/000000_10.png'\n",
    "img = cv2.imread(a, 1)\n",
    "print(img.shape)\n",
    "plt.imshow(img)"
   ]
  },
  {
   "cell_type": "code",
   "execution_count": 22,
   "metadata": {
    "colab": {
     "base_uri": "https://localhost:8080/",
     "height": 302
    },
    "executionInfo": {
     "elapsed": 12378,
     "status": "ok",
     "timestamp": 1610208589049,
     "user": {
      "displayName": "Abhishek Singh",
      "photoUrl": "",
      "userId": "02564130673443773880"
     },
     "user_tz": -330
    },
    "id": "unBgIgAJIYZb",
    "outputId": "be76ffa1-0728-4920-82d0-deb0162135a6"
   },
   "outputs": [
    {
     "name": "stdout",
     "output_type": "stream",
     "text": [
      "(128, 128, 3)\n"
     ]
    },
    {
     "data": {
      "text/plain": [
       "<matplotlib.image.AxesImage at 0x7facc9bb3278>"
      ]
     },
     "execution_count": 22,
     "metadata": {
      "tags": []
     },
     "output_type": "execute_result"
    },
    {
     "data": {
      "image/png": "[encoded data removed]",
      "text/plain": [
       "<Figure size 432x288 with 1 Axes>"
      ]
     },
     "metadata": {
      "needs_background": "light",
      "tags": []
     },
     "output_type": "display_data"
    }
   ],
   "source": [
    "img = cv2.resize(img, (128, 128))\n",
    "print(img.shape)\n",
    "# img = img[:,:, :]\n",
    "plt.imshow(img)"
   ]
  },
  {
   "cell_type": "code",
   "execution_count": 23,
   "metadata": {
    "executionInfo": {
     "elapsed": 12370,
     "status": "ok",
     "timestamp": 1610208589050,
     "user": {
      "displayName": "Abhishek Singh",
      "photoUrl": "",
      "userId": "02564130673443773880"
     },
     "user_tz": -330
    },
    "id": "xSSrPgA5R0M6"
   },
   "outputs": [],
   "source": []
  },
  {
   "cell_type": "code",
   "execution_count": 24,
   "metadata": {
    "colab": {
     "base_uri": "https://localhost:8080/",
     "height": 52
    },
    "executionInfo": {
     "elapsed": 12366,
     "status": "ok",
     "timestamp": 1610208589051,
     "user": {
      "displayName": "Abhishek Singh",
      "photoUrl": "",
      "userId": "02564130673443773880"
     },
     "user_tz": -330
    },
    "id": "A434Plmw5shS",
    "outputId": "aa10cb3a-b39a-4cfc-e216-bd1448511c68"
   },
   "outputs": [
    {
     "data": {
      "application/vnd.google.colaboratory.intrinsic+json": {
       "type": "string"
      },
      "text/plain": [
       "'\\n!pip install keras==2.3.1\\n!pip install tensorflow==2.1.0\\n!pip install keras_applications==1.0.8\\n!pip install image-classifiers==1.0.0\\n!pip install efficientnet==1.0.0\\n'"
      ]
     },
     "execution_count": 24,
     "metadata": {
      "tags": []
     },
     "output_type": "execute_result"
    }
   ],
   "source": [
    "#Install segmentation models. \r\n",
    "#The segmentation_model was written with the following versions of keras and tensorflow, so we need to downgrade the following modules\r\n",
    "#After running this code block, comment the whole code block and restart and run the code\r\n",
    "!pip install git+https://github.com/qubvel/segmentation_models\r\n",
    "!pip install keras==2.3.1\r\n",
    "!pip install tensorflow==2.1.0\r\n",
    "!pip install keras_applications==1.0.8\r\n",
    "!pip install image-classifiers==1.0.0\r\n",
    "!pip install efficientnet==1.0.0\r\n"
   ]
  },
  {
   "cell_type": "code",
   "execution_count": 1,
   "metadata": {
    "colab": {
     "base_uri": "https://localhost:8080/"
    },
    "executionInfo": {
     "elapsed": 12359,
     "status": "ok",
     "timestamp": 1610208589052,
     "user": {
      "displayName": "Abhishek Singh",
      "photoUrl": "",
      "userId": "02564130673443773880"
     },
     "user_tz": -330
    },
    "id": "2cMxXEjzrcFa",
    "outputId": "2607d4f6-c3af-41aa-eaba-26dbbcd1c194"
   },
   "outputs": [
    {
     "name": "stderr",
     "output_type": "stream",
     "text": [
      "Using TensorFlow backend.\n"
     ]
    },
    {
     "name": "stdout",
     "output_type": "stream",
     "text": [
      "Segmentation Models: using `keras` framework.\n"
     ]
    }
   ],
   "source": [
    "#Import libraries\n",
    "import segmentation_models\n",
    "segmentation_models.set_framework('tf.keras')\n",
    "from segmentation_models import Unet\n",
    "from segmentation_models.backbones.backbones_factory import Backbones\n",
    "from segmentation_models.losses import bce_jaccard_loss\n",
    "from segmentation_models.metrics import iou_score\n",
    "\n",
    "from tensorflow.keras.layers import Input, Conv2D\n",
    "from tensorflow.keras.models import Model"
   ]
  },
  {
   "cell_type": "code",
   "execution_count": 26,
   "metadata": {
    "executionInfo": {
     "elapsed": 12351,
     "status": "ok",
     "timestamp": 1610208589052,
     "user": {
      "displayName": "Abhishek Singh",
      "photoUrl": "",
      "userId": "02564130673443773880"
     },
     "user_tz": -330
    },
    "id": "hmSfOJtYr4x8"
   },
   "outputs": [],
   "source": [
    "from sklearn.model_selection import train_test_split\n",
    "\n",
    "# Split train and valid\n",
    "X_train, X_valid, y_train, y_valid = train_test_split(X, y, test_size=0.15, random_state=2019)"
   ]
  },
  {
   "cell_type": "code",
   "execution_count": 27,
   "metadata": {
    "executionInfo": {
     "elapsed": 12345,
     "status": "ok",
     "timestamp": 1610208589053,
     "user": {
      "displayName": "Abhishek Singh",
      "photoUrl": "",
      "userId": "02564130673443773880"
     },
     "user_tz": -330
    },
    "id": "sdR0Cxh-T6jI"
   },
   "outputs": [],
   "source": [
    "BACKBONE = 'resnet34'\n",
    "preprocess_input = Backbones.get_preprocessing(BACKBONE)"
   ]
  },
  {
   "cell_type": "code",
   "execution_count": 28,
   "metadata": {
    "executionInfo": {
     "elapsed": 12337,
     "status": "ok",
     "timestamp": 1610208589054,
     "user": {
      "displayName": "Abhishek Singh",
      "photoUrl": "",
      "userId": "02564130673443773880"
     },
     "user_tz": -330
    },
    "id": "jjfhdVUmr7T6"
   },
   "outputs": [],
   "source": [
    "x_train = preprocess_input(X_train)\n",
    "x_val = preprocess_input(X_valid)"
   ]
  },
  {
   "cell_type": "code",
   "execution_count": 29,
   "metadata": {
    "colab": {
     "base_uri": "https://localhost:8080/"
    },
    "executionInfo": {
     "elapsed": 12332,
     "status": "ok",
     "timestamp": 1610208589054,
     "user": {
      "displayName": "Abhishek Singh",
      "photoUrl": "",
      "userId": "02564130673443773880"
     },
     "user_tz": -330
    },
    "id": "R7TIAYf6s9p1",
    "outputId": "2b5988f0-3882-4813-e6e5-8971872f2614"
   },
   "outputs": [
    {
     "data": {
      "text/plain": [
       "(30, 128, 128, 3)"
      ]
     },
     "execution_count": 29,
     "metadata": {
      "tags": []
     },
     "output_type": "execute_result"
    }
   ],
   "source": [
    "x_val.shape"
   ]
  },
  {
   "cell_type": "code",
   "execution_count": 30,
   "metadata": {
    "colab": {
     "base_uri": "https://localhost:8080/"
    },
    "executionInfo": {
     "elapsed": 12329,
     "status": "ok",
     "timestamp": 1610208589055,
     "user": {
      "displayName": "Abhishek Singh",
      "photoUrl": "",
      "userId": "02564130673443773880"
     },
     "user_tz": -330
    },
    "id": "3YaMOsEvICD7",
    "outputId": "2638c0b6-046b-41cf-88d1-fc1a309ea9f4"
   },
   "outputs": [
    {
     "data": {
      "text/plain": [
       "(170, 128, 128, 3)"
      ]
     },
     "execution_count": 30,
     "metadata": {
      "tags": []
     },
     "output_type": "execute_result"
    }
   ],
   "source": [
    "x_train.shape"
   ]
  },
  {
   "cell_type": "code",
   "execution_count": 31,
   "metadata": {
    "colab": {
     "base_uri": "https://localhost:8080/"
    },
    "executionInfo": {
     "elapsed": 23142,
     "status": "ok",
     "timestamp": 1610208599873,
     "user": {
      "displayName": "Abhishek Singh",
      "photoUrl": "",
      "userId": "02564130673443773880"
     },
     "user_tz": -330
    },
    "id": "RN6duB30u714",
    "outputId": "7078888b-d890-40a4-cf03-13546f1eddd5"
   },
   "outputs": [
    {
     "name": "stdout",
     "output_type": "stream",
     "text": [
      "Downloading data from https://github.com/fchollet/deep-learning-models/releases/download/v0.5/inception_v3_weights_tf_dim_ordering_tf_kernels_notop.h5\n",
      "87916544/87910968 [==============================] - 2s 0us/step\n",
      "Model: \"model\"\n",
      "_________________________________________________________________\n",
      "Layer (type)                 Output Shape              Param #   \n",
      "=================================================================\n",
      "input_2 (InputLayer)         [(None, 128, 128, 3)]     0         \n",
      "_________________________________________________________________\n",
      "conv2d_94 (Conv2D)           (None, 128, 128, 3)       12        \n",
      "_________________________________________________________________\n",
      "model (Model)                multiple                  29933105  \n",
      "_________________________________________________________________\n",
      "conv2d_95 (Conv2D)           (None, 128, 128, 3)       6         \n",
      "=================================================================\n",
      "Total params: 29,933,123\n",
      "Trainable params: 29,896,707\n",
      "Non-trainable params: 36,416\n",
      "_________________________________________________________________\n"
     ]
    }
   ],
   "source": [
    "#Build your model \n",
    "\n",
    "N = x_train.shape[-1]\n",
    "\n",
    "base_model = Unet(backbone_name='inceptionv3', encoder_weights='imagenet')\n",
    "\n",
    "inp = Input(shape=(128, 128, N))\n",
    "l1 = Conv2D(3, (1, 1))(inp) # map N channels data to 3 channels\n",
    "out = base_model(l1)\n",
    "l2 = Conv2D(3, (1, 1))(out)\n",
    "model = Model(inp, l2, name=base_model.name)\n",
    "model.summary()"
   ]
  },
  {
   "cell_type": "code",
   "execution_count": 32,
   "metadata": {
    "colab": {
     "base_uri": "https://localhost:8080/"
    },
    "executionInfo": {
     "elapsed": 23138,
     "status": "ok",
     "timestamp": 1610208599874,
     "user": {
      "displayName": "Abhishek Singh",
      "photoUrl": "",
      "userId": "02564130673443773880"
     },
     "user_tz": -330
    },
    "id": "88BZmYiyeZrq",
    "outputId": "d2086b2d-4308-47c8-f0fc-e5732637e1a0"
   },
   "outputs": [
    {
     "name": "stdout",
     "output_type": "stream",
     "text": [
      "Model: \"model\"\n",
      "__________________________________________________________________________________________________\n",
      "Layer (type)                    Output Shape         Param #     Connected to                     \n",
      "==================================================================================================\n",
      "input_1 (InputLayer)            [(None, None, None,  0                                            \n",
      "__________________________________________________________________________________________________\n",
      "conv2d (Conv2D)                 multiple             864         input_1[0][0]                    \n",
      "__________________________________________________________________________________________________\n",
      "batch_normalization (BatchNorma multiple             96          conv2d[0][0]                     \n",
      "__________________________________________________________________________________________________\n",
      "activation (Activation)         multiple             0           batch_normalization[0][0]        \n",
      "__________________________________________________________________________________________________\n",
      "conv2d_1 (Conv2D)               multiple             9216        activation[0][0]                 \n",
      "__________________________________________________________________________________________________\n",
      "batch_normalization_1 (BatchNor multiple             96          conv2d_1[0][0]                   \n",
      "__________________________________________________________________________________________________\n",
      "activation_1 (Activation)       multiple             0           batch_normalization_1[0][0]      \n",
      "__________________________________________________________________________________________________\n",
      "conv2d_2 (Conv2D)               multiple             18432       activation_1[0][0]               \n",
      "__________________________________________________________________________________________________\n",
      "batch_normalization_2 (BatchNor multiple             192         conv2d_2[0][0]                   \n",
      "__________________________________________________________________________________________________\n",
      "activation_2 (Activation)       multiple             0           batch_normalization_2[0][0]      \n",
      "__________________________________________________________________________________________________\n",
      "max_pooling2d (MaxPooling2D)    multiple             0           activation_2[0][0]               \n",
      "__________________________________________________________________________________________________\n",
      "conv2d_3 (Conv2D)               multiple             5120        max_pooling2d[0][0]              \n",
      "__________________________________________________________________________________________________\n",
      "batch_normalization_3 (BatchNor multiple             240         conv2d_3[0][0]                   \n",
      "__________________________________________________________________________________________________\n",
      "activation_3 (Activation)       multiple             0           batch_normalization_3[0][0]      \n",
      "__________________________________________________________________________________________________\n",
      "conv2d_4 (Conv2D)               multiple             138240      activation_3[0][0]               \n",
      "__________________________________________________________________________________________________\n",
      "batch_normalization_4 (BatchNor multiple             576         conv2d_4[0][0]                   \n",
      "__________________________________________________________________________________________________\n",
      "activation_4 (Activation)       multiple             0           batch_normalization_4[0][0]      \n",
      "__________________________________________________________________________________________________\n",
      "max_pooling2d_1 (MaxPooling2D)  multiple             0           activation_4[0][0]               \n",
      "__________________________________________________________________________________________________\n",
      "conv2d_8 (Conv2D)               multiple             12288       max_pooling2d_1[0][0]            \n",
      "__________________________________________________________________________________________________\n",
      "batch_normalization_8 (BatchNor multiple             192         conv2d_8[0][0]                   \n",
      "__________________________________________________________________________________________________\n",
      "activation_8 (Activation)       multiple             0           batch_normalization_8[0][0]      \n",
      "__________________________________________________________________________________________________\n",
      "conv2d_6 (Conv2D)               multiple             9216        max_pooling2d_1[0][0]            \n",
      "__________________________________________________________________________________________________\n",
      "conv2d_9 (Conv2D)               multiple             55296       activation_8[0][0]               \n",
      "__________________________________________________________________________________________________\n",
      "batch_normalization_6 (BatchNor multiple             144         conv2d_6[0][0]                   \n",
      "__________________________________________________________________________________________________\n",
      "batch_normalization_9 (BatchNor multiple             288         conv2d_9[0][0]                   \n",
      "__________________________________________________________________________________________________\n",
      "activation_6 (Activation)       multiple             0           batch_normalization_6[0][0]      \n",
      "__________________________________________________________________________________________________\n",
      "activation_9 (Activation)       multiple             0           batch_normalization_9[0][0]      \n",
      "__________________________________________________________________________________________________\n",
      "average_pooling2d (AveragePooli multiple             0           max_pooling2d_1[0][0]            \n",
      "__________________________________________________________________________________________________\n",
      "conv2d_5 (Conv2D)               multiple             12288       max_pooling2d_1[0][0]            \n",
      "__________________________________________________________________________________________________\n",
      "conv2d_7 (Conv2D)               multiple             76800       activation_6[0][0]               \n",
      "__________________________________________________________________________________________________\n",
      "conv2d_10 (Conv2D)              multiple             82944       activation_9[0][0]               \n",
      "__________________________________________________________________________________________________\n",
      "conv2d_11 (Conv2D)              multiple             6144        average_pooling2d[0][0]          \n",
      "__________________________________________________________________________________________________\n",
      "batch_normalization_5 (BatchNor multiple             192         conv2d_5[0][0]                   \n",
      "__________________________________________________________________________________________________\n",
      "batch_normalization_7 (BatchNor multiple             192         conv2d_7[0][0]                   \n",
      "__________________________________________________________________________________________________\n",
      "batch_normalization_10 (BatchNo multiple             288         conv2d_10[0][0]                  \n",
      "__________________________________________________________________________________________________\n",
      "batch_normalization_11 (BatchNo multiple             96          conv2d_11[0][0]                  \n",
      "__________________________________________________________________________________________________\n",
      "activation_5 (Activation)       multiple             0           batch_normalization_5[0][0]      \n",
      "__________________________________________________________________________________________________\n",
      "activation_7 (Activation)       multiple             0           batch_normalization_7[0][0]      \n",
      "__________________________________________________________________________________________________\n",
      "activation_10 (Activation)      multiple             0           batch_normalization_10[0][0]     \n",
      "__________________________________________________________________________________________________\n",
      "activation_11 (Activation)      multiple             0           batch_normalization_11[0][0]     \n",
      "__________________________________________________________________________________________________\n",
      "mixed0 (Concatenate)            multiple             0           activation_5[0][0]               \n",
      "                                                                 activation_7[0][0]               \n",
      "                                                                 activation_10[0][0]              \n",
      "                                                                 activation_11[0][0]              \n",
      "__________________________________________________________________________________________________\n",
      "conv2d_15 (Conv2D)              multiple             16384       mixed0[0][0]                     \n",
      "__________________________________________________________________________________________________\n",
      "batch_normalization_15 (BatchNo multiple             192         conv2d_15[0][0]                  \n",
      "__________________________________________________________________________________________________\n",
      "activation_15 (Activation)      multiple             0           batch_normalization_15[0][0]     \n",
      "__________________________________________________________________________________________________\n",
      "conv2d_13 (Conv2D)              multiple             12288       mixed0[0][0]                     \n",
      "__________________________________________________________________________________________________\n",
      "conv2d_16 (Conv2D)              multiple             55296       activation_15[0][0]              \n",
      "__________________________________________________________________________________________________\n",
      "batch_normalization_13 (BatchNo multiple             144         conv2d_13[0][0]                  \n",
      "__________________________________________________________________________________________________\n",
      "batch_normalization_16 (BatchNo multiple             288         conv2d_16[0][0]                  \n",
      "__________________________________________________________________________________________________\n",
      "activation_13 (Activation)      multiple             0           batch_normalization_13[0][0]     \n",
      "__________________________________________________________________________________________________\n",
      "activation_16 (Activation)      multiple             0           batch_normalization_16[0][0]     \n",
      "__________________________________________________________________________________________________\n",
      "average_pooling2d_1 (AveragePoo multiple             0           mixed0[0][0]                     \n",
      "__________________________________________________________________________________________________\n",
      "conv2d_12 (Conv2D)              multiple             16384       mixed0[0][0]                     \n",
      "__________________________________________________________________________________________________\n",
      "conv2d_14 (Conv2D)              multiple             76800       activation_13[0][0]              \n",
      "__________________________________________________________________________________________________\n",
      "conv2d_17 (Conv2D)              multiple             82944       activation_16[0][0]              \n",
      "__________________________________________________________________________________________________\n",
      "conv2d_18 (Conv2D)              multiple             16384       average_pooling2d_1[0][0]        \n",
      "__________________________________________________________________________________________________\n",
      "batch_normalization_12 (BatchNo multiple             192         conv2d_12[0][0]                  \n",
      "__________________________________________________________________________________________________\n",
      "batch_normalization_14 (BatchNo multiple             192         conv2d_14[0][0]                  \n",
      "__________________________________________________________________________________________________\n",
      "batch_normalization_17 (BatchNo multiple             288         conv2d_17[0][0]                  \n",
      "__________________________________________________________________________________________________\n",
      "batch_normalization_18 (BatchNo multiple             192         conv2d_18[0][0]                  \n",
      "__________________________________________________________________________________________________\n",
      "activation_12 (Activation)      multiple             0           batch_normalization_12[0][0]     \n",
      "__________________________________________________________________________________________________\n",
      "activation_14 (Activation)      multiple             0           batch_normalization_14[0][0]     \n",
      "__________________________________________________________________________________________________\n",
      "activation_17 (Activation)      multiple             0           batch_normalization_17[0][0]     \n",
      "__________________________________________________________________________________________________\n",
      "activation_18 (Activation)      multiple             0           batch_normalization_18[0][0]     \n",
      "__________________________________________________________________________________________________\n",
      "mixed1 (Concatenate)            multiple             0           activation_12[0][0]              \n",
      "                                                                 activation_14[0][0]              \n",
      "                                                                 activation_17[0][0]              \n",
      "                                                                 activation_18[0][0]              \n",
      "__________________________________________________________________________________________________\n",
      "conv2d_22 (Conv2D)              multiple             18432       mixed1[0][0]                     \n",
      "__________________________________________________________________________________________________\n",
      "batch_normalization_22 (BatchNo multiple             192         conv2d_22[0][0]                  \n",
      "__________________________________________________________________________________________________\n",
      "activation_22 (Activation)      multiple             0           batch_normalization_22[0][0]     \n",
      "__________________________________________________________________________________________________\n",
      "conv2d_20 (Conv2D)              multiple             13824       mixed1[0][0]                     \n",
      "__________________________________________________________________________________________________\n",
      "conv2d_23 (Conv2D)              multiple             55296       activation_22[0][0]              \n",
      "__________________________________________________________________________________________________\n",
      "batch_normalization_20 (BatchNo multiple             144         conv2d_20[0][0]                  \n",
      "__________________________________________________________________________________________________\n",
      "batch_normalization_23 (BatchNo multiple             288         conv2d_23[0][0]                  \n",
      "__________________________________________________________________________________________________\n",
      "activation_20 (Activation)      multiple             0           batch_normalization_20[0][0]     \n",
      "__________________________________________________________________________________________________\n",
      "activation_23 (Activation)      multiple             0           batch_normalization_23[0][0]     \n",
      "__________________________________________________________________________________________________\n",
      "average_pooling2d_2 (AveragePoo multiple             0           mixed1[0][0]                     \n",
      "__________________________________________________________________________________________________\n",
      "conv2d_19 (Conv2D)              multiple             18432       mixed1[0][0]                     \n",
      "__________________________________________________________________________________________________\n",
      "conv2d_21 (Conv2D)              multiple             76800       activation_20[0][0]              \n",
      "__________________________________________________________________________________________________\n",
      "conv2d_24 (Conv2D)              multiple             82944       activation_23[0][0]              \n",
      "__________________________________________________________________________________________________\n",
      "conv2d_25 (Conv2D)              multiple             18432       average_pooling2d_2[0][0]        \n",
      "__________________________________________________________________________________________________\n",
      "batch_normalization_19 (BatchNo multiple             192         conv2d_19[0][0]                  \n",
      "__________________________________________________________________________________________________\n",
      "batch_normalization_21 (BatchNo multiple             192         conv2d_21[0][0]                  \n",
      "__________________________________________________________________________________________________\n",
      "batch_normalization_24 (BatchNo multiple             288         conv2d_24[0][0]                  \n",
      "__________________________________________________________________________________________________\n",
      "batch_normalization_25 (BatchNo multiple             192         conv2d_25[0][0]                  \n",
      "__________________________________________________________________________________________________\n",
      "activation_19 (Activation)      multiple             0           batch_normalization_19[0][0]     \n",
      "__________________________________________________________________________________________________\n",
      "activation_21 (Activation)      multiple             0           batch_normalization_21[0][0]     \n",
      "__________________________________________________________________________________________________\n",
      "activation_24 (Activation)      multiple             0           batch_normalization_24[0][0]     \n",
      "__________________________________________________________________________________________________\n",
      "activation_25 (Activation)      multiple             0           batch_normalization_25[0][0]     \n",
      "__________________________________________________________________________________________________\n",
      "mixed2 (Concatenate)            multiple             0           activation_19[0][0]              \n",
      "                                                                 activation_21[0][0]              \n",
      "                                                                 activation_24[0][0]              \n",
      "                                                                 activation_25[0][0]              \n",
      "__________________________________________________________________________________________________\n",
      "conv2d_27 (Conv2D)              multiple             18432       mixed2[0][0]                     \n",
      "__________________________________________________________________________________________________\n",
      "batch_normalization_27 (BatchNo multiple             192         conv2d_27[0][0]                  \n",
      "__________________________________________________________________________________________________\n",
      "activation_27 (Activation)      multiple             0           batch_normalization_27[0][0]     \n",
      "__________________________________________________________________________________________________\n",
      "conv2d_28 (Conv2D)              multiple             55296       activation_27[0][0]              \n",
      "__________________________________________________________________________________________________\n",
      "batch_normalization_28 (BatchNo multiple             288         conv2d_28[0][0]                  \n",
      "__________________________________________________________________________________________________\n",
      "activation_28 (Activation)      multiple             0           batch_normalization_28[0][0]     \n",
      "__________________________________________________________________________________________________\n",
      "conv2d_26 (Conv2D)              multiple             995328      mixed2[0][0]                     \n",
      "__________________________________________________________________________________________________\n",
      "conv2d_29 (Conv2D)              multiple             82944       activation_28[0][0]              \n",
      "__________________________________________________________________________________________________\n",
      "batch_normalization_26 (BatchNo multiple             1152        conv2d_26[0][0]                  \n",
      "__________________________________________________________________________________________________\n",
      "batch_normalization_29 (BatchNo multiple             288         conv2d_29[0][0]                  \n",
      "__________________________________________________________________________________________________\n",
      "activation_26 (Activation)      multiple             0           batch_normalization_26[0][0]     \n",
      "__________________________________________________________________________________________________\n",
      "activation_29 (Activation)      multiple             0           batch_normalization_29[0][0]     \n",
      "__________________________________________________________________________________________________\n",
      "max_pooling2d_2 (MaxPooling2D)  multiple             0           mixed2[0][0]                     \n",
      "__________________________________________________________________________________________________\n",
      "mixed3 (Concatenate)            multiple             0           activation_26[0][0]              \n",
      "                                                                 activation_29[0][0]              \n",
      "                                                                 max_pooling2d_2[0][0]            \n",
      "__________________________________________________________________________________________________\n",
      "conv2d_34 (Conv2D)              multiple             98304       mixed3[0][0]                     \n",
      "__________________________________________________________________________________________________\n",
      "batch_normalization_34 (BatchNo multiple             384         conv2d_34[0][0]                  \n",
      "__________________________________________________________________________________________________\n",
      "activation_34 (Activation)      multiple             0           batch_normalization_34[0][0]     \n",
      "__________________________________________________________________________________________________\n",
      "conv2d_35 (Conv2D)              multiple             114688      activation_34[0][0]              \n",
      "__________________________________________________________________________________________________\n",
      "batch_normalization_35 (BatchNo multiple             384         conv2d_35[0][0]                  \n",
      "__________________________________________________________________________________________________\n",
      "activation_35 (Activation)      multiple             0           batch_normalization_35[0][0]     \n",
      "__________________________________________________________________________________________________\n",
      "conv2d_31 (Conv2D)              multiple             98304       mixed3[0][0]                     \n",
      "__________________________________________________________________________________________________\n",
      "conv2d_36 (Conv2D)              multiple             114688      activation_35[0][0]              \n",
      "__________________________________________________________________________________________________\n",
      "batch_normalization_31 (BatchNo multiple             384         conv2d_31[0][0]                  \n",
      "__________________________________________________________________________________________________\n",
      "batch_normalization_36 (BatchNo multiple             384         conv2d_36[0][0]                  \n",
      "__________________________________________________________________________________________________\n",
      "activation_31 (Activation)      multiple             0           batch_normalization_31[0][0]     \n",
      "__________________________________________________________________________________________________\n",
      "activation_36 (Activation)      multiple             0           batch_normalization_36[0][0]     \n",
      "__________________________________________________________________________________________________\n",
      "conv2d_32 (Conv2D)              multiple             114688      activation_31[0][0]              \n",
      "__________________________________________________________________________________________________\n",
      "conv2d_37 (Conv2D)              multiple             114688      activation_36[0][0]              \n",
      "__________________________________________________________________________________________________\n",
      "batch_normalization_32 (BatchNo multiple             384         conv2d_32[0][0]                  \n",
      "__________________________________________________________________________________________________\n",
      "batch_normalization_37 (BatchNo multiple             384         conv2d_37[0][0]                  \n",
      "__________________________________________________________________________________________________\n",
      "activation_32 (Activation)      multiple             0           batch_normalization_32[0][0]     \n",
      "__________________________________________________________________________________________________\n",
      "activation_37 (Activation)      multiple             0           batch_normalization_37[0][0]     \n",
      "__________________________________________________________________________________________________\n",
      "average_pooling2d_3 (AveragePoo multiple             0           mixed3[0][0]                     \n",
      "__________________________________________________________________________________________________\n",
      "conv2d_30 (Conv2D)              multiple             147456      mixed3[0][0]                     \n",
      "__________________________________________________________________________________________________\n",
      "conv2d_33 (Conv2D)              multiple             172032      activation_32[0][0]              \n",
      "__________________________________________________________________________________________________\n",
      "conv2d_38 (Conv2D)              multiple             172032      activation_37[0][0]              \n",
      "__________________________________________________________________________________________________\n",
      "conv2d_39 (Conv2D)              multiple             147456      average_pooling2d_3[0][0]        \n",
      "__________________________________________________________________________________________________\n",
      "batch_normalization_30 (BatchNo multiple             576         conv2d_30[0][0]                  \n",
      "__________________________________________________________________________________________________\n",
      "batch_normalization_33 (BatchNo multiple             576         conv2d_33[0][0]                  \n",
      "__________________________________________________________________________________________________\n",
      "batch_normalization_38 (BatchNo multiple             576         conv2d_38[0][0]                  \n",
      "__________________________________________________________________________________________________\n",
      "batch_normalization_39 (BatchNo multiple             576         conv2d_39[0][0]                  \n",
      "__________________________________________________________________________________________________\n",
      "activation_30 (Activation)      multiple             0           batch_normalization_30[0][0]     \n",
      "__________________________________________________________________________________________________\n",
      "activation_33 (Activation)      multiple             0           batch_normalization_33[0][0]     \n",
      "__________________________________________________________________________________________________\n",
      "activation_38 (Activation)      multiple             0           batch_normalization_38[0][0]     \n",
      "__________________________________________________________________________________________________\n",
      "activation_39 (Activation)      multiple             0           batch_normalization_39[0][0]     \n",
      "__________________________________________________________________________________________________\n",
      "mixed4 (Concatenate)            multiple             0           activation_30[0][0]              \n",
      "                                                                 activation_33[0][0]              \n",
      "                                                                 activation_38[0][0]              \n",
      "                                                                 activation_39[0][0]              \n",
      "__________________________________________________________________________________________________\n",
      "conv2d_44 (Conv2D)              multiple             122880      mixed4[0][0]                     \n",
      "__________________________________________________________________________________________________\n",
      "batch_normalization_44 (BatchNo multiple             480         conv2d_44[0][0]                  \n",
      "__________________________________________________________________________________________________\n",
      "activation_44 (Activation)      multiple             0           batch_normalization_44[0][0]     \n",
      "__________________________________________________________________________________________________\n",
      "conv2d_45 (Conv2D)              multiple             179200      activation_44[0][0]              \n",
      "__________________________________________________________________________________________________\n",
      "batch_normalization_45 (BatchNo multiple             480         conv2d_45[0][0]                  \n",
      "__________________________________________________________________________________________________\n",
      "activation_45 (Activation)      multiple             0           batch_normalization_45[0][0]     \n",
      "__________________________________________________________________________________________________\n",
      "conv2d_41 (Conv2D)              multiple             122880      mixed4[0][0]                     \n",
      "__________________________________________________________________________________________________\n",
      "conv2d_46 (Conv2D)              multiple             179200      activation_45[0][0]              \n",
      "__________________________________________________________________________________________________\n",
      "batch_normalization_41 (BatchNo multiple             480         conv2d_41[0][0]                  \n",
      "__________________________________________________________________________________________________\n",
      "batch_normalization_46 (BatchNo multiple             480         conv2d_46[0][0]                  \n",
      "__________________________________________________________________________________________________\n",
      "activation_41 (Activation)      multiple             0           batch_normalization_41[0][0]     \n",
      "__________________________________________________________________________________________________\n",
      "activation_46 (Activation)      multiple             0           batch_normalization_46[0][0]     \n",
      "__________________________________________________________________________________________________\n",
      "conv2d_42 (Conv2D)              multiple             179200      activation_41[0][0]              \n",
      "__________________________________________________________________________________________________\n",
      "conv2d_47 (Conv2D)              multiple             179200      activation_46[0][0]              \n",
      "__________________________________________________________________________________________________\n",
      "batch_normalization_42 (BatchNo multiple             480         conv2d_42[0][0]                  \n",
      "__________________________________________________________________________________________________\n",
      "batch_normalization_47 (BatchNo multiple             480         conv2d_47[0][0]                  \n",
      "__________________________________________________________________________________________________\n",
      "activation_42 (Activation)      multiple             0           batch_normalization_42[0][0]     \n",
      "__________________________________________________________________________________________________\n",
      "activation_47 (Activation)      multiple             0           batch_normalization_47[0][0]     \n",
      "__________________________________________________________________________________________________\n",
      "average_pooling2d_4 (AveragePoo multiple             0           mixed4[0][0]                     \n",
      "__________________________________________________________________________________________________\n",
      "conv2d_40 (Conv2D)              multiple             147456      mixed4[0][0]                     \n",
      "__________________________________________________________________________________________________\n",
      "conv2d_43 (Conv2D)              multiple             215040      activation_42[0][0]              \n",
      "__________________________________________________________________________________________________\n",
      "conv2d_48 (Conv2D)              multiple             215040      activation_47[0][0]              \n",
      "__________________________________________________________________________________________________\n",
      "conv2d_49 (Conv2D)              multiple             147456      average_pooling2d_4[0][0]        \n",
      "__________________________________________________________________________________________________\n",
      "batch_normalization_40 (BatchNo multiple             576         conv2d_40[0][0]                  \n",
      "__________________________________________________________________________________________________\n",
      "batch_normalization_43 (BatchNo multiple             576         conv2d_43[0][0]                  \n",
      "__________________________________________________________________________________________________\n",
      "batch_normalization_48 (BatchNo multiple             576         conv2d_48[0][0]                  \n",
      "__________________________________________________________________________________________________\n",
      "batch_normalization_49 (BatchNo multiple             576         conv2d_49[0][0]                  \n",
      "__________________________________________________________________________________________________\n",
      "activation_40 (Activation)      multiple             0           batch_normalization_40[0][0]     \n",
      "__________________________________________________________________________________________________\n",
      "activation_43 (Activation)      multiple             0           batch_normalization_43[0][0]     \n",
      "__________________________________________________________________________________________________\n",
      "activation_48 (Activation)      multiple             0           batch_normalization_48[0][0]     \n",
      "__________________________________________________________________________________________________\n",
      "activation_49 (Activation)      multiple             0           batch_normalization_49[0][0]     \n",
      "__________________________________________________________________________________________________\n",
      "mixed5 (Concatenate)            multiple             0           activation_40[0][0]              \n",
      "                                                                 activation_43[0][0]              \n",
      "                                                                 activation_48[0][0]              \n",
      "                                                                 activation_49[0][0]              \n",
      "__________________________________________________________________________________________________\n",
      "conv2d_54 (Conv2D)              multiple             122880      mixed5[0][0]                     \n",
      "__________________________________________________________________________________________________\n",
      "batch_normalization_54 (BatchNo multiple             480         conv2d_54[0][0]                  \n",
      "__________________________________________________________________________________________________\n",
      "activation_54 (Activation)      multiple             0           batch_normalization_54[0][0]     \n",
      "__________________________________________________________________________________________________\n",
      "conv2d_55 (Conv2D)              multiple             179200      activation_54[0][0]              \n",
      "__________________________________________________________________________________________________\n",
      "batch_normalization_55 (BatchNo multiple             480         conv2d_55[0][0]                  \n",
      "__________________________________________________________________________________________________\n",
      "activation_55 (Activation)      multiple             0           batch_normalization_55[0][0]     \n",
      "__________________________________________________________________________________________________\n",
      "conv2d_51 (Conv2D)              multiple             122880      mixed5[0][0]                     \n",
      "__________________________________________________________________________________________________\n",
      "conv2d_56 (Conv2D)              multiple             179200      activation_55[0][0]              \n",
      "__________________________________________________________________________________________________\n",
      "batch_normalization_51 (BatchNo multiple             480         conv2d_51[0][0]                  \n",
      "__________________________________________________________________________________________________\n",
      "batch_normalization_56 (BatchNo multiple             480         conv2d_56[0][0]                  \n",
      "__________________________________________________________________________________________________\n",
      "activation_51 (Activation)      multiple             0           batch_normalization_51[0][0]     \n",
      "__________________________________________________________________________________________________\n",
      "activation_56 (Activation)      multiple             0           batch_normalization_56[0][0]     \n",
      "__________________________________________________________________________________________________\n",
      "conv2d_52 (Conv2D)              multiple             179200      activation_51[0][0]              \n",
      "__________________________________________________________________________________________________\n",
      "conv2d_57 (Conv2D)              multiple             179200      activation_56[0][0]              \n",
      "__________________________________________________________________________________________________\n",
      "batch_normalization_52 (BatchNo multiple             480         conv2d_52[0][0]                  \n",
      "__________________________________________________________________________________________________\n",
      "batch_normalization_57 (BatchNo multiple             480         conv2d_57[0][0]                  \n",
      "__________________________________________________________________________________________________\n",
      "activation_52 (Activation)      multiple             0           batch_normalization_52[0][0]     \n",
      "__________________________________________________________________________________________________\n",
      "activation_57 (Activation)      multiple             0           batch_normalization_57[0][0]     \n",
      "__________________________________________________________________________________________________\n",
      "average_pooling2d_5 (AveragePoo multiple             0           mixed5[0][0]                     \n",
      "__________________________________________________________________________________________________\n",
      "conv2d_50 (Conv2D)              multiple             147456      mixed5[0][0]                     \n",
      "__________________________________________________________________________________________________\n",
      "conv2d_53 (Conv2D)              multiple             215040      activation_52[0][0]              \n",
      "__________________________________________________________________________________________________\n",
      "conv2d_58 (Conv2D)              multiple             215040      activation_57[0][0]              \n",
      "__________________________________________________________________________________________________\n",
      "conv2d_59 (Conv2D)              multiple             147456      average_pooling2d_5[0][0]        \n",
      "__________________________________________________________________________________________________\n",
      "batch_normalization_50 (BatchNo multiple             576         conv2d_50[0][0]                  \n",
      "__________________________________________________________________________________________________\n",
      "batch_normalization_53 (BatchNo multiple             576         conv2d_53[0][0]                  \n",
      "__________________________________________________________________________________________________\n",
      "batch_normalization_58 (BatchNo multiple             576         conv2d_58[0][0]                  \n",
      "__________________________________________________________________________________________________\n",
      "batch_normalization_59 (BatchNo multiple             576         conv2d_59[0][0]                  \n",
      "__________________________________________________________________________________________________\n",
      "activation_50 (Activation)      multiple             0           batch_normalization_50[0][0]     \n",
      "__________________________________________________________________________________________________\n",
      "activation_53 (Activation)      multiple             0           batch_normalization_53[0][0]     \n",
      "__________________________________________________________________________________________________\n",
      "activation_58 (Activation)      multiple             0           batch_normalization_58[0][0]     \n",
      "__________________________________________________________________________________________________\n",
      "activation_59 (Activation)      multiple             0           batch_normalization_59[0][0]     \n",
      "__________________________________________________________________________________________________\n",
      "mixed6 (Concatenate)            multiple             0           activation_50[0][0]              \n",
      "                                                                 activation_53[0][0]              \n",
      "                                                                 activation_58[0][0]              \n",
      "                                                                 activation_59[0][0]              \n",
      "__________________________________________________________________________________________________\n",
      "conv2d_64 (Conv2D)              multiple             147456      mixed6[0][0]                     \n",
      "__________________________________________________________________________________________________\n",
      "batch_normalization_64 (BatchNo multiple             576         conv2d_64[0][0]                  \n",
      "__________________________________________________________________________________________________\n",
      "activation_64 (Activation)      multiple             0           batch_normalization_64[0][0]     \n",
      "__________________________________________________________________________________________________\n",
      "conv2d_65 (Conv2D)              multiple             258048      activation_64[0][0]              \n",
      "__________________________________________________________________________________________________\n",
      "batch_normalization_65 (BatchNo multiple             576         conv2d_65[0][0]                  \n",
      "__________________________________________________________________________________________________\n",
      "activation_65 (Activation)      multiple             0           batch_normalization_65[0][0]     \n",
      "__________________________________________________________________________________________________\n",
      "conv2d_61 (Conv2D)              multiple             147456      mixed6[0][0]                     \n",
      "__________________________________________________________________________________________________\n",
      "conv2d_66 (Conv2D)              multiple             258048      activation_65[0][0]              \n",
      "__________________________________________________________________________________________________\n",
      "batch_normalization_61 (BatchNo multiple             576         conv2d_61[0][0]                  \n",
      "__________________________________________________________________________________________________\n",
      "batch_normalization_66 (BatchNo multiple             576         conv2d_66[0][0]                  \n",
      "__________________________________________________________________________________________________\n",
      "activation_61 (Activation)      multiple             0           batch_normalization_61[0][0]     \n",
      "__________________________________________________________________________________________________\n",
      "activation_66 (Activation)      multiple             0           batch_normalization_66[0][0]     \n",
      "__________________________________________________________________________________________________\n",
      "conv2d_62 (Conv2D)              multiple             258048      activation_61[0][0]              \n",
      "__________________________________________________________________________________________________\n",
      "conv2d_67 (Conv2D)              multiple             258048      activation_66[0][0]              \n",
      "__________________________________________________________________________________________________\n",
      "batch_normalization_62 (BatchNo multiple             576         conv2d_62[0][0]                  \n",
      "__________________________________________________________________________________________________\n",
      "batch_normalization_67 (BatchNo multiple             576         conv2d_67[0][0]                  \n",
      "__________________________________________________________________________________________________\n",
      "activation_62 (Activation)      multiple             0           batch_normalization_62[0][0]     \n",
      "__________________________________________________________________________________________________\n",
      "activation_67 (Activation)      multiple             0           batch_normalization_67[0][0]     \n",
      "__________________________________________________________________________________________________\n",
      "average_pooling2d_6 (AveragePoo multiple             0           mixed6[0][0]                     \n",
      "__________________________________________________________________________________________________\n",
      "conv2d_60 (Conv2D)              multiple             147456      mixed6[0][0]                     \n",
      "__________________________________________________________________________________________________\n",
      "conv2d_63 (Conv2D)              multiple             258048      activation_62[0][0]              \n",
      "__________________________________________________________________________________________________\n",
      "conv2d_68 (Conv2D)              multiple             258048      activation_67[0][0]              \n",
      "__________________________________________________________________________________________________\n",
      "conv2d_69 (Conv2D)              multiple             147456      average_pooling2d_6[0][0]        \n",
      "__________________________________________________________________________________________________\n",
      "batch_normalization_60 (BatchNo multiple             576         conv2d_60[0][0]                  \n",
      "__________________________________________________________________________________________________\n",
      "batch_normalization_63 (BatchNo multiple             576         conv2d_63[0][0]                  \n",
      "__________________________________________________________________________________________________\n",
      "batch_normalization_68 (BatchNo multiple             576         conv2d_68[0][0]                  \n",
      "__________________________________________________________________________________________________\n",
      "batch_normalization_69 (BatchNo multiple             576         conv2d_69[0][0]                  \n",
      "__________________________________________________________________________________________________\n",
      "activation_60 (Activation)      multiple             0           batch_normalization_60[0][0]     \n",
      "__________________________________________________________________________________________________\n",
      "activation_63 (Activation)      multiple             0           batch_normalization_63[0][0]     \n",
      "__________________________________________________________________________________________________\n",
      "activation_68 (Activation)      multiple             0           batch_normalization_68[0][0]     \n",
      "__________________________________________________________________________________________________\n",
      "activation_69 (Activation)      multiple             0           batch_normalization_69[0][0]     \n",
      "__________________________________________________________________________________________________\n",
      "mixed7 (Concatenate)            multiple             0           activation_60[0][0]              \n",
      "                                                                 activation_63[0][0]              \n",
      "                                                                 activation_68[0][0]              \n",
      "                                                                 activation_69[0][0]              \n",
      "__________________________________________________________________________________________________\n",
      "conv2d_72 (Conv2D)              multiple             147456      mixed7[0][0]                     \n",
      "__________________________________________________________________________________________________\n",
      "batch_normalization_72 (BatchNo multiple             576         conv2d_72[0][0]                  \n",
      "__________________________________________________________________________________________________\n",
      "activation_72 (Activation)      multiple             0           batch_normalization_72[0][0]     \n",
      "__________________________________________________________________________________________________\n",
      "conv2d_73 (Conv2D)              multiple             258048      activation_72[0][0]              \n",
      "__________________________________________________________________________________________________\n",
      "batch_normalization_73 (BatchNo multiple             576         conv2d_73[0][0]                  \n",
      "__________________________________________________________________________________________________\n",
      "activation_73 (Activation)      multiple             0           batch_normalization_73[0][0]     \n",
      "__________________________________________________________________________________________________\n",
      "conv2d_70 (Conv2D)              multiple             147456      mixed7[0][0]                     \n",
      "__________________________________________________________________________________________________\n",
      "conv2d_74 (Conv2D)              multiple             258048      activation_73[0][0]              \n",
      "__________________________________________________________________________________________________\n",
      "batch_normalization_70 (BatchNo multiple             576         conv2d_70[0][0]                  \n",
      "__________________________________________________________________________________________________\n",
      "batch_normalization_74 (BatchNo multiple             576         conv2d_74[0][0]                  \n",
      "__________________________________________________________________________________________________\n",
      "activation_70 (Activation)      multiple             0           batch_normalization_70[0][0]     \n",
      "__________________________________________________________________________________________________\n",
      "activation_74 (Activation)      multiple             0           batch_normalization_74[0][0]     \n",
      "__________________________________________________________________________________________________\n",
      "conv2d_71 (Conv2D)              multiple             552960      activation_70[0][0]              \n",
      "__________________________________________________________________________________________________\n",
      "conv2d_75 (Conv2D)              multiple             331776      activation_74[0][0]              \n",
      "__________________________________________________________________________________________________\n",
      "batch_normalization_71 (BatchNo multiple             960         conv2d_71[0][0]                  \n",
      "__________________________________________________________________________________________________\n",
      "batch_normalization_75 (BatchNo multiple             576         conv2d_75[0][0]                  \n",
      "__________________________________________________________________________________________________\n",
      "activation_71 (Activation)      multiple             0           batch_normalization_71[0][0]     \n",
      "__________________________________________________________________________________________________\n",
      "activation_75 (Activation)      multiple             0           batch_normalization_75[0][0]     \n",
      "__________________________________________________________________________________________________\n",
      "max_pooling2d_3 (MaxPooling2D)  multiple             0           mixed7[0][0]                     \n",
      "__________________________________________________________________________________________________\n",
      "mixed8 (Concatenate)            multiple             0           activation_71[0][0]              \n",
      "                                                                 activation_75[0][0]              \n",
      "                                                                 max_pooling2d_3[0][0]            \n",
      "__________________________________________________________________________________________________\n",
      "conv2d_80 (Conv2D)              multiple             573440      mixed8[0][0]                     \n",
      "__________________________________________________________________________________________________\n",
      "batch_normalization_80 (BatchNo multiple             1344        conv2d_80[0][0]                  \n",
      "__________________________________________________________________________________________________\n",
      "activation_80 (Activation)      multiple             0           batch_normalization_80[0][0]     \n",
      "__________________________________________________________________________________________________\n",
      "conv2d_77 (Conv2D)              multiple             491520      mixed8[0][0]                     \n",
      "__________________________________________________________________________________________________\n",
      "conv2d_81 (Conv2D)              multiple             1548288     activation_80[0][0]              \n",
      "__________________________________________________________________________________________________\n",
      "batch_normalization_77 (BatchNo multiple             1152        conv2d_77[0][0]                  \n",
      "__________________________________________________________________________________________________\n",
      "batch_normalization_81 (BatchNo multiple             1152        conv2d_81[0][0]                  \n",
      "__________________________________________________________________________________________________\n",
      "activation_77 (Activation)      multiple             0           batch_normalization_77[0][0]     \n",
      "__________________________________________________________________________________________________\n",
      "activation_81 (Activation)      multiple             0           batch_normalization_81[0][0]     \n",
      "__________________________________________________________________________________________________\n",
      "conv2d_78 (Conv2D)              multiple             442368      activation_77[0][0]              \n",
      "__________________________________________________________________________________________________\n",
      "conv2d_79 (Conv2D)              multiple             442368      activation_77[0][0]              \n",
      "__________________________________________________________________________________________________\n",
      "conv2d_82 (Conv2D)              multiple             442368      activation_81[0][0]              \n",
      "__________________________________________________________________________________________________\n",
      "conv2d_83 (Conv2D)              multiple             442368      activation_81[0][0]              \n",
      "__________________________________________________________________________________________________\n",
      "average_pooling2d_7 (AveragePoo multiple             0           mixed8[0][0]                     \n",
      "__________________________________________________________________________________________________\n",
      "conv2d_76 (Conv2D)              multiple             409600      mixed8[0][0]                     \n",
      "__________________________________________________________________________________________________\n",
      "batch_normalization_78 (BatchNo multiple             1152        conv2d_78[0][0]                  \n",
      "__________________________________________________________________________________________________\n",
      "batch_normalization_79 (BatchNo multiple             1152        conv2d_79[0][0]                  \n",
      "__________________________________________________________________________________________________\n",
      "batch_normalization_82 (BatchNo multiple             1152        conv2d_82[0][0]                  \n",
      "__________________________________________________________________________________________________\n",
      "batch_normalization_83 (BatchNo multiple             1152        conv2d_83[0][0]                  \n",
      "__________________________________________________________________________________________________\n",
      "conv2d_84 (Conv2D)              multiple             245760      average_pooling2d_7[0][0]        \n",
      "__________________________________________________________________________________________________\n",
      "batch_normalization_76 (BatchNo multiple             960         conv2d_76[0][0]                  \n",
      "__________________________________________________________________________________________________\n",
      "activation_78 (Activation)      multiple             0           batch_normalization_78[0][0]     \n",
      "__________________________________________________________________________________________________\n",
      "activation_79 (Activation)      multiple             0           batch_normalization_79[0][0]     \n",
      "__________________________________________________________________________________________________\n",
      "activation_82 (Activation)      multiple             0           batch_normalization_82[0][0]     \n",
      "__________________________________________________________________________________________________\n",
      "activation_83 (Activation)      multiple             0           batch_normalization_83[0][0]     \n",
      "__________________________________________________________________________________________________\n",
      "batch_normalization_84 (BatchNo multiple             576         conv2d_84[0][0]                  \n",
      "__________________________________________________________________________________________________\n",
      "activation_76 (Activation)      multiple             0           batch_normalization_76[0][0]     \n",
      "__________________________________________________________________________________________________\n",
      "mixed9_0 (Concatenate)          multiple             0           activation_78[0][0]              \n",
      "                                                                 activation_79[0][0]              \n",
      "__________________________________________________________________________________________________\n",
      "concatenate (Concatenate)       multiple             0           activation_82[0][0]              \n",
      "                                                                 activation_83[0][0]              \n",
      "__________________________________________________________________________________________________\n",
      "activation_84 (Activation)      multiple             0           batch_normalization_84[0][0]     \n",
      "__________________________________________________________________________________________________\n",
      "mixed9 (Concatenate)            multiple             0           activation_76[0][0]              \n",
      "                                                                 mixed9_0[0][0]                   \n",
      "                                                                 concatenate[0][0]                \n",
      "                                                                 activation_84[0][0]              \n",
      "__________________________________________________________________________________________________\n",
      "conv2d_89 (Conv2D)              multiple             917504      mixed9[0][0]                     \n",
      "__________________________________________________________________________________________________\n",
      "batch_normalization_89 (BatchNo multiple             1344        conv2d_89[0][0]                  \n",
      "__________________________________________________________________________________________________\n",
      "activation_89 (Activation)      multiple             0           batch_normalization_89[0][0]     \n",
      "__________________________________________________________________________________________________\n",
      "conv2d_86 (Conv2D)              multiple             786432      mixed9[0][0]                     \n",
      "__________________________________________________________________________________________________\n",
      "conv2d_90 (Conv2D)              multiple             1548288     activation_89[0][0]              \n",
      "__________________________________________________________________________________________________\n",
      "batch_normalization_86 (BatchNo multiple             1152        conv2d_86[0][0]                  \n",
      "__________________________________________________________________________________________________\n",
      "batch_normalization_90 (BatchNo multiple             1152        conv2d_90[0][0]                  \n",
      "__________________________________________________________________________________________________\n",
      "activation_86 (Activation)      multiple             0           batch_normalization_86[0][0]     \n",
      "__________________________________________________________________________________________________\n",
      "activation_90 (Activation)      multiple             0           batch_normalization_90[0][0]     \n",
      "__________________________________________________________________________________________________\n",
      "conv2d_87 (Conv2D)              multiple             442368      activation_86[0][0]              \n",
      "__________________________________________________________________________________________________\n",
      "conv2d_88 (Conv2D)              multiple             442368      activation_86[0][0]              \n",
      "__________________________________________________________________________________________________\n",
      "conv2d_91 (Conv2D)              multiple             442368      activation_90[0][0]              \n",
      "__________________________________________________________________________________________________\n",
      "conv2d_92 (Conv2D)              multiple             442368      activation_90[0][0]              \n",
      "__________________________________________________________________________________________________\n",
      "average_pooling2d_8 (AveragePoo multiple             0           mixed9[0][0]                     \n",
      "__________________________________________________________________________________________________\n",
      "conv2d_85 (Conv2D)              multiple             655360      mixed9[0][0]                     \n",
      "__________________________________________________________________________________________________\n",
      "batch_normalization_87 (BatchNo multiple             1152        conv2d_87[0][0]                  \n",
      "__________________________________________________________________________________________________\n",
      "batch_normalization_88 (BatchNo multiple             1152        conv2d_88[0][0]                  \n",
      "__________________________________________________________________________________________________\n",
      "batch_normalization_91 (BatchNo multiple             1152        conv2d_91[0][0]                  \n",
      "__________________________________________________________________________________________________\n",
      "batch_normalization_92 (BatchNo multiple             1152        conv2d_92[0][0]                  \n",
      "__________________________________________________________________________________________________\n",
      "conv2d_93 (Conv2D)              multiple             393216      average_pooling2d_8[0][0]        \n",
      "__________________________________________________________________________________________________\n",
      "batch_normalization_85 (BatchNo multiple             960         conv2d_85[0][0]                  \n",
      "__________________________________________________________________________________________________\n",
      "activation_87 (Activation)      multiple             0           batch_normalization_87[0][0]     \n",
      "__________________________________________________________________________________________________\n",
      "activation_88 (Activation)      multiple             0           batch_normalization_88[0][0]     \n",
      "__________________________________________________________________________________________________\n",
      "activation_91 (Activation)      multiple             0           batch_normalization_91[0][0]     \n",
      "__________________________________________________________________________________________________\n",
      "activation_92 (Activation)      multiple             0           batch_normalization_92[0][0]     \n",
      "__________________________________________________________________________________________________\n",
      "batch_normalization_93 (BatchNo multiple             576         conv2d_93[0][0]                  \n",
      "__________________________________________________________________________________________________\n",
      "activation_85 (Activation)      multiple             0           batch_normalization_85[0][0]     \n",
      "__________________________________________________________________________________________________\n",
      "mixed9_1 (Concatenate)          multiple             0           activation_87[0][0]              \n",
      "                                                                 activation_88[0][0]              \n",
      "__________________________________________________________________________________________________\n",
      "concatenate_1 (Concatenate)     multiple             0           activation_91[0][0]              \n",
      "                                                                 activation_92[0][0]              \n",
      "__________________________________________________________________________________________________\n",
      "activation_93 (Activation)      multiple             0           batch_normalization_93[0][0]     \n",
      "__________________________________________________________________________________________________\n",
      "mixed10 (Concatenate)           multiple             0           activation_85[0][0]              \n",
      "                                                                 mixed9_1[0][0]                   \n",
      "                                                                 concatenate_1[0][0]              \n",
      "                                                                 activation_93[0][0]              \n",
      "__________________________________________________________________________________________________\n",
      "decoder_stage0_upsampling (UpSa multiple             0           mixed10[0][0]                    \n",
      "__________________________________________________________________________________________________\n",
      "decoder_stage0_concat (Concaten multiple             0           decoder_stage0_upsampling[0][0]  \n",
      "                                                                 mixed7[0][0]                     \n",
      "__________________________________________________________________________________________________\n",
      "decoder_stage0a_conv (Conv2D)   multiple             6488064     decoder_stage0_concat[0][0]      \n",
      "__________________________________________________________________________________________________\n",
      "decoder_stage0a_bn (BatchNormal multiple             1024        decoder_stage0a_conv[0][0]       \n",
      "__________________________________________________________________________________________________\n",
      "decoder_stage0a_relu (Activatio multiple             0           decoder_stage0a_bn[0][0]         \n",
      "__________________________________________________________________________________________________\n",
      "decoder_stage0b_conv (Conv2D)   multiple             589824      decoder_stage0a_relu[0][0]       \n",
      "__________________________________________________________________________________________________\n",
      "decoder_stage0b_bn (BatchNormal multiple             1024        decoder_stage0b_conv[0][0]       \n",
      "__________________________________________________________________________________________________\n",
      "decoder_stage0b_relu (Activatio multiple             0           decoder_stage0b_bn[0][0]         \n",
      "__________________________________________________________________________________________________\n",
      "decoder_stage1_upsampling (UpSa multiple             0           decoder_stage0b_relu[0][0]       \n",
      "__________________________________________________________________________________________________\n",
      "decoder_stage1_concat (Concaten multiple             0           decoder_stage1_upsampling[0][0]  \n",
      "                                                                 mixed2[0][0]                     \n",
      "__________________________________________________________________________________________________\n",
      "decoder_stage1a_conv (Conv2D)   multiple             626688      decoder_stage1_concat[0][0]      \n",
      "__________________________________________________________________________________________________\n",
      "decoder_stage1a_bn (BatchNormal multiple             512         decoder_stage1a_conv[0][0]       \n",
      "__________________________________________________________________________________________________\n",
      "decoder_stage1a_relu (Activatio multiple             0           decoder_stage1a_bn[0][0]         \n",
      "__________________________________________________________________________________________________\n",
      "decoder_stage1b_conv (Conv2D)   multiple             147456      decoder_stage1a_relu[0][0]       \n",
      "__________________________________________________________________________________________________\n",
      "decoder_stage1b_bn (BatchNormal multiple             512         decoder_stage1b_conv[0][0]       \n",
      "__________________________________________________________________________________________________\n",
      "decoder_stage1b_relu (Activatio multiple             0           decoder_stage1b_bn[0][0]         \n",
      "__________________________________________________________________________________________________\n",
      "decoder_stage2_upsampling (UpSa multiple             0           decoder_stage1b_relu[0][0]       \n",
      "__________________________________________________________________________________________________\n",
      "decoder_stage2_concat (Concaten multiple             0           decoder_stage2_upsampling[0][0]  \n",
      "                                                                 activation_4[0][0]               \n",
      "__________________________________________________________________________________________________\n",
      "decoder_stage2a_conv (Conv2D)   multiple             184320      decoder_stage2_concat[0][0]      \n",
      "__________________________________________________________________________________________________\n",
      "decoder_stage2a_bn (BatchNormal multiple             256         decoder_stage2a_conv[0][0]       \n",
      "__________________________________________________________________________________________________\n",
      "decoder_stage2a_relu (Activatio multiple             0           decoder_stage2a_bn[0][0]         \n",
      "__________________________________________________________________________________________________\n",
      "decoder_stage2b_conv (Conv2D)   multiple             36864       decoder_stage2a_relu[0][0]       \n",
      "__________________________________________________________________________________________________\n",
      "decoder_stage2b_bn (BatchNormal multiple             256         decoder_stage2b_conv[0][0]       \n",
      "__________________________________________________________________________________________________\n",
      "decoder_stage2b_relu (Activatio multiple             0           decoder_stage2b_bn[0][0]         \n",
      "__________________________________________________________________________________________________\n",
      "decoder_stage3_upsampling (UpSa multiple             0           decoder_stage2b_relu[0][0]       \n",
      "__________________________________________________________________________________________________\n",
      "decoder_stage3_concat (Concaten multiple             0           decoder_stage3_upsampling[0][0]  \n",
      "                                                                 activation_2[0][0]               \n",
      "__________________________________________________________________________________________________\n",
      "decoder_stage3a_conv (Conv2D)   multiple             36864       decoder_stage3_concat[0][0]      \n",
      "__________________________________________________________________________________________________\n",
      "decoder_stage3a_bn (BatchNormal multiple             128         decoder_stage3a_conv[0][0]       \n",
      "__________________________________________________________________________________________________\n",
      "decoder_stage3a_relu (Activatio multiple             0           decoder_stage3a_bn[0][0]         \n",
      "__________________________________________________________________________________________________\n",
      "decoder_stage3b_conv (Conv2D)   multiple             9216        decoder_stage3a_relu[0][0]       \n",
      "__________________________________________________________________________________________________\n",
      "decoder_stage3b_bn (BatchNormal multiple             128         decoder_stage3b_conv[0][0]       \n",
      "__________________________________________________________________________________________________\n",
      "decoder_stage3b_relu (Activatio multiple             0           decoder_stage3b_bn[0][0]         \n",
      "__________________________________________________________________________________________________\n",
      "decoder_stage4_upsampling (UpSa multiple             0           decoder_stage3b_relu[0][0]       \n",
      "__________________________________________________________________________________________________\n",
      "decoder_stage4a_conv (Conv2D)   multiple             4608        decoder_stage4_upsampling[0][0]  \n",
      "__________________________________________________________________________________________________\n",
      "decoder_stage4a_bn (BatchNormal multiple             64          decoder_stage4a_conv[0][0]       \n",
      "__________________________________________________________________________________________________\n",
      "decoder_stage4a_relu (Activatio multiple             0           decoder_stage4a_bn[0][0]         \n",
      "__________________________________________________________________________________________________\n",
      "decoder_stage4b_conv (Conv2D)   multiple             2304        decoder_stage4a_relu[0][0]       \n",
      "__________________________________________________________________________________________________\n",
      "decoder_stage4b_bn (BatchNormal multiple             64          decoder_stage4b_conv[0][0]       \n",
      "__________________________________________________________________________________________________\n",
      "decoder_stage4b_relu (Activatio multiple             0           decoder_stage4b_bn[0][0]         \n",
      "__________________________________________________________________________________________________\n",
      "final_conv (Conv2D)             multiple             145         decoder_stage4b_relu[0][0]       \n",
      "__________________________________________________________________________________________________\n",
      "sigmoid (Activation)            multiple             0           final_conv[0][0]                 \n",
      "==================================================================================================\n",
      "Total params: 29,933,105\n",
      "Trainable params: 29,896,689\n",
      "Non-trainable params: 36,416\n",
      "__________________________________________________________________________________________________\n"
     ]
    }
   ],
   "source": [
    "base_model.summary()"
   ]
  },
  {
   "cell_type": "code",
   "execution_count": 33,
   "metadata": {
    "executionInfo": {
     "elapsed": 23136,
     "status": "ok",
     "timestamp": 1610208599876,
     "user": {
      "displayName": "Abhishek Singh",
      "photoUrl": "",
      "userId": "02564130673443773880"
     },
     "user_tz": -330
    },
    "id": "vMAtoO9TsD9l"
   },
   "outputs": [],
   "source": [
    "from tensorflow.keras.optimizers import Adam\n",
    "from tensorflow.keras.losses import binary_crossentropy"
   ]
  },
  {
   "cell_type": "code",
   "execution_count": 34,
   "metadata": {
    "executionInfo": {
     "elapsed": 23131,
     "status": "ok",
     "timestamp": 1610208599876,
     "user": {
      "displayName": "Abhishek Singh",
      "photoUrl": "",
      "userId": "02564130673443773880"
     },
     "user_tz": -330
    },
    "id": "c5m0I3-zWo6_"
   },
   "outputs": [],
   "source": [
    "def dice_coefficient(y_true, y_pred):\n",
    "    numerator = 2 * tensorflow.reduce_sum(y_true * y_pred)\n",
    "    denominator = tensorflow.reduce_sum(y_true + y_pred)\n",
    "\n",
    "    return numerator / (denominator + tensorflow.keras.backend.epsilon())"
   ]
  },
  {
   "cell_type": "code",
   "execution_count": 35,
   "metadata": {
    "executionInfo": {
     "elapsed": 23129,
     "status": "ok",
     "timestamp": 1610208599879,
     "user": {
      "displayName": "Abhishek Singh",
      "photoUrl": "",
      "userId": "02564130673443773880"
     },
     "user_tz": -330
    },
    "id": "6AzI98wcX0fi"
   },
   "outputs": [],
   "source": [
    "def loss(y_true, y_pred):\n",
    "    return binary_crossentropy(y_true, y_pred) - tensorflow.math.log(dice_coefficient(y_true, y_pred) + tensorflow.keras.backend.epsilon())"
   ]
  },
  {
   "cell_type": "code",
   "execution_count": 36,
   "metadata": {
    "executionInfo": {
     "elapsed": 23126,
     "status": "ok",
     "timestamp": 1610208599880,
     "user": {
      "displayName": "Abhishek Singh",
      "photoUrl": "",
      "userId": "02564130673443773880"
     },
     "user_tz": -330
    },
    "id": "pzTzKzJ_hbAC"
   },
   "outputs": [],
   "source": [
    "# compile model\n",
    "model.compile('Adam', loss=loss, metrics=[dice_coefficient])"
   ]
  },
  {
   "cell_type": "code",
   "execution_count": 37,
   "metadata": {
    "colab": {
     "base_uri": "https://localhost:8080/"
    },
    "executionInfo": {
     "elapsed": 204787,
     "status": "ok",
     "timestamp": 1610208781545,
     "user": {
      "displayName": "Abhishek Singh",
      "photoUrl": "",
      "userId": "02564130673443773880"
     },
     "user_tz": -330
    },
    "id": "-Pzb9Z9ZsIQN",
    "outputId": "6829cab9-a32b-447a-8a3c-091e72fa5980"
   },
   "outputs": [
    {
     "name": "stdout",
     "output_type": "stream",
     "text": [
      "Train on 170 samples, validate on 30 samples\n",
      "Epoch 1/100\n",
      "170/170 [==============================] - 20s 119ms/sample - loss: nan - dice_coefficient: -0.7915 - val_loss: nan - val_dice_coefficient: -0.5358\n",
      "Epoch 2/100\n",
      "170/170 [==============================] - 2s 9ms/sample - loss: nan - dice_coefficient: -1.8263 - val_loss: nan - val_dice_coefficient: -3.2134\n",
      "Epoch 3/100\n",
      "170/170 [==============================] - 2s 9ms/sample - loss: nan - dice_coefficient: -4.5219 - val_loss: nan - val_dice_coefficient: -4.5390\n",
      "Epoch 4/100\n",
      "170/170 [==============================] - 2s 9ms/sample - loss: nan - dice_coefficient: -137.9533 - val_loss: nan - val_dice_coefficient: 64.7456\n",
      "Epoch 5/100\n",
      "170/170 [==============================] - 2s 9ms/sample - loss: nan - dice_coefficient: 28.7212 - val_loss: nan - val_dice_coefficient: 8.1758\n",
      "Epoch 6/100\n",
      "170/170 [==============================] - 2s 9ms/sample - loss: nan - dice_coefficient: -50.8828 - val_loss: nan - val_dice_coefficient: -37.5903\n",
      "Epoch 7/100\n",
      "170/170 [==============================] - 2s 9ms/sample - loss: nan - dice_coefficient: 30.9209 - val_loss: nan - val_dice_coefficient: -20.9853\n",
      "Epoch 8/100\n",
      "170/170 [==============================] - 2s 9ms/sample - loss: nan - dice_coefficient: -13.6979 - val_loss: nan - val_dice_coefficient: -17.0779\n",
      "Epoch 9/100\n",
      "170/170 [==============================] - 2s 9ms/sample - loss: nan - dice_coefficient: 0.0663 - val_loss: nan - val_dice_coefficient: -20.6036\n",
      "Epoch 10/100\n",
      "170/170 [==============================] - 2s 9ms/sample - loss: nan - dice_coefficient: 49.1310 - val_loss: nan - val_dice_coefficient: 22.6037\n",
      "Epoch 11/100\n",
      "170/170 [==============================] - 2s 9ms/sample - loss: nan - dice_coefficient: 103.7782 - val_loss: nan - val_dice_coefficient: 284.4800\n",
      "Epoch 12/100\n",
      "170/170 [==============================] - 2s 9ms/sample - loss: nan - dice_coefficient: 56.7650 - val_loss: nan - val_dice_coefficient: 3.5722\n",
      "Epoch 13/100\n",
      "170/170 [==============================] - 2s 9ms/sample - loss: nan - dice_coefficient: -5.0813 - val_loss: nan - val_dice_coefficient: 13.1734\n",
      "Epoch 14/100\n",
      "170/170 [==============================] - 2s 9ms/sample - loss: nan - dice_coefficient: -6.2389 - val_loss: nan - val_dice_coefficient: 19.0377\n",
      "Epoch 15/100\n",
      "170/170 [==============================] - 2s 9ms/sample - loss: nan - dice_coefficient: -9.7283 - val_loss: nan - val_dice_coefficient: -55.6950\n",
      "Epoch 16/100\n",
      "170/170 [==============================] - 2s 9ms/sample - loss: nan - dice_coefficient: 10.1852 - val_loss: nan - val_dice_coefficient: -18.0223\n",
      "Epoch 17/100\n",
      "170/170 [==============================] - 2s 9ms/sample - loss: nan - dice_coefficient: -10.4997 - val_loss: nan - val_dice_coefficient: -17.9523\n",
      "Epoch 18/100\n",
      "170/170 [==============================] - 2s 9ms/sample - loss: nan - dice_coefficient: -26.7995 - val_loss: nan - val_dice_coefficient: -2.6557\n",
      "Epoch 19/100\n",
      "170/170 [==============================] - 2s 9ms/sample - loss: nan - dice_coefficient: 4.9120 - val_loss: nan - val_dice_coefficient: -7.1252\n",
      "Epoch 20/100\n",
      "170/170 [==============================] - 2s 9ms/sample - loss: nan - dice_coefficient: -9.7377 - val_loss: nan - val_dice_coefficient: -6.6650\n",
      "Epoch 21/100\n",
      "170/170 [==============================] - 2s 9ms/sample - loss: nan - dice_coefficient: -75.4696 - val_loss: nan - val_dice_coefficient: -1530.7150\n",
      "Epoch 22/100\n",
      "170/170 [==============================] - 2s 9ms/sample - loss: nan - dice_coefficient: 83.6613 - val_loss: nan - val_dice_coefficient: -24.3449\n",
      "Epoch 23/100\n",
      "170/170 [==============================] - 2s 9ms/sample - loss: nan - dice_coefficient: 31.4678 - val_loss: nan - val_dice_coefficient: -4.5270\n",
      "Epoch 24/100\n",
      "170/170 [==============================] - 2s 9ms/sample - loss: nan - dice_coefficient: 5.4135 - val_loss: nan - val_dice_coefficient: 18.7184\n",
      "Epoch 25/100\n",
      "170/170 [==============================] - 2s 9ms/sample - loss: nan - dice_coefficient: -5.7490 - val_loss: nan - val_dice_coefficient: 44.9968\n",
      "Epoch 26/100\n",
      "170/170 [==============================] - 2s 9ms/sample - loss: nan - dice_coefficient: -15.8770 - val_loss: nan - val_dice_coefficient: 0.9068\n",
      "Epoch 27/100\n",
      "170/170 [==============================] - 2s 9ms/sample - loss: nan - dice_coefficient: -6572.2808 - val_loss: nan - val_dice_coefficient: -65.8627\n",
      "Epoch 28/100\n",
      "170/170 [==============================] - 2s 9ms/sample - loss: nan - dice_coefficient: 173.3883 - val_loss: nan - val_dice_coefficient: -1.3930\n",
      "Epoch 29/100\n",
      "170/170 [==============================] - 2s 9ms/sample - loss: nan - dice_coefficient: 1186.0575 - val_loss: 1.6377 - val_dice_coefficient: 25.9357\n",
      "Epoch 30/100\n",
      "170/170 [==============================] - 2s 9ms/sample - loss: nan - dice_coefficient: -8.9806 - val_loss: 1.5543 - val_dice_coefficient: 31.4681\n",
      "Epoch 31/100\n",
      "170/170 [==============================] - 2s 9ms/sample - loss: nan - dice_coefficient: -9.3770 - val_loss: 1.4907 - val_dice_coefficient: 35.2672\n",
      "Epoch 32/100\n",
      "170/170 [==============================] - 2s 9ms/sample - loss: nan - dice_coefficient: -7.3350 - val_loss: nan - val_dice_coefficient: -15.2664\n",
      "Epoch 33/100\n",
      "170/170 [==============================] - 2s 9ms/sample - loss: nan - dice_coefficient: -29.4434 - val_loss: nan - val_dice_coefficient: 31.9305\n",
      "Epoch 34/100\n",
      "170/170 [==============================] - 2s 9ms/sample - loss: nan - dice_coefficient: -20.4949 - val_loss: nan - val_dice_coefficient: 129.7806\n",
      "Epoch 35/100\n",
      "170/170 [==============================] - 2s 9ms/sample - loss: nan - dice_coefficient: -63.3001 - val_loss: 1.5261 - val_dice_coefficient: 32.4160\n",
      "Epoch 36/100\n",
      "170/170 [==============================] - 2s 9ms/sample - loss: nan - dice_coefficient: 172.1659 - val_loss: 1.4049 - val_dice_coefficient: 34.8511\n",
      "Epoch 37/100\n",
      "170/170 [==============================] - 2s 9ms/sample - loss: nan - dice_coefficient: -34.1399 - val_loss: 1.4452 - val_dice_coefficient: 35.4012\n",
      "Epoch 38/100\n",
      "170/170 [==============================] - 2s 9ms/sample - loss: nan - dice_coefficient: -36.1403 - val_loss: 1.0422 - val_dice_coefficient: 48.7412\n",
      "Epoch 39/100\n",
      "170/170 [==============================] - 2s 9ms/sample - loss: nan - dice_coefficient: -13.0959 - val_loss: 0.3472 - val_dice_coefficient: 76.7527\n",
      "Epoch 40/100\n",
      "170/170 [==============================] - 2s 9ms/sample - loss: nan - dice_coefficient: 5.5604 - val_loss: nan - val_dice_coefficient: 30.4836\n",
      "Epoch 41/100\n",
      "170/170 [==============================] - 2s 9ms/sample - loss: nan - dice_coefficient: -20.4289 - val_loss: nan - val_dice_coefficient: -17.1851\n",
      "Epoch 42/100\n",
      "170/170 [==============================] - 2s 9ms/sample - loss: nan - dice_coefficient: 23.0627 - val_loss: nan - val_dice_coefficient: -25.9706\n",
      "Epoch 43/100\n",
      "170/170 [==============================] - 2s 9ms/sample - loss: nan - dice_coefficient: -44.4559 - val_loss: nan - val_dice_coefficient: -6.3564\n",
      "Epoch 44/100\n",
      "170/170 [==============================] - 2s 9ms/sample - loss: nan - dice_coefficient: 0.3650 - val_loss: nan - val_dice_coefficient: -4.8295\n",
      "Epoch 45/100\n",
      "170/170 [==============================] - 2s 10ms/sample - loss: nan - dice_coefficient: -20.5300 - val_loss: nan - val_dice_coefficient: -4.4803\n",
      "Epoch 46/100\n",
      "170/170 [==============================] - 2s 10ms/sample - loss: nan - dice_coefficient: -31.5861 - val_loss: nan - val_dice_coefficient: -3.5702\n",
      "Epoch 47/100\n",
      "170/170 [==============================] - 2s 10ms/sample - loss: nan - dice_coefficient: -111.9723 - val_loss: nan - val_dice_coefficient: 22.0455\n",
      "Epoch 48/100\n",
      "170/170 [==============================] - 2s 10ms/sample - loss: nan - dice_coefficient: -48.9006 - val_loss: 0.9304 - val_dice_coefficient: 104.5904\n",
      "Epoch 49/100\n",
      "170/170 [==============================] - 2s 10ms/sample - loss: nan - dice_coefficient: -183.4217 - val_loss: nan - val_dice_coefficient: -189.2813\n",
      "Epoch 50/100\n",
      "170/170 [==============================] - 2s 10ms/sample - loss: 1.5383 - dice_coefficient: 27.6703 - val_loss: nan - val_dice_coefficient: -23.3716\n",
      "Epoch 51/100\n",
      "170/170 [==============================] - 2s 10ms/sample - loss: 1.5022 - dice_coefficient: 29.7842 - val_loss: nan - val_dice_coefficient: 0.4477\n",
      "Epoch 52/100\n",
      "170/170 [==============================] - 2s 10ms/sample - loss: nan - dice_coefficient: 17.2788 - val_loss: nan - val_dice_coefficient: -26.3770\n",
      "Epoch 53/100\n",
      "170/170 [==============================] - 2s 10ms/sample - loss: nan - dice_coefficient: 17.1215 - val_loss: nan - val_dice_coefficient: 2.3007\n",
      "Epoch 54/100\n",
      "170/170 [==============================] - 2s 10ms/sample - loss: nan - dice_coefficient: 139.8443 - val_loss: nan - val_dice_coefficient: -19.1616\n",
      "Epoch 55/100\n",
      "170/170 [==============================] - 2s 10ms/sample - loss: nan - dice_coefficient: -9.6184 - val_loss: nan - val_dice_coefficient: 0.0248\n",
      "Epoch 56/100\n",
      "170/170 [==============================] - 2s 10ms/sample - loss: nan - dice_coefficient: 0.6612 - val_loss: nan - val_dice_coefficient: 1.6051\n",
      "Epoch 57/100\n",
      "170/170 [==============================] - 2s 10ms/sample - loss: nan - dice_coefficient: 941.6299 - val_loss: nan - val_dice_coefficient: -73.3822\n",
      "Epoch 58/100\n",
      "170/170 [==============================] - 2s 10ms/sample - loss: nan - dice_coefficient: -0.8360 - val_loss: nan - val_dice_coefficient: 5.2413\n",
      "Epoch 59/100\n",
      "170/170 [==============================] - 2s 10ms/sample - loss: nan - dice_coefficient: -10.9852 - val_loss: nan - val_dice_coefficient: -30.9929\n",
      "Epoch 60/100\n",
      "170/170 [==============================] - 2s 10ms/sample - loss: nan - dice_coefficient: -13.9114 - val_loss: nan - val_dice_coefficient: 22.6390\n",
      "Epoch 61/100\n",
      "170/170 [==============================] - 2s 10ms/sample - loss: nan - dice_coefficient: -11.8817 - val_loss: nan - val_dice_coefficient: -45.8880\n",
      "Epoch 62/100\n",
      "170/170 [==============================] - 2s 10ms/sample - loss: nan - dice_coefficient: -66.3971 - val_loss: nan - val_dice_coefficient: 0.7886\n",
      "Epoch 63/100\n",
      "170/170 [==============================] - 2s 10ms/sample - loss: nan - dice_coefficient: -185.6794 - val_loss: nan - val_dice_coefficient: -20.0707\n",
      "Epoch 64/100\n",
      "170/170 [==============================] - 2s 10ms/sample - loss: nan - dice_coefficient: 38.5419 - val_loss: nan - val_dice_coefficient: -36.2224\n",
      "Epoch 65/100\n",
      "170/170 [==============================] - 2s 10ms/sample - loss: nan - dice_coefficient: -42.7712 - val_loss: nan - val_dice_coefficient: 26.1015\n",
      "Epoch 66/100\n",
      "170/170 [==============================] - 2s 10ms/sample - loss: nan - dice_coefficient: -48.7520 - val_loss: nan - val_dice_coefficient: -16.2723\n",
      "Epoch 67/100\n",
      "170/170 [==============================] - 2s 10ms/sample - loss: nan - dice_coefficient: -381.1100 - val_loss: nan - val_dice_coefficient: 7.5644\n",
      "Epoch 68/100\n",
      "170/170 [==============================] - 2s 10ms/sample - loss: 1.5372 - dice_coefficient: 34.5156 - val_loss: nan - val_dice_coefficient: -4.4465\n",
      "Epoch 69/100\n",
      "170/170 [==============================] - 2s 10ms/sample - loss: nan - dice_coefficient: 9.8454 - val_loss: nan - val_dice_coefficient: -9.6518\n",
      "Epoch 70/100\n",
      "170/170 [==============================] - 2s 10ms/sample - loss: nan - dice_coefficient: 29.5002 - val_loss: nan - val_dice_coefficient: 0.0858\n",
      "Epoch 71/100\n",
      "170/170 [==============================] - 2s 10ms/sample - loss: nan - dice_coefficient: 6.8169 - val_loss: nan - val_dice_coefficient: 4.9369\n",
      "Epoch 72/100\n",
      "170/170 [==============================] - 2s 10ms/sample - loss: nan - dice_coefficient: 56.2761 - val_loss: nan - val_dice_coefficient: -76.0085\n",
      "Epoch 73/100\n",
      "170/170 [==============================] - 2s 10ms/sample - loss: nan - dice_coefficient: 79.9115 - val_loss: nan - val_dice_coefficient: -6.2656\n",
      "Epoch 74/100\n",
      "170/170 [==============================] - 2s 10ms/sample - loss: nan - dice_coefficient: -14.0805 - val_loss: nan - val_dice_coefficient: -4.3227\n",
      "Epoch 75/100\n",
      "170/170 [==============================] - 2s 10ms/sample - loss: nan - dice_coefficient: 0.0728 - val_loss: nan - val_dice_coefficient: -4.9143\n",
      "Epoch 76/100\n",
      "170/170 [==============================] - 2s 10ms/sample - loss: nan - dice_coefficient: 96.3808 - val_loss: nan - val_dice_coefficient: -6.1615\n",
      "Epoch 77/100\n",
      "170/170 [==============================] - 2s 10ms/sample - loss: nan - dice_coefficient: -8.7941 - val_loss: nan - val_dice_coefficient: -8.5289\n",
      "Epoch 78/100\n",
      "170/170 [==============================] - 2s 10ms/sample - loss: nan - dice_coefficient: 44.9435 - val_loss: nan - val_dice_coefficient: -5.7627\n",
      "Epoch 79/100\n",
      "170/170 [==============================] - 2s 10ms/sample - loss: nan - dice_coefficient: -40.4102 - val_loss: nan - val_dice_coefficient: -5.8292\n",
      "Epoch 80/100\n",
      "170/170 [==============================] - 2s 10ms/sample - loss: nan - dice_coefficient: -13.2372 - val_loss: nan - val_dice_coefficient: -10.1077\n",
      "Epoch 81/100\n",
      "170/170 [==============================] - 2s 10ms/sample - loss: nan - dice_coefficient: -13.5652 - val_loss: nan - val_dice_coefficient: -9.0868\n",
      "Epoch 82/100\n",
      "170/170 [==============================] - 2s 10ms/sample - loss: nan - dice_coefficient: -60.0640 - val_loss: nan - val_dice_coefficient: -9.1801\n",
      "Epoch 83/100\n",
      "170/170 [==============================] - 2s 10ms/sample - loss: nan - dice_coefficient: -6.8673 - val_loss: nan - val_dice_coefficient: -10.4193\n",
      "Epoch 84/100\n",
      "170/170 [==============================] - 2s 10ms/sample - loss: nan - dice_coefficient: -61.6171 - val_loss: nan - val_dice_coefficient: -27.8017\n",
      "Epoch 85/100\n",
      "170/170 [==============================] - 2s 10ms/sample - loss: nan - dice_coefficient: -32.1291 - val_loss: nan - val_dice_coefficient: 11.2452\n",
      "Epoch 86/100\n",
      "170/170 [==============================] - 2s 10ms/sample - loss: nan - dice_coefficient: -166.7016 - val_loss: nan - val_dice_coefficient: 4.7732\n",
      "Epoch 87/100\n",
      "170/170 [==============================] - 2s 10ms/sample - loss: 1.5288 - dice_coefficient: 67.7863 - val_loss: 1.1333 - val_dice_coefficient: 65.7821\n",
      "Epoch 88/100\n",
      "170/170 [==============================] - 2s 10ms/sample - loss: nan - dice_coefficient: 14.0725 - val_loss: 1.1104 - val_dice_coefficient: 61.6185\n",
      "Epoch 89/100\n",
      "170/170 [==============================] - 2s 10ms/sample - loss: nan - dice_coefficient: -9851.1328 - val_loss: 2.4389 - val_dice_coefficient: 9.9372\n",
      "Epoch 90/100\n",
      "170/170 [==============================] - 2s 10ms/sample - loss: 2.7282 - dice_coefficient: 7.0836 - val_loss: 2.8278 - val_dice_coefficient: 6.6334\n",
      "Epoch 91/100\n",
      "170/170 [==============================] - 2s 10ms/sample - loss: 2.8530 - dice_coefficient: 6.2726 - val_loss: 2.8716 - val_dice_coefficient: 6.3565\n",
      "Epoch 92/100\n",
      "170/170 [==============================] - 2s 10ms/sample - loss: 2.8649 - dice_coefficient: 6.2103 - val_loss: 2.8786 - val_dice_coefficient: 6.3129\n",
      "Epoch 93/100\n",
      "170/170 [==============================] - 2s 10ms/sample - loss: 2.8289 - dice_coefficient: 6.6482 - val_loss: 2.8787 - val_dice_coefficient: 6.3132\n",
      "Epoch 94/100\n",
      "170/170 [==============================] - 2s 10ms/sample - loss: 2.8307 - dice_coefficient: 6.4574 - val_loss: 2.8690 - val_dice_coefficient: 6.3818\n",
      "Epoch 95/100\n",
      "170/170 [==============================] - 2s 10ms/sample - loss: 2.8165 - dice_coefficient: 6.5150 - val_loss: 2.8490 - val_dice_coefficient: 6.5263\n",
      "Epoch 96/100\n",
      "170/170 [==============================] - 2s 10ms/sample - loss: 2.7884 - dice_coefficient: 6.7585 - val_loss: 2.8205 - val_dice_coefficient: 6.7376\n",
      "Epoch 97/100\n",
      "170/170 [==============================] - 2s 10ms/sample - loss: 2.7611 - dice_coefficient: 7.0182 - val_loss: 2.7886 - val_dice_coefficient: 6.9829\n",
      "Epoch 98/100\n",
      "170/170 [==============================] - 2s 10ms/sample - loss: 2.7340 - dice_coefficient: 7.2215 - val_loss: 2.7579 - val_dice_coefficient: 7.2289\n",
      "Epoch 99/100\n",
      "170/170 [==============================] - 2s 10ms/sample - loss: 2.7083 - dice_coefficient: 7.4063 - val_loss: 2.7265 - val_dice_coefficient: 7.4936\n",
      "Epoch 100/100\n",
      "170/170 [==============================] - 2s 10ms/sample - loss: 2.6789 - dice_coefficient: 7.5653 - val_loss: 2.6896 - val_dice_coefficient: 7.8176\n"
     ]
    },
    {
     "data": {
      "text/plain": [
       "<tensorflow.python.keras.callbacks.History at 0x7fac414e9748>"
      ]
     },
     "execution_count": 37,
     "metadata": {
      "tags": []
     },
     "output_type": "execute_result"
    }
   ],
   "source": [
    "# fit model\n",
    "model.fit(\n",
    "    x=x_train,\n",
    "    y=y_train,\n",
    "    batch_size=10,    \n",
    "    epochs=100,\n",
    "    validation_data=(x_val, y_valid),\n",
    ")"
   ]
  },
  {
   "cell_type": "code",
   "execution_count": 38,
   "metadata": {
    "colab": {
     "base_uri": "https://localhost:8080/"
    },
    "executionInfo": {
     "elapsed": 208222,
     "status": "ok",
     "timestamp": 1610208784984,
     "user": {
      "displayName": "Abhishek Singh",
      "photoUrl": "",
      "userId": "02564130673443773880"
     },
     "user_tz": -330
    },
    "id": "pji6TRYu0oV-",
    "outputId": "5eb7a19d-b790-4884-afbe-e5796d345107"
   },
   "outputs": [
    {
     "name": "stdout",
     "output_type": "stream",
     "text": [
      "30/30 [==============================] - 3s 101ms/sample - loss: 2.7288 - dice_coefficient: 7.2216\n"
     ]
    },
    {
     "data": {
      "text/plain": [
       "[2.7287700176239014, 7.2215586]"
      ]
     },
     "execution_count": 38,
     "metadata": {
      "tags": []
     },
     "output_type": "execute_result"
    }
   ],
   "source": [
    "model.evaluate(x_val, y_valid, verbose=1)"
   ]
  },
  {
   "cell_type": "code",
   "execution_count": 39,
   "metadata": {
    "colab": {
     "base_uri": "https://localhost:8080/"
    },
    "executionInfo": {
     "elapsed": 211229,
     "status": "ok",
     "timestamp": 1610208787996,
     "user": {
      "displayName": "Abhishek Singh",
      "photoUrl": "",
      "userId": "02564130673443773880"
     },
     "user_tz": -330
    },
    "id": "YhG5iOxz4QSH",
    "outputId": "60a61954-e1cd-4191-b3bd-4cbb55ed042a"
   },
   "outputs": [
    {
     "name": "stdout",
     "output_type": "stream",
     "text": [
      "170/170 [==============================] - 3s 19ms/sample\n",
      "30/30 [==============================] - 0s 2ms/sample\n"
     ]
    }
   ],
   "source": [
    "# Predict on train, val and test\n",
    "preds_train = model.predict(x_train, verbose=1)\n",
    "preds_val = model.predict(x_val, verbose=1)\n",
    "\n",
    "import numpy as np\n",
    "\n",
    "# Threshold predictions\n",
    "# preds_train_t = (preds_train > 0.5).astype(np.uint8)\n",
    "# preds_val_t = (preds_val > 0.5).astype(np.uint8)"
   ]
  },
  {
   "cell_type": "code",
   "execution_count": 40,
   "metadata": {
    "colab": {
     "base_uri": "https://localhost:8080/"
    },
    "executionInfo": {
     "elapsed": 211226,
     "status": "ok",
     "timestamp": 1610208787997,
     "user": {
      "displayName": "Abhishek Singh",
      "photoUrl": "",
      "userId": "02564130673443773880"
     },
     "user_tz": -330
    },
    "id": "eaUsEyZgfPIR",
    "outputId": "b4f27635-9d1e-4bec-bea0-ad046fc71a8a"
   },
   "outputs": [
    {
     "data": {
      "text/plain": [
       "(128, 128, 3)"
      ]
     },
     "execution_count": 40,
     "metadata": {
      "tags": []
     },
     "output_type": "execute_result"
    }
   ],
   "source": [
    "preds_train[0].shape"
   ]
  },
  {
   "cell_type": "code",
   "execution_count": 41,
   "metadata": {
    "colab": {
     "base_uri": "https://localhost:8080/"
    },
    "executionInfo": {
     "elapsed": 212785,
     "status": "ok",
     "timestamp": 1610208789560,
     "user": {
      "displayName": "Abhishek Singh",
      "photoUrl": "",
      "userId": "02564130673443773880"
     },
     "user_tz": -330
    },
    "id": "iM55AgpabY-b",
    "outputId": "c5310b85-3236-4a74-d389-1c698bfc29c8"
   },
   "outputs": [
    {
     "name": "stdout",
     "output_type": "stream",
     "text": [
      "Saved model to disk\n"
     ]
    }
   ],
   "source": [
    "#Save weights\n",
    "from tensorflow.keras.models import model_from_json\n",
    "\n",
    "# serialize model to JSON\n",
    "model_json = model.to_json()\n",
    "with open(\"model.json\", \"w\") as json_file:\n",
    "    json_file.write(model_json)\n",
    "# serialize weights to HDF5\n",
    "model.save_weights(\"model.h5\")\n",
    "print(\"Saved model to disk\")"
   ]
  },
  {
   "cell_type": "code",
   "execution_count": 42,
   "metadata": {
    "executionInfo": {
     "elapsed": 212780,
     "status": "ok",
     "timestamp": 1610208789561,
     "user": {
      "displayName": "Abhishek Singh",
      "photoUrl": "",
      "userId": "02564130673443773880"
     },
     "user_tz": -330
    },
    "id": "MO-sD5eo9WUm"
   },
   "outputs": [],
   "source": [
    "import matplotlib.pyplot as plt"
   ]
  },
  {
   "cell_type": "code",
   "execution_count": 45,
   "metadata": {
    "colab": {
     "base_uri": "https://localhost:8080/",
     "height": 285
    },
    "executionInfo": {
     "elapsed": 1689,
     "status": "ok",
     "timestamp": 1610209142062,
     "user": {
      "displayName": "Abhishek Singh",
      "photoUrl": "",
      "userId": "02564130673443773880"
     },
     "user_tz": -330
    },
    "id": "ynYPxbGMLjlo",
    "outputId": "4f6b4120-9d33-405c-f2af-013584abd5ea"
   },
   "outputs": [
    {
     "data": {
      "text/plain": [
       "<matplotlib.image.AxesImage at 0x7fac2e224f28>"
      ]
     },
     "execution_count": 45,
     "metadata": {
      "tags": []
     },
     "output_type": "execute_result"
    },
    {
     "data": {
      "image/png": "[encoded data removed]",
      "text/plain": [
       "<Figure size 432x288 with 1 Axes>"
      ]
     },
     "metadata": {
      "needs_background": "light",
      "tags": []
     },
     "output_type": "display_data"
    }
   ],
   "source": [
    "plt.imshow(x_train[3])"
   ]
  },
  {
   "cell_type": "code",
   "execution_count": 47,
   "metadata": {
    "colab": {
     "base_uri": "https://localhost:8080/",
     "height": 302
    },
    "executionInfo": {
     "elapsed": 1160,
     "status": "ok",
     "timestamp": 1610209321903,
     "user": {
      "displayName": "Abhishek Singh",
      "photoUrl": "",
      "userId": "02564130673443773880"
     },
     "user_tz": -330
    },
    "id": "3ZTBIkdpLqjF",
    "outputId": "7a918ba2-3038-481f-b11b-44e1a7060892"
   },
   "outputs": [
    {
     "name": "stderr",
     "output_type": "stream",
     "text": [
      "Clipping input data to the valid range for imshow with RGB data ([0..1] for floats or [0..255] for integers).\n"
     ]
    },
    {
     "data": {
      "text/plain": [
       "<matplotlib.image.AxesImage at 0x7fac2e173b70>"
      ]
     },
     "execution_count": 47,
     "metadata": {
      "tags": []
     },
     "output_type": "execute_result"
    },
    {
     "data": {
      "image/png": "[encoded data removed]",
      "text/plain": [
       "<Figure size 432x288 with 1 Axes>"
      ]
     },
     "metadata": {
      "needs_background": "light",
      "tags": []
     },
     "output_type": "display_data"
    }
   ],
   "source": [
    "plt.imshow(preds_train[3])"
   ]
  },
  {
   "cell_type": "code",
   "execution_count": 44,
   "metadata": {
    "executionInfo": {
     "elapsed": 213317,
     "status": "ok",
     "timestamp": 1610208790110,
     "user": {
      "displayName": "Abhishek Singh",
      "photoUrl": "",
      "userId": "02564130673443773880"
     },
     "user_tz": -330
    },
    "id": "FIjWiGPfO5tm"
   },
   "outputs": [],
   "source": []
  }
 ],
 "metadata": {
  "accelerator": "GPU",
  "colab": {
   "collapsed_sections": [],
   "name": "UNET_Semantic_Segmentation_Scene_Understanding.ipynb",
   "provenance": [],
   "toc_visible": true
  },
  "kernelspec": {
   "display_name": "Python 3",
   "language": "python",
   "name": "python3"
  },
  "language_info": {
   "codemirror_mode": {
    "name": "ipython",
    "version": 3
   },
   "file_extension": ".py",
   "mimetype": "text/x-python",
   "name": "python",
   "nbconvert_exporter": "python",
   "pygments_lexer": "ipython3",
   "version": "3.8.8"
  }
 },
 "nbformat": 4,
 "nbformat_minor": 4
}
